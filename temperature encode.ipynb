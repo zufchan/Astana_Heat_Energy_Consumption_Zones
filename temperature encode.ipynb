{
 "cells": [
  {
   "cell_type": "code",
   "execution_count": 31,
   "metadata": {},
   "outputs": [],
   "source": [
    "import pandas as pd\n",
    "import numpy as np"
   ]
  },
  {
   "cell_type": "code",
   "execution_count": 43,
   "metadata": {},
   "outputs": [],
   "source": [
    "#separator doesn't work properly\n",
    "df = pd.read_csv('meteo_data.csv',sep=';')\n"
   ]
  },
  {
   "cell_type": "code",
   "execution_count": 44,
   "metadata": {},
   "outputs": [],
   "source": [
    "names= df.columns.str.split(';').tolist()\n",
    "df = df.iloc[:,0].str.split(';', expand=True)\n",
    "df.columns = names"
   ]
  },
  {
   "cell_type": "code",
   "execution_count": 87,
   "metadata": {
    "scrolled": false
   },
   "outputs": [
    {
     "name": "stderr",
     "output_type": "stream",
     "text": [
      "c:\\users\\bakhtiyar\\appdata\\local\\programs\\python\\python39\\lib\\site-packages\\pandas\\core\\generic.py:3887: PerformanceWarning: dropping on a non-lexsorted multi-index without a level parameter may impact performance.\n",
      "  obj = obj._drop_axis(labels, axis, level=level, errors=errors)\n"
     ]
    }
   ],
   "source": [
    "df.drop(columns=[''],inplace=True)"
   ]
  },
  {
   "cell_type": "code",
   "execution_count": 160,
   "metadata": {},
   "outputs": [
    {
     "data": {
      "text/html": [
       "<div>\n",
       "<style scoped>\n",
       "    .dataframe tbody tr th:only-of-type {\n",
       "        vertical-align: middle;\n",
       "    }\n",
       "\n",
       "    .dataframe tbody tr th {\n",
       "        vertical-align: top;\n",
       "    }\n",
       "\n",
       "    .dataframe thead tr th {\n",
       "        text-align: left;\n",
       "    }\n",
       "</style>\n",
       "<table border=\"1\" class=\"dataframe\">\n",
       "  <thead>\n",
       "    <tr>\n",
       "      <th></th>\n",
       "      <th>Время</th>\n",
       "      <th>Дата</th>\n",
       "      <th>Напр.ветра</th>\n",
       "      <th>Ск.ветра</th>\n",
       "      <th>Видим.</th>\n",
       "      <th>Явл.</th>\n",
       "      <th>Обл.</th>\n",
       "      <th>Форма обл.</th>\n",
       "      <th>Т</th>\n",
       "      <th>Тd</th>\n",
       "      <th>f</th>\n",
       "      <th>Тe</th>\n",
       "      <th>Pmin</th>\n",
       "      <th>dP</th>\n",
       "      <th>Po</th>\n",
       "      <th>Тmin</th>\n",
       "      <th>Tmax</th>\n",
       "      <th>R</th>\n",
       "      <th>s</th>\n",
       "      <th>Сост.почвы</th>\n",
       "    </tr>\n",
       "  </thead>\n",
       "  <tbody>\n",
       "    <tr>\n",
       "      <th>0</th>\n",
       "      <td>00</td>\n",
       "      <td>01.01.16</td>\n",
       "      <td>060</td>\n",
       "      <td>3</td>\n",
       "      <td>н/о</td>\n",
       "      <td></td>\n",
       "      <td>10/0 верхняя</td>\n",
       "      <td>[Cs]</td>\n",
       "      <td>-20.5</td>\n",
       "      <td>-23.5</td>\n",
       "      <td>77</td>\n",
       "      <td>-25</td>\n",
       "      <td>1030.2</td>\n",
       "      <td>-1.5</td>\n",
       "      <td>982.9</td>\n",
       "      <td></td>\n",
       "      <td></td>\n",
       "      <td></td>\n",
       "      <td></td>\n",
       "      <td></td>\n",
       "    </tr>\n",
       "    <tr>\n",
       "      <th>1</th>\n",
       "      <td>03</td>\n",
       "      <td>01.01.16</td>\n",
       "      <td>050</td>\n",
       "      <td>4</td>\n",
       "      <td>4000 м</td>\n",
       "      <td>дым</td>\n",
       "      <td>ясно</td>\n",
       "      <td></td>\n",
       "      <td>-19.6</td>\n",
       "      <td>-22.6</td>\n",
       "      <td>77</td>\n",
       "      <td>-25</td>\n",
       "      <td>1028</td>\n",
       "      <td>-1.9</td>\n",
       "      <td>981</td>\n",
       "      <td></td>\n",
       "      <td></td>\n",
       "      <td></td>\n",
       "      <td>13</td>\n",
       "      <td>равномерный</td>\n",
       "    </tr>\n",
       "    <tr>\n",
       "      <th>2</th>\n",
       "      <td>сухой снег</td>\n",
       "      <td>None</td>\n",
       "      <td>None</td>\n",
       "      <td>None</td>\n",
       "      <td>None</td>\n",
       "      <td>None</td>\n",
       "      <td>None</td>\n",
       "      <td>None</td>\n",
       "      <td>None</td>\n",
       "      <td>None</td>\n",
       "      <td>None</td>\n",
       "      <td>None</td>\n",
       "      <td>None</td>\n",
       "      <td>None</td>\n",
       "      <td>None</td>\n",
       "      <td>None</td>\n",
       "      <td>None</td>\n",
       "      <td>None</td>\n",
       "      <td>None</td>\n",
       "      <td>None</td>\n",
       "    </tr>\n",
       "    <tr>\n",
       "      <th>3</th>\n",
       "      <td>100%</td>\n",
       "      <td></td>\n",
       "      <td>None</td>\n",
       "      <td>None</td>\n",
       "      <td>None</td>\n",
       "      <td>None</td>\n",
       "      <td>None</td>\n",
       "      <td>None</td>\n",
       "      <td>None</td>\n",
       "      <td>None</td>\n",
       "      <td>None</td>\n",
       "      <td>None</td>\n",
       "      <td>None</td>\n",
       "      <td>None</td>\n",
       "      <td>None</td>\n",
       "      <td>None</td>\n",
       "      <td>None</td>\n",
       "      <td>None</td>\n",
       "      <td>None</td>\n",
       "      <td>None</td>\n",
       "    </tr>\n",
       "    <tr>\n",
       "      <th>4</th>\n",
       "      <td>06</td>\n",
       "      <td>01.01.16</td>\n",
       "      <td>070</td>\n",
       "      <td>5</td>\n",
       "      <td>4000 м</td>\n",
       "      <td>позёмок</td>\n",
       "      <td>10/0 средняя</td>\n",
       "      <td>[Ac As]</td>\n",
       "      <td>-18.2</td>\n",
       "      <td>-21.5</td>\n",
       "      <td>75</td>\n",
       "      <td>-24</td>\n",
       "      <td>1026.5</td>\n",
       "      <td>-1.2</td>\n",
       "      <td>979.8</td>\n",
       "      <td>-21.6</td>\n",
       "      <td></td>\n",
       "      <td></td>\n",
       "      <td></td>\n",
       "      <td></td>\n",
       "    </tr>\n",
       "    <tr>\n",
       "      <th>...</th>\n",
       "      <td>...</td>\n",
       "      <td>...</td>\n",
       "      <td>...</td>\n",
       "      <td>...</td>\n",
       "      <td>...</td>\n",
       "      <td>...</td>\n",
       "      <td>...</td>\n",
       "      <td>...</td>\n",
       "      <td>...</td>\n",
       "      <td>...</td>\n",
       "      <td>...</td>\n",
       "      <td>...</td>\n",
       "      <td>...</td>\n",
       "      <td>...</td>\n",
       "      <td>...</td>\n",
       "      <td>...</td>\n",
       "      <td>...</td>\n",
       "      <td>...</td>\n",
       "      <td>...</td>\n",
       "      <td>...</td>\n",
       "    </tr>\n",
       "    <tr>\n",
       "      <th>1148</th>\n",
       "      <td>15</td>\n",
       "      <td>01.05.16</td>\n",
       "      <td>тихо</td>\n",
       "      <td></td>\n",
       "      <td>10 км</td>\n",
       "      <td></td>\n",
       "      <td>10/0 верхняя</td>\n",
       "      <td>[Cs]</td>\n",
       "      <td>+13.9</td>\n",
       "      <td>-4.3</td>\n",
       "      <td>28</td>\n",
       "      <td>+14</td>\n",
       "      <td>1015.2</td>\n",
       "      <td>-1</td>\n",
       "      <td>974.1</td>\n",
       "      <td></td>\n",
       "      <td>+17.3</td>\n",
       "      <td></td>\n",
       "      <td></td>\n",
       "      <td></td>\n",
       "    </tr>\n",
       "    <tr>\n",
       "      <th>1149</th>\n",
       "      <td>18</td>\n",
       "      <td>01.05.16</td>\n",
       "      <td>090</td>\n",
       "      <td>1</td>\n",
       "      <td>н/о</td>\n",
       "      <td></td>\n",
       "      <td>10/0 верхняя</td>\n",
       "      <td>[Cs]</td>\n",
       "      <td>+12.9</td>\n",
       "      <td>-3.8</td>\n",
       "      <td>31</td>\n",
       "      <td>+14</td>\n",
       "      <td>1014.9</td>\n",
       "      <td>-0.4</td>\n",
       "      <td>973.7</td>\n",
       "      <td></td>\n",
       "      <td>+17.3</td>\n",
       "      <td></td>\n",
       "      <td></td>\n",
       "      <td></td>\n",
       "    </tr>\n",
       "    <tr>\n",
       "      <th>1150</th>\n",
       "      <td>21</td>\n",
       "      <td>01.05.16</td>\n",
       "      <td>тихо</td>\n",
       "      <td></td>\n",
       "      <td>н/о</td>\n",
       "      <td></td>\n",
       "      <td>10/0 верхняя</td>\n",
       "      <td>[Ci sp]</td>\n",
       "      <td>+7.5</td>\n",
       "      <td>-1.5</td>\n",
       "      <td>53</td>\n",
       "      <td>+8</td>\n",
       "      <td>1014.7</td>\n",
       "      <td>-1</td>\n",
       "      <td>972.7</td>\n",
       "      <td></td>\n",
       "      <td></td>\n",
       "      <td></td>\n",
       "      <td></td>\n",
       "      <td></td>\n",
       "    </tr>\n",
       "    <tr>\n",
       "      <th>1151</th>\n",
       "      <td>00</td>\n",
       "      <td>02.05.16</td>\n",
       "      <td>тихо</td>\n",
       "      <td></td>\n",
       "      <td>10 км</td>\n",
       "      <td></td>\n",
       "      <td>10/0 средняя, верхняя</td>\n",
       "      <td>[Ac As|Ci]</td>\n",
       "      <td>+7.1</td>\n",
       "      <td>-0.1</td>\n",
       "      <td>60</td>\n",
       "      <td>+7</td>\n",
       "      <td>1014.6</td>\n",
       "      <td>-0.1</td>\n",
       "      <td>972.6</td>\n",
       "      <td></td>\n",
       "      <td></td>\n",
       "      <td></td>\n",
       "      <td></td>\n",
       "      <td></td>\n",
       "    </tr>\n",
       "    <tr>\n",
       "      <th>1152</th>\n",
       "      <td>03</td>\n",
       "      <td>02.05.16</td>\n",
       "      <td>340</td>\n",
       "      <td>1</td>\n",
       "      <td>10 км</td>\n",
       "      <td></td>\n",
       "      <td>10/0 верхняя</td>\n",
       "      <td>[Ci]</td>\n",
       "      <td>+12.8</td>\n",
       "      <td>-1.5</td>\n",
       "      <td>37</td>\n",
       "      <td>+14</td>\n",
       "      <td>1014.3</td>\n",
       "      <td>0.5</td>\n",
       "      <td>973.1</td>\n",
       "      <td></td>\n",
       "      <td></td>\n",
       "      <td></td>\n",
       "      <td></td>\n",
       "      <td></td>\n",
       "    </tr>\n",
       "  </tbody>\n",
       "</table>\n",
       "<p>1153 rows × 20 columns</p>\n",
       "</div>"
      ],
      "text/plain": [
       "           Время      Дата Напр.ветра Ск.ветра  Видим.     Явл.  \\\n",
       "0             00  01.01.16        060        3     н/о            \n",
       "1             03  01.01.16        050        4  4000 м      дым   \n",
       "2     сухой снег      None       None     None    None     None   \n",
       "3           100%                 None     None    None     None   \n",
       "4             06  01.01.16        070        5  4000 м  позёмок   \n",
       "...          ...       ...        ...      ...     ...      ...   \n",
       "1148          15  01.05.16       тихо            10 км            \n",
       "1149          18  01.05.16        090        1     н/о            \n",
       "1150          21  01.05.16       тихо              н/о            \n",
       "1151          00  02.05.16       тихо            10 км            \n",
       "1152          03  02.05.16        340        1   10 км            \n",
       "\n",
       "                       Обл.  Форма обл.      Т     Тd     f    Тe    Pmin  \\\n",
       "0              10/0 верхняя        [Cs]  -20.5  -23.5    77   -25  1030.2   \n",
       "1                      ясно              -19.6  -22.6    77   -25    1028   \n",
       "2                      None        None   None   None  None  None    None   \n",
       "3                      None        None   None   None  None  None    None   \n",
       "4              10/0 средняя     [Ac As]  -18.2  -21.5    75   -24  1026.5   \n",
       "...                     ...         ...    ...    ...   ...   ...     ...   \n",
       "1148           10/0 верхняя        [Cs]  +13.9   -4.3    28   +14  1015.2   \n",
       "1149           10/0 верхняя        [Cs]  +12.9   -3.8    31   +14  1014.9   \n",
       "1150           10/0 верхняя     [Ci sp]   +7.5   -1.5    53    +8  1014.7   \n",
       "1151  10/0 средняя, верхняя  [Ac As|Ci]   +7.1   -0.1    60    +7  1014.6   \n",
       "1152           10/0 верхняя        [Ci]  +12.8   -1.5    37   +14  1014.3   \n",
       "\n",
       "        dP     Po   Тmin   Tmax     R     s   Сост.почвы  \n",
       "0     -1.5  982.9                                         \n",
       "1     -1.9    981                        13  равномерный  \n",
       "2     None   None   None   None  None  None         None  \n",
       "3     None   None   None   None  None  None         None  \n",
       "4     -1.2  979.8  -21.6                                  \n",
       "...    ...    ...    ...    ...   ...   ...          ...  \n",
       "1148    -1  974.1         +17.3                           \n",
       "1149  -0.4  973.7         +17.3                           \n",
       "1150    -1  972.7                                         \n",
       "1151  -0.1  972.6                                         \n",
       "1152   0.5  973.1                                         \n",
       "\n",
       "[1153 rows x 20 columns]"
      ]
     },
     "execution_count": 160,
     "metadata": {},
     "output_type": "execute_result"
    }
   ],
   "source": [
    "df"
   ]
  },
  {
   "cell_type": "code",
   "execution_count": 159,
   "metadata": {},
   "outputs": [
    {
     "data": {
      "text/html": [
       "<div>\n",
       "<style scoped>\n",
       "    .dataframe tbody tr th:only-of-type {\n",
       "        vertical-align: middle;\n",
       "    }\n",
       "\n",
       "    .dataframe tbody tr th {\n",
       "        vertical-align: top;\n",
       "    }\n",
       "\n",
       "    .dataframe thead tr th {\n",
       "        text-align: left;\n",
       "    }\n",
       "</style>\n",
       "<table border=\"1\" class=\"dataframe\">\n",
       "  <thead>\n",
       "    <tr>\n",
       "      <th></th>\n",
       "      <th>Время</th>\n",
       "      <th>Дата</th>\n",
       "      <th>Напр.ветра</th>\n",
       "      <th>Ск.ветра</th>\n",
       "      <th>Видим.</th>\n",
       "      <th>Явл.</th>\n",
       "      <th>Обл.</th>\n",
       "      <th>Форма обл.</th>\n",
       "      <th>Т</th>\n",
       "      <th>Тd</th>\n",
       "      <th>f</th>\n",
       "      <th>Тe</th>\n",
       "      <th>Pmin</th>\n",
       "      <th>dP</th>\n",
       "      <th>Po</th>\n",
       "      <th>Тmin</th>\n",
       "      <th>Tmax</th>\n",
       "      <th>R</th>\n",
       "      <th>s</th>\n",
       "      <th>Сост.почвы</th>\n",
       "    </tr>\n",
       "  </thead>\n",
       "  <tbody>\n",
       "    <tr>\n",
       "      <th>2</th>\n",
       "      <td>сухой снег</td>\n",
       "      <td>None</td>\n",
       "      <td>None</td>\n",
       "      <td>None</td>\n",
       "      <td>None</td>\n",
       "      <td>None</td>\n",
       "      <td>None</td>\n",
       "      <td>None</td>\n",
       "      <td>None</td>\n",
       "      <td>None</td>\n",
       "      <td>None</td>\n",
       "      <td>None</td>\n",
       "      <td>None</td>\n",
       "      <td>None</td>\n",
       "      <td>None</td>\n",
       "      <td>None</td>\n",
       "      <td>None</td>\n",
       "      <td>None</td>\n",
       "      <td>None</td>\n",
       "      <td>None</td>\n",
       "    </tr>\n",
       "    <tr>\n",
       "      <th>3</th>\n",
       "      <td>100%</td>\n",
       "      <td></td>\n",
       "      <td>None</td>\n",
       "      <td>None</td>\n",
       "      <td>None</td>\n",
       "      <td>None</td>\n",
       "      <td>None</td>\n",
       "      <td>None</td>\n",
       "      <td>None</td>\n",
       "      <td>None</td>\n",
       "      <td>None</td>\n",
       "      <td>None</td>\n",
       "      <td>None</td>\n",
       "      <td>None</td>\n",
       "      <td>None</td>\n",
       "      <td>None</td>\n",
       "      <td>None</td>\n",
       "      <td>None</td>\n",
       "      <td>None</td>\n",
       "      <td>None</td>\n",
       "    </tr>\n",
       "    <tr>\n",
       "      <th>12</th>\n",
       "      <td>сухой снег</td>\n",
       "      <td>None</td>\n",
       "      <td>None</td>\n",
       "      <td>None</td>\n",
       "      <td>None</td>\n",
       "      <td>None</td>\n",
       "      <td>None</td>\n",
       "      <td>None</td>\n",
       "      <td>None</td>\n",
       "      <td>None</td>\n",
       "      <td>None</td>\n",
       "      <td>None</td>\n",
       "      <td>None</td>\n",
       "      <td>None</td>\n",
       "      <td>None</td>\n",
       "      <td>None</td>\n",
       "      <td>None</td>\n",
       "      <td>None</td>\n",
       "      <td>None</td>\n",
       "      <td>None</td>\n",
       "    </tr>\n",
       "    <tr>\n",
       "      <th>13</th>\n",
       "      <td>100%</td>\n",
       "      <td></td>\n",
       "      <td>None</td>\n",
       "      <td>None</td>\n",
       "      <td>None</td>\n",
       "      <td>None</td>\n",
       "      <td>None</td>\n",
       "      <td>None</td>\n",
       "      <td>None</td>\n",
       "      <td>None</td>\n",
       "      <td>None</td>\n",
       "      <td>None</td>\n",
       "      <td>None</td>\n",
       "      <td>None</td>\n",
       "      <td>None</td>\n",
       "      <td>None</td>\n",
       "      <td>None</td>\n",
       "      <td>None</td>\n",
       "      <td>None</td>\n",
       "      <td>None</td>\n",
       "    </tr>\n",
       "    <tr>\n",
       "      <th>22</th>\n",
       "      <td>сухой снег</td>\n",
       "      <td>None</td>\n",
       "      <td>None</td>\n",
       "      <td>None</td>\n",
       "      <td>None</td>\n",
       "      <td>None</td>\n",
       "      <td>None</td>\n",
       "      <td>None</td>\n",
       "      <td>None</td>\n",
       "      <td>None</td>\n",
       "      <td>None</td>\n",
       "      <td>None</td>\n",
       "      <td>None</td>\n",
       "      <td>None</td>\n",
       "      <td>None</td>\n",
       "      <td>None</td>\n",
       "      <td>None</td>\n",
       "      <td>None</td>\n",
       "      <td>None</td>\n",
       "      <td>None</td>\n",
       "    </tr>\n",
       "    <tr>\n",
       "      <th>...</th>\n",
       "      <td>...</td>\n",
       "      <td>...</td>\n",
       "      <td>...</td>\n",
       "      <td>...</td>\n",
       "      <td>...</td>\n",
       "      <td>...</td>\n",
       "      <td>...</td>\n",
       "      <td>...</td>\n",
       "      <td>...</td>\n",
       "      <td>...</td>\n",
       "      <td>...</td>\n",
       "      <td>...</td>\n",
       "      <td>...</td>\n",
       "      <td>...</td>\n",
       "      <td>...</td>\n",
       "      <td>...</td>\n",
       "      <td>...</td>\n",
       "      <td>...</td>\n",
       "      <td>...</td>\n",
       "      <td>...</td>\n",
       "    </tr>\n",
       "    <tr>\n",
       "      <th>813</th>\n",
       "      <td>10-40%</td>\n",
       "      <td></td>\n",
       "      <td>None</td>\n",
       "      <td>None</td>\n",
       "      <td>None</td>\n",
       "      <td>None</td>\n",
       "      <td>None</td>\n",
       "      <td>None</td>\n",
       "      <td>None</td>\n",
       "      <td>None</td>\n",
       "      <td>None</td>\n",
       "      <td>None</td>\n",
       "      <td>None</td>\n",
       "      <td>None</td>\n",
       "      <td>None</td>\n",
       "      <td>None</td>\n",
       "      <td>None</td>\n",
       "      <td>None</td>\n",
       "      <td>None</td>\n",
       "      <td>None</td>\n",
       "    </tr>\n",
       "    <tr>\n",
       "      <th>822</th>\n",
       "      <td>сухой снег</td>\n",
       "      <td>None</td>\n",
       "      <td>None</td>\n",
       "      <td>None</td>\n",
       "      <td>None</td>\n",
       "      <td>None</td>\n",
       "      <td>None</td>\n",
       "      <td>None</td>\n",
       "      <td>None</td>\n",
       "      <td>None</td>\n",
       "      <td>None</td>\n",
       "      <td>None</td>\n",
       "      <td>None</td>\n",
       "      <td>None</td>\n",
       "      <td>None</td>\n",
       "      <td>None</td>\n",
       "      <td>None</td>\n",
       "      <td>None</td>\n",
       "      <td>None</td>\n",
       "      <td>None</td>\n",
       "    </tr>\n",
       "    <tr>\n",
       "      <th>823</th>\n",
       "      <td>100%</td>\n",
       "      <td></td>\n",
       "      <td>None</td>\n",
       "      <td>None</td>\n",
       "      <td>None</td>\n",
       "      <td>None</td>\n",
       "      <td>None</td>\n",
       "      <td>None</td>\n",
       "      <td>None</td>\n",
       "      <td>None</td>\n",
       "      <td>None</td>\n",
       "      <td>None</td>\n",
       "      <td>None</td>\n",
       "      <td>None</td>\n",
       "      <td>None</td>\n",
       "      <td>None</td>\n",
       "      <td>None</td>\n",
       "      <td>None</td>\n",
       "      <td>None</td>\n",
       "      <td>None</td>\n",
       "    </tr>\n",
       "    <tr>\n",
       "      <th>832</th>\n",
       "      <td>старый снег</td>\n",
       "      <td>None</td>\n",
       "      <td>None</td>\n",
       "      <td>None</td>\n",
       "      <td>None</td>\n",
       "      <td>None</td>\n",
       "      <td>None</td>\n",
       "      <td>None</td>\n",
       "      <td>None</td>\n",
       "      <td>None</td>\n",
       "      <td>None</td>\n",
       "      <td>None</td>\n",
       "      <td>None</td>\n",
       "      <td>None</td>\n",
       "      <td>None</td>\n",
       "      <td>None</td>\n",
       "      <td>None</td>\n",
       "      <td>None</td>\n",
       "      <td>None</td>\n",
       "      <td>None</td>\n",
       "    </tr>\n",
       "    <tr>\n",
       "      <th>833</th>\n",
       "      <td>10-40%</td>\n",
       "      <td></td>\n",
       "      <td>None</td>\n",
       "      <td>None</td>\n",
       "      <td>None</td>\n",
       "      <td>None</td>\n",
       "      <td>None</td>\n",
       "      <td>None</td>\n",
       "      <td>None</td>\n",
       "      <td>None</td>\n",
       "      <td>None</td>\n",
       "      <td>None</td>\n",
       "      <td>None</td>\n",
       "      <td>None</td>\n",
       "      <td>None</td>\n",
       "      <td>None</td>\n",
       "      <td>None</td>\n",
       "      <td>None</td>\n",
       "      <td>None</td>\n",
       "      <td>None</td>\n",
       "    </tr>\n",
       "  </tbody>\n",
       "</table>\n",
       "<p>176 rows × 20 columns</p>\n",
       "</div>"
      ],
      "text/plain": [
       "           Время  Дата Напр.ветра Ск.ветра Видим.  Явл.  Обл. Форма обл.  \\\n",
       "2     сухой снег  None       None     None   None  None  None       None   \n",
       "3           100%             None     None   None  None  None       None   \n",
       "12    сухой снег  None       None     None   None  None  None       None   \n",
       "13          100%             None     None   None  None  None       None   \n",
       "22    сухой снег  None       None     None   None  None  None       None   \n",
       "..           ...   ...        ...      ...    ...   ...   ...        ...   \n",
       "813       10-40%             None     None   None  None  None       None   \n",
       "822   сухой снег  None       None     None   None  None  None       None   \n",
       "823         100%             None     None   None  None  None       None   \n",
       "832  старый снег  None       None     None   None  None  None       None   \n",
       "833       10-40%             None     None   None  None  None       None   \n",
       "\n",
       "        Т    Тd     f    Тe  Pmin    dP    Po  Тmin  Tmax     R     s  \\\n",
       "2    None  None  None  None  None  None  None  None  None  None  None   \n",
       "3    None  None  None  None  None  None  None  None  None  None  None   \n",
       "12   None  None  None  None  None  None  None  None  None  None  None   \n",
       "13   None  None  None  None  None  None  None  None  None  None  None   \n",
       "22   None  None  None  None  None  None  None  None  None  None  None   \n",
       "..    ...   ...   ...   ...   ...   ...   ...   ...   ...   ...   ...   \n",
       "813  None  None  None  None  None  None  None  None  None  None  None   \n",
       "822  None  None  None  None  None  None  None  None  None  None  None   \n",
       "823  None  None  None  None  None  None  None  None  None  None  None   \n",
       "832  None  None  None  None  None  None  None  None  None  None  None   \n",
       "833  None  None  None  None  None  None  None  None  None  None  None   \n",
       "\n",
       "    Сост.почвы  \n",
       "2         None  \n",
       "3         None  \n",
       "12        None  \n",
       "13        None  \n",
       "22        None  \n",
       "..         ...  \n",
       "813       None  \n",
       "822       None  \n",
       "823       None  \n",
       "832       None  \n",
       "833       None  \n",
       "\n",
       "[176 rows x 20 columns]"
      ]
     },
     "execution_count": 159,
     "metadata": {},
     "output_type": "execute_result"
    }
   ],
   "source": [
    "df.loc[pd.isna(df[df.drop(['Время'],axis=1).columns]).any(axis=1)]"
   ]
  },
  {
   "cell_type": "code",
   "execution_count": 161,
   "metadata": {},
   "outputs": [],
   "source": [
    "df.dropna(how='any',inplace=True)"
   ]
  },
  {
   "cell_type": "code",
   "execution_count": 164,
   "metadata": {},
   "outputs": [
    {
     "name": "stderr",
     "output_type": "stream",
     "text": [
      "c:\\users\\bakhtiyar\\appdata\\local\\programs\\python\\python39\\lib\\site-packages\\pandas\\core\\generic.py:3887: PerformanceWarning: dropping on a non-lexsorted multi-index without a level parameter may impact performance.\n",
      "  obj = obj._drop_axis(labels, axis, level=level, errors=errors)\n"
     ]
    }
   ],
   "source": [
    "df.drop(columns=['Сост.почвы'],inplace=True)"
   ]
  },
  {
   "cell_type": "code",
   "execution_count": 170,
   "metadata": {},
   "outputs": [],
   "source": [
    "df['Т'] = df[['Т']].astype(float)"
   ]
  },
  {
   "cell_type": "code",
   "execution_count": 203,
   "metadata": {},
   "outputs": [],
   "source": [
    "df.columns = names[0][:-2]"
   ]
  },
  {
   "cell_type": "code",
   "execution_count": 210,
   "metadata": {},
   "outputs": [],
   "source": [
    "df['dates'] = df['Дата'] + ' ' + df['Время']+ ':00:00'"
   ]
  },
  {
   "cell_type": "code",
   "execution_count": 213,
   "metadata": {},
   "outputs": [
    {
     "data": {
      "text/html": [
       "<div>\n",
       "<style scoped>\n",
       "    .dataframe tbody tr th:only-of-type {\n",
       "        vertical-align: middle;\n",
       "    }\n",
       "\n",
       "    .dataframe tbody tr th {\n",
       "        vertical-align: top;\n",
       "    }\n",
       "\n",
       "    .dataframe thead th {\n",
       "        text-align: right;\n",
       "    }\n",
       "</style>\n",
       "<table border=\"1\" class=\"dataframe\">\n",
       "  <thead>\n",
       "    <tr style=\"text-align: right;\">\n",
       "      <th></th>\n",
       "      <th>Время</th>\n",
       "      <th>Дата</th>\n",
       "      <th>Напр.ветра</th>\n",
       "      <th>Ск.ветра</th>\n",
       "      <th>Видим.</th>\n",
       "      <th>Явл.</th>\n",
       "      <th>Обл.</th>\n",
       "      <th>Форма обл.</th>\n",
       "      <th>Т</th>\n",
       "      <th>Тd</th>\n",
       "      <th>f</th>\n",
       "      <th>Тe</th>\n",
       "      <th>Pmin</th>\n",
       "      <th>dP</th>\n",
       "      <th>Po</th>\n",
       "      <th>Тmin</th>\n",
       "      <th>Tmax</th>\n",
       "      <th>R</th>\n",
       "      <th>s</th>\n",
       "      <th>dates</th>\n",
       "    </tr>\n",
       "  </thead>\n",
       "  <tbody>\n",
       "    <tr>\n",
       "      <th>0</th>\n",
       "      <td>00</td>\n",
       "      <td>01.01.16</td>\n",
       "      <td>060</td>\n",
       "      <td>3</td>\n",
       "      <td>н/о</td>\n",
       "      <td></td>\n",
       "      <td>10/0 верхняя</td>\n",
       "      <td>[Cs]</td>\n",
       "      <td>-20.5</td>\n",
       "      <td>-23.5</td>\n",
       "      <td>77</td>\n",
       "      <td>-25</td>\n",
       "      <td>1030.2</td>\n",
       "      <td>-1.5</td>\n",
       "      <td>982.9</td>\n",
       "      <td></td>\n",
       "      <td></td>\n",
       "      <td></td>\n",
       "      <td></td>\n",
       "      <td>01.01.16 00:00:00</td>\n",
       "    </tr>\n",
       "    <tr>\n",
       "      <th>1</th>\n",
       "      <td>03</td>\n",
       "      <td>01.01.16</td>\n",
       "      <td>050</td>\n",
       "      <td>4</td>\n",
       "      <td>4000 м</td>\n",
       "      <td>дым</td>\n",
       "      <td>ясно</td>\n",
       "      <td></td>\n",
       "      <td>-19.6</td>\n",
       "      <td>-22.6</td>\n",
       "      <td>77</td>\n",
       "      <td>-25</td>\n",
       "      <td>1028</td>\n",
       "      <td>-1.9</td>\n",
       "      <td>981</td>\n",
       "      <td></td>\n",
       "      <td></td>\n",
       "      <td></td>\n",
       "      <td>13</td>\n",
       "      <td>01.01.16 03:00:00</td>\n",
       "    </tr>\n",
       "    <tr>\n",
       "      <th>4</th>\n",
       "      <td>06</td>\n",
       "      <td>01.01.16</td>\n",
       "      <td>070</td>\n",
       "      <td>5</td>\n",
       "      <td>4000 м</td>\n",
       "      <td>позёмок</td>\n",
       "      <td>10/0 средняя</td>\n",
       "      <td>[Ac As]</td>\n",
       "      <td>-18.2</td>\n",
       "      <td>-21.5</td>\n",
       "      <td>75</td>\n",
       "      <td>-24</td>\n",
       "      <td>1026.5</td>\n",
       "      <td>-1.2</td>\n",
       "      <td>979.8</td>\n",
       "      <td>-21.6</td>\n",
       "      <td></td>\n",
       "      <td></td>\n",
       "      <td></td>\n",
       "      <td>01.01.16 06:00:00</td>\n",
       "    </tr>\n",
       "    <tr>\n",
       "      <th>5</th>\n",
       "      <td>09</td>\n",
       "      <td>01.01.16</td>\n",
       "      <td>060</td>\n",
       "      <td>6</td>\n",
       "      <td>1000 м</td>\n",
       "      <td>сильн. снег</td>\n",
       "      <td>10/9 300 м средняя</td>\n",
       "      <td>[Frnb|As op]</td>\n",
       "      <td>-16.5</td>\n",
       "      <td>-19.7</td>\n",
       "      <td>76</td>\n",
       "      <td>-23</td>\n",
       "      <td>1023.4</td>\n",
       "      <td>-2.7</td>\n",
       "      <td>977.1</td>\n",
       "      <td></td>\n",
       "      <td></td>\n",
       "      <td></td>\n",
       "      <td></td>\n",
       "      <td>01.01.16 09:00:00</td>\n",
       "    </tr>\n",
       "    <tr>\n",
       "      <th>6</th>\n",
       "      <td>12</td>\n",
       "      <td>01.01.16</td>\n",
       "      <td>060</td>\n",
       "      <td>6</td>\n",
       "      <td>н/о</td>\n",
       "      <td>слаб. снег</td>\n",
       "      <td>10/0 средняя</td>\n",
       "      <td>[As op]</td>\n",
       "      <td>-17.5</td>\n",
       "      <td>-20.7</td>\n",
       "      <td>76</td>\n",
       "      <td>-24</td>\n",
       "      <td>1025.2</td>\n",
       "      <td>1.6</td>\n",
       "      <td>978.7</td>\n",
       "      <td></td>\n",
       "      <td></td>\n",
       "      <td></td>\n",
       "      <td></td>\n",
       "      <td>01.01.16 12:00:00</td>\n",
       "    </tr>\n",
       "    <tr>\n",
       "      <th>7</th>\n",
       "      <td>15</td>\n",
       "      <td>01.01.16</td>\n",
       "      <td>050</td>\n",
       "      <td>7</td>\n",
       "      <td>н/о</td>\n",
       "      <td>позёмок{снег}</td>\n",
       "      <td>10/0 средняя</td>\n",
       "      <td>[As op]</td>\n",
       "      <td>-18.6</td>\n",
       "      <td>-21.8</td>\n",
       "      <td>76</td>\n",
       "      <td>-26</td>\n",
       "      <td>1026.5</td>\n",
       "      <td>1</td>\n",
       "      <td>979.7</td>\n",
       "      <td></td>\n",
       "      <td>-16.4</td>\n",
       "      <td>2</td>\n",
       "      <td></td>\n",
       "      <td>01.01.16 15:00:00</td>\n",
       "    </tr>\n",
       "    <tr>\n",
       "      <th>8</th>\n",
       "      <td>18</td>\n",
       "      <td>01.01.16</td>\n",
       "      <td>050</td>\n",
       "      <td>4</td>\n",
       "      <td>н/о</td>\n",
       "      <td>слаб. снег</td>\n",
       "      <td>10/9 1000 м средняя</td>\n",
       "      <td>[Sc|As op]</td>\n",
       "      <td>-19.6</td>\n",
       "      <td>-23</td>\n",
       "      <td>74</td>\n",
       "      <td>-25</td>\n",
       "      <td>1028.2</td>\n",
       "      <td>1.5</td>\n",
       "      <td>981.2</td>\n",
       "      <td></td>\n",
       "      <td>-16.4</td>\n",
       "      <td>2</td>\n",
       "      <td></td>\n",
       "      <td>01.01.16 18:00:00</td>\n",
       "    </tr>\n",
       "    <tr>\n",
       "      <th>9</th>\n",
       "      <td>21</td>\n",
       "      <td>01.01.16</td>\n",
       "      <td>060</td>\n",
       "      <td>4</td>\n",
       "      <td>н/о</td>\n",
       "      <td>дым{снег}</td>\n",
       "      <td>10/0 средняя</td>\n",
       "      <td>[As op]</td>\n",
       "      <td>-18.5</td>\n",
       "      <td>-21.8</td>\n",
       "      <td>75</td>\n",
       "      <td>-24</td>\n",
       "      <td>1028.6</td>\n",
       "      <td>0.5</td>\n",
       "      <td>981.7</td>\n",
       "      <td></td>\n",
       "      <td></td>\n",
       "      <td></td>\n",
       "      <td></td>\n",
       "      <td>01.01.16 21:00:00</td>\n",
       "    </tr>\n",
       "    <tr>\n",
       "      <th>10</th>\n",
       "      <td>00</td>\n",
       "      <td>02.01.16</td>\n",
       "      <td>060</td>\n",
       "      <td>4</td>\n",
       "      <td>н/о</td>\n",
       "      <td>слаб. снег</td>\n",
       "      <td>10/10 600 м</td>\n",
       "      <td>[Sc]</td>\n",
       "      <td>-17.1</td>\n",
       "      <td>-20.3</td>\n",
       "      <td>76</td>\n",
       "      <td>-22</td>\n",
       "      <td>1028.2</td>\n",
       "      <td>-0.1</td>\n",
       "      <td>981.6</td>\n",
       "      <td></td>\n",
       "      <td></td>\n",
       "      <td></td>\n",
       "      <td></td>\n",
       "      <td>02.01.16 00:00:00</td>\n",
       "    </tr>\n",
       "    <tr>\n",
       "      <th>11</th>\n",
       "      <td>03</td>\n",
       "      <td>02.01.16</td>\n",
       "      <td>060</td>\n",
       "      <td>3</td>\n",
       "      <td>4000 м</td>\n",
       "      <td>слаб. снег</td>\n",
       "      <td>10/10 300 м</td>\n",
       "      <td>[Sc]</td>\n",
       "      <td>-17.0</td>\n",
       "      <td>-20.2</td>\n",
       "      <td>76</td>\n",
       "      <td>-21</td>\n",
       "      <td>1029.4</td>\n",
       "      <td>1.2</td>\n",
       "      <td>982.8</td>\n",
       "      <td></td>\n",
       "      <td></td>\n",
       "      <td>0.8</td>\n",
       "      <td>17</td>\n",
       "      <td>02.01.16 03:00:00</td>\n",
       "    </tr>\n",
       "    <tr>\n",
       "      <th>14</th>\n",
       "      <td>06</td>\n",
       "      <td>02.01.16</td>\n",
       "      <td>060</td>\n",
       "      <td>3</td>\n",
       "      <td>10 км</td>\n",
       "      <td>в посл. час снег</td>\n",
       "      <td>10/10 660 м</td>\n",
       "      <td>[Sc]</td>\n",
       "      <td>-16.0</td>\n",
       "      <td>-19.7</td>\n",
       "      <td>73</td>\n",
       "      <td>-20</td>\n",
       "      <td>1031.1</td>\n",
       "      <td>1.8</td>\n",
       "      <td>984.6</td>\n",
       "      <td>-19.7</td>\n",
       "      <td></td>\n",
       "      <td>0.8</td>\n",
       "      <td></td>\n",
       "      <td>02.01.16 06:00:00</td>\n",
       "    </tr>\n",
       "    <tr>\n",
       "      <th>15</th>\n",
       "      <td>09</td>\n",
       "      <td>02.01.16</td>\n",
       "      <td>050</td>\n",
       "      <td>2</td>\n",
       "      <td>10 км</td>\n",
       "      <td></td>\n",
       "      <td>ясно</td>\n",
       "      <td></td>\n",
       "      <td>-14.9</td>\n",
       "      <td>-19.3</td>\n",
       "      <td>69</td>\n",
       "      <td>-17</td>\n",
       "      <td>1031.9</td>\n",
       "      <td>0.9</td>\n",
       "      <td>985.5</td>\n",
       "      <td></td>\n",
       "      <td></td>\n",
       "      <td></td>\n",
       "      <td></td>\n",
       "      <td>02.01.16 09:00:00</td>\n",
       "    </tr>\n",
       "    <tr>\n",
       "      <th>16</th>\n",
       "      <td>12</td>\n",
       "      <td>02.01.16</td>\n",
       "      <td>070</td>\n",
       "      <td>4</td>\n",
       "      <td>н/о</td>\n",
       "      <td>дым</td>\n",
       "      <td>ясно</td>\n",
       "      <td></td>\n",
       "      <td>-18.5</td>\n",
       "      <td>-21.5</td>\n",
       "      <td>77</td>\n",
       "      <td>-24</td>\n",
       "      <td>1034.3</td>\n",
       "      <td>1.7</td>\n",
       "      <td>987.2</td>\n",
       "      <td></td>\n",
       "      <td></td>\n",
       "      <td></td>\n",
       "      <td></td>\n",
       "      <td>02.01.16 12:00:00</td>\n",
       "    </tr>\n",
       "    <tr>\n",
       "      <th>17</th>\n",
       "      <td>15</td>\n",
       "      <td>02.01.16</td>\n",
       "      <td>040</td>\n",
       "      <td>3</td>\n",
       "      <td>н/о</td>\n",
       "      <td></td>\n",
       "      <td>ясно</td>\n",
       "      <td></td>\n",
       "      <td>-20.1</td>\n",
       "      <td>-22.9</td>\n",
       "      <td>78</td>\n",
       "      <td>-24</td>\n",
       "      <td>1035.7</td>\n",
       "      <td>1</td>\n",
       "      <td>988.2</td>\n",
       "      <td></td>\n",
       "      <td>-14.5</td>\n",
       "      <td>0.4</td>\n",
       "      <td></td>\n",
       "      <td>02.01.16 15:00:00</td>\n",
       "    </tr>\n",
       "    <tr>\n",
       "      <th>18</th>\n",
       "      <td>18</td>\n",
       "      <td>02.01.16</td>\n",
       "      <td>060</td>\n",
       "      <td>2</td>\n",
       "      <td>н/о</td>\n",
       "      <td></td>\n",
       "      <td>ясно</td>\n",
       "      <td></td>\n",
       "      <td>-21.7</td>\n",
       "      <td>-24.8</td>\n",
       "      <td>76</td>\n",
       "      <td>-25</td>\n",
       "      <td>1037</td>\n",
       "      <td>1</td>\n",
       "      <td>989.2</td>\n",
       "      <td></td>\n",
       "      <td>-14.5</td>\n",
       "      <td>0.4</td>\n",
       "      <td></td>\n",
       "      <td>02.01.16 18:00:00</td>\n",
       "    </tr>\n",
       "    <tr>\n",
       "      <th>19</th>\n",
       "      <td>21</td>\n",
       "      <td>02.01.16</td>\n",
       "      <td>050</td>\n",
       "      <td>4</td>\n",
       "      <td>н/о</td>\n",
       "      <td></td>\n",
       "      <td>10/10 500 м</td>\n",
       "      <td>[St]</td>\n",
       "      <td>-21.0</td>\n",
       "      <td>-24.1</td>\n",
       "      <td>76</td>\n",
       "      <td>-27</td>\n",
       "      <td>1037.1</td>\n",
       "      <td>0.2</td>\n",
       "      <td>989.4</td>\n",
       "      <td></td>\n",
       "      <td></td>\n",
       "      <td></td>\n",
       "      <td></td>\n",
       "      <td>02.01.16 21:00:00</td>\n",
       "    </tr>\n",
       "    <tr>\n",
       "      <th>20</th>\n",
       "      <td>00</td>\n",
       "      <td>03.01.16</td>\n",
       "      <td>050</td>\n",
       "      <td>4</td>\n",
       "      <td>н/о</td>\n",
       "      <td></td>\n",
       "      <td>3/3 300 м</td>\n",
       "      <td>[St]</td>\n",
       "      <td>-20.3</td>\n",
       "      <td>-23.4</td>\n",
       "      <td>76</td>\n",
       "      <td>-26</td>\n",
       "      <td>1036.1</td>\n",
       "      <td>-0.8</td>\n",
       "      <td>988.6</td>\n",
       "      <td></td>\n",
       "      <td></td>\n",
       "      <td></td>\n",
       "      <td></td>\n",
       "      <td>03.01.16 00:00:00</td>\n",
       "    </tr>\n",
       "    <tr>\n",
       "      <th>21</th>\n",
       "      <td>03</td>\n",
       "      <td>03.01.16</td>\n",
       "      <td>070</td>\n",
       "      <td>5</td>\n",
       "      <td>10 км</td>\n",
       "      <td>дым</td>\n",
       "      <td>4/4 120 м</td>\n",
       "      <td>[St]</td>\n",
       "      <td>-19.6</td>\n",
       "      <td>-22.7</td>\n",
       "      <td>76</td>\n",
       "      <td>-26</td>\n",
       "      <td>1035.4</td>\n",
       "      <td>-0.6</td>\n",
       "      <td>988</td>\n",
       "      <td></td>\n",
       "      <td></td>\n",
       "      <td></td>\n",
       "      <td>17</td>\n",
       "      <td>03.01.16 03:00:00</td>\n",
       "    </tr>\n",
       "    <tr>\n",
       "      <th>24</th>\n",
       "      <td>06</td>\n",
       "      <td>03.01.16</td>\n",
       "      <td>070</td>\n",
       "      <td>4</td>\n",
       "      <td>10 км</td>\n",
       "      <td></td>\n",
       "      <td>6/6 150 м</td>\n",
       "      <td>[St]</td>\n",
       "      <td>-18.0</td>\n",
       "      <td>-21.7</td>\n",
       "      <td>73</td>\n",
       "      <td>-23</td>\n",
       "      <td>1035.1</td>\n",
       "      <td>0</td>\n",
       "      <td>988</td>\n",
       "      <td>-21.7</td>\n",
       "      <td></td>\n",
       "      <td></td>\n",
       "      <td></td>\n",
       "      <td>03.01.16 06:00:00</td>\n",
       "    </tr>\n",
       "    <tr>\n",
       "      <th>25</th>\n",
       "      <td>09</td>\n",
       "      <td>03.01.16</td>\n",
       "      <td>060</td>\n",
       "      <td>4</td>\n",
       "      <td>10 км</td>\n",
       "      <td>позёмок</td>\n",
       "      <td>8/0 верхняя</td>\n",
       "      <td>[Ci]</td>\n",
       "      <td>-16.3</td>\n",
       "      <td>-20.2</td>\n",
       "      <td>72</td>\n",
       "      <td>-21</td>\n",
       "      <td>1032.5</td>\n",
       "      <td>-2.1</td>\n",
       "      <td>985.9</td>\n",
       "      <td></td>\n",
       "      <td></td>\n",
       "      <td></td>\n",
       "      <td></td>\n",
       "      <td>03.01.16 09:00:00</td>\n",
       "    </tr>\n",
       "  </tbody>\n",
       "</table>\n",
       "</div>"
      ],
      "text/plain": [
       "   Время      Дата Напр.ветра Ск.ветра  Видим.              Явл.  \\\n",
       "0     00  01.01.16        060        3     н/о                     \n",
       "1     03  01.01.16        050        4  4000 м               дым   \n",
       "4     06  01.01.16        070        5  4000 м           позёмок   \n",
       "5     09  01.01.16        060        6  1000 м       сильн. снег   \n",
       "6     12  01.01.16        060        6     н/о        слаб. снег   \n",
       "7     15  01.01.16        050        7     н/о     позёмок{снег}   \n",
       "8     18  01.01.16        050        4     н/о        слаб. снег   \n",
       "9     21  01.01.16        060        4     н/о         дым{снег}   \n",
       "10    00  02.01.16        060        4     н/о        слаб. снег   \n",
       "11    03  02.01.16        060        3  4000 м        слаб. снег   \n",
       "14    06  02.01.16        060        3   10 км  в посл. час снег   \n",
       "15    09  02.01.16        050        2   10 км                     \n",
       "16    12  02.01.16        070        4     н/о               дым   \n",
       "17    15  02.01.16        040        3     н/о                     \n",
       "18    18  02.01.16        060        2     н/о                     \n",
       "19    21  02.01.16        050        4     н/о                     \n",
       "20    00  03.01.16        050        4     н/о                     \n",
       "21    03  03.01.16        070        5   10 км               дым   \n",
       "24    06  03.01.16        070        4   10 км                     \n",
       "25    09  03.01.16        060        4   10 км           позёмок   \n",
       "\n",
       "                   Обл.    Форма обл.     Т     Тd   f   Тe    Pmin    dP  \\\n",
       "0          10/0 верхняя          [Cs] -20.5  -23.5  77  -25  1030.2  -1.5   \n",
       "1                  ясно               -19.6  -22.6  77  -25    1028  -1.9   \n",
       "4          10/0 средняя       [Ac As] -18.2  -21.5  75  -24  1026.5  -1.2   \n",
       "5    10/9 300 м средняя  [Frnb|As op] -16.5  -19.7  76  -23  1023.4  -2.7   \n",
       "6          10/0 средняя       [As op] -17.5  -20.7  76  -24  1025.2   1.6   \n",
       "7          10/0 средняя       [As op] -18.6  -21.8  76  -26  1026.5     1   \n",
       "8   10/9 1000 м средняя    [Sc|As op] -19.6    -23  74  -25  1028.2   1.5   \n",
       "9          10/0 средняя       [As op] -18.5  -21.8  75  -24  1028.6   0.5   \n",
       "10          10/10 600 м          [Sc] -17.1  -20.3  76  -22  1028.2  -0.1   \n",
       "11          10/10 300 м          [Sc] -17.0  -20.2  76  -21  1029.4   1.2   \n",
       "14          10/10 660 м          [Sc] -16.0  -19.7  73  -20  1031.1   1.8   \n",
       "15                 ясно               -14.9  -19.3  69  -17  1031.9   0.9   \n",
       "16                 ясно               -18.5  -21.5  77  -24  1034.3   1.7   \n",
       "17                 ясно               -20.1  -22.9  78  -24  1035.7     1   \n",
       "18                 ясно               -21.7  -24.8  76  -25    1037     1   \n",
       "19          10/10 500 м          [St] -21.0  -24.1  76  -27  1037.1   0.2   \n",
       "20            3/3 300 м          [St] -20.3  -23.4  76  -26  1036.1  -0.8   \n",
       "21            4/4 120 м          [St] -19.6  -22.7  76  -26  1035.4  -0.6   \n",
       "24            6/6 150 м          [St] -18.0  -21.7  73  -23  1035.1     0   \n",
       "25          8/0 верхняя          [Ci] -16.3  -20.2  72  -21  1032.5  -2.1   \n",
       "\n",
       "       Po   Тmin   Tmax    R   s              dates  \n",
       "0   982.9                         01.01.16 00:00:00  \n",
       "1     981                     13  01.01.16 03:00:00  \n",
       "4   979.8  -21.6                  01.01.16 06:00:00  \n",
       "5   977.1                         01.01.16 09:00:00  \n",
       "6   978.7                         01.01.16 12:00:00  \n",
       "7   979.7         -16.4    2      01.01.16 15:00:00  \n",
       "8   981.2         -16.4    2      01.01.16 18:00:00  \n",
       "9   981.7                         01.01.16 21:00:00  \n",
       "10  981.6                         02.01.16 00:00:00  \n",
       "11  982.8                0.8  17  02.01.16 03:00:00  \n",
       "14  984.6  -19.7         0.8      02.01.16 06:00:00  \n",
       "15  985.5                         02.01.16 09:00:00  \n",
       "16  987.2                         02.01.16 12:00:00  \n",
       "17  988.2         -14.5  0.4      02.01.16 15:00:00  \n",
       "18  989.2         -14.5  0.4      02.01.16 18:00:00  \n",
       "19  989.4                         02.01.16 21:00:00  \n",
       "20  988.6                         03.01.16 00:00:00  \n",
       "21    988                     17  03.01.16 03:00:00  \n",
       "24    988  -21.7                  03.01.16 06:00:00  \n",
       "25  985.9                         03.01.16 09:00:00  "
      ]
     },
     "execution_count": 213,
     "metadata": {},
     "output_type": "execute_result"
    }
   ],
   "source": [
    "df.head(20)"
   ]
  },
  {
   "cell_type": "code",
   "execution_count": 217,
   "metadata": {},
   "outputs": [],
   "source": [
    "df.dates = pd.to_datetime(df.dates,format='%d.%m.%y %H:%M:%S')"
   ]
  },
  {
   "cell_type": "code",
   "execution_count": 222,
   "metadata": {},
   "outputs": [],
   "source": [
    "result = df[['dates','Т']]"
   ]
  },
  {
   "cell_type": "code",
   "execution_count": 223,
   "metadata": {},
   "outputs": [],
   "source": [
    "result.to_csv('temp_date.csv',encoding='utf-8')"
   ]
  },
  {
   "cell_type": "code",
   "execution_count": 241,
   "metadata": {},
   "outputs": [],
   "source": [
    "import plotly.express as px\n",
    "import json"
   ]
  },
  {
   "cell_type": "code",
   "execution_count": 242,
   "metadata": {},
   "outputs": [],
   "source": [
    "with open('astana_np3.json') as json_data:\n",
    "    geojson = json.load(json_data)"
   ]
  },
  {
   "cell_type": "code",
   "execution_count": 280,
   "metadata": {},
   "outputs": [],
   "source": [
    "geojson_example = px.data.election_geojson()\n",
    "df_example = px.data.election()"
   ]
  },
  {
   "cell_type": "code",
   "execution_count": 292,
   "metadata": {},
   "outputs": [
    {
     "data": {
      "text/plain": [
       "{'type': 'FeatureCollection',\n",
       " 'features': [{'type': 'Feature',\n",
       "   'id': 'astana_np3.1',\n",
       "   'geometry': {'type': 'MultiPolygon',\n",
       "    'coordinates': [[[[71.2178506, 51.1107521],\n",
       "       [71.2259581, 51.1140099],\n",
       "       [71.2287062, 51.1230021],\n",
       "       [71.2362172, 51.1328865],\n",
       "       [71.2361409, 51.1495535],\n",
       "       [71.238494, 51.1496155],\n",
       "       [71.2385637, 51.1522256],\n",
       "       [71.2425815, 51.1523111],\n",
       "       [71.2427604, 51.1575583],\n",
       "       [71.2544087, 51.1581347],\n",
       "       [71.2541959, 51.1628188],\n",
       "       [71.2529729, 51.1758855],\n",
       "       [71.2653832, 51.1742581],\n",
       "       [71.2819046, 51.1793117],\n",
       "       [71.2818051, 51.1796114],\n",
       "       [71.2813813, 51.1796801],\n",
       "       [71.2810288, 51.1798315],\n",
       "       [71.2809626, 51.1798742],\n",
       "       [71.2809225, 51.1799792],\n",
       "       [71.2809589, 51.1801161],\n",
       "       [71.2809407, 51.180196],\n",
       "       [71.2809086, 51.1804048],\n",
       "       [71.280846, 51.1805225],\n",
       "       [71.280795, 51.1806366],\n",
       "       [71.280704, 51.1807074],\n",
       "       [71.2803786, 51.1809422],\n",
       "       [71.2802088, 51.1810817],\n",
       "       [71.2800303, 51.1811137],\n",
       "       [71.2799393, 51.1811205],\n",
       "       [71.2797281, 51.1811457],\n",
       "       [71.2795533, 51.1811137],\n",
       "       [71.2794441, 51.1809379],\n",
       "       [71.2793275, 51.1808032],\n",
       "       [71.2791746, 51.180664],\n",
       "       [71.2790682, 51.1805969],\n",
       "       [71.2788978, 51.1805316],\n",
       "       [71.2786866, 51.1804631],\n",
       "       [71.2782708, 51.1804054],\n",
       "       [71.2780639, 51.1804312],\n",
       "       [71.2778855, 51.1804996],\n",
       "       [71.277769, 51.1806823],\n",
       "       [71.2777353, 51.1807499],\n",
       "       [71.2777543, 51.1809491],\n",
       "       [71.2777924, 51.1811161],\n",
       "       [71.2778571, 51.1811912],\n",
       "       [71.2778438, 51.1812532],\n",
       "       [71.277722, 51.181351],\n",
       "       [71.2775942, 51.1814036],\n",
       "       [71.2774689, 51.1813713],\n",
       "       [71.2773053, 51.1813105],\n",
       "       [71.2771131, 51.1812449],\n",
       "       [71.2770693, 51.1811948],\n",
       "       [71.2770598, 51.1811149],\n",
       "       [71.2770731, 51.1808906],\n",
       "       [71.2771207, 51.1808107],\n",
       "       [71.2771625, 51.1806688],\n",
       "       [71.2772824, 51.1804326],\n",
       "       [71.2772938, 51.1803527],\n",
       "       [71.2772196, 51.1803145],\n",
       "       [71.2770084, 51.1803276],\n",
       "       [71.2767078, 51.1803646],\n",
       "       [71.276645, 51.1803395],\n",
       "       [71.2765708, 51.1802632],\n",
       "       [71.2764566, 51.180188],\n",
       "       [71.276371, 51.180163],\n",
       "       [71.2761997, 51.1802143],\n",
       "       [71.2760037, 51.1802966],\n",
       "       [71.2758648, 51.1803992],\n",
       "       [71.2758572, 51.1804672],\n",
       "       [71.2758914, 51.180522],\n",
       "       [71.2759676, 51.1805829],\n",
       "       [71.2760361, 51.1806974],\n",
       "       [71.2761978, 51.1809383],\n",
       "       [71.276232, 51.1810636],\n",
       "       [71.2762111, 51.1811697],\n",
       "       [71.276135, 51.1812771],\n",
       "       [71.2760589, 51.1813165],\n",
       "       [71.2760989, 51.1814071],\n",
       "       [71.2761883, 51.1814668],\n",
       "       [71.2762948, 51.1815335],\n",
       "       [71.2762948, 51.1815729],\n",
       "       [71.2762149, 51.1815932],\n",
       "       [71.276057, 51.1815884],\n",
       "       [71.2757982, 51.1815836],\n",
       "       [71.2756222, 51.1816255],\n",
       "       [71.275605, 51.1816657],\n",
       "       [71.275648, 51.1817846],\n",
       "       [71.2757072, 51.1819136],\n",
       "       [71.2757395, 51.1820158],\n",
       "       [71.2756596, 51.1821363],\n",
       "       [71.2755378, 51.1821721],\n",
       "       [71.2753475, 51.1821936],\n",
       "       [71.2751648, 51.1821948],\n",
       "       [71.274927, 51.1821578],\n",
       "       [71.274809, 51.1821005],\n",
       "       [71.2746986, 51.1820385],\n",
       "       [71.2746511, 51.1819848],\n",
       "       [71.2746166, 51.181958],\n",
       "       [71.2746011, 51.1819209],\n",
       "       [71.2745762, 51.1819074],\n",
       "       [71.2745594, 51.1818585],\n",
       "       [71.2745217, 51.1818243],\n",
       "       [71.2744935, 51.1817746],\n",
       "       [71.2744229, 51.1817252],\n",
       "       [71.2743293, 51.1816687],\n",
       "       [71.2741975, 51.1815865],\n",
       "       [71.2738348, 51.181496],\n",
       "       [71.273557, 51.1814471],\n",
       "       [71.2733134, 51.1814375],\n",
       "       [71.2731041, 51.1814554],\n",
       "       [71.2729671, 51.1815329],\n",
       "       [71.2728739, 51.1816749],\n",
       "       [71.2726722, 51.1818407],\n",
       "       [71.2725371, 51.1819457],\n",
       "       [71.2724438, 51.1820769],\n",
       "       [71.2722897, 51.1822272],\n",
       "       [71.2721698, 51.1824216],\n",
       "       [71.2718768, 51.1827031],\n",
       "       [71.2717893, 51.1828247],\n",
       "       [71.2717759, 51.1829428],\n",
       "       [71.2717969, 51.1830156],\n",
       "       [71.2718863, 51.1830752],\n",
       "       [71.2720062, 51.1831289],\n",
       "       [71.2722212, 51.1832446],\n",
       "       [71.2724572, 51.183408],\n",
       "       [71.2725732, 51.183532],\n",
       "       [71.2725656, 51.1836406],\n",
       "       [71.2724914, 51.183705],\n",
       "       [71.2723183, 51.1837909],\n",
       "       [71.2721736, 51.1839054],\n",
       "       [71.2719719, 51.1839722],\n",
       "       [71.2717398, 51.1839936],\n",
       "       [71.2715229, 51.1839889],\n",
       "       [71.2714391, 51.1839471],\n",
       "       [71.2713269, 51.1838374],\n",
       "       [71.2712584, 51.1837479],\n",
       "       [71.2711461, 51.1836096],\n",
       "       [71.27103, 51.1834879],\n",
       "       [71.2708378, 51.1834533],\n",
       "       [71.2707085, 51.1835642],\n",
       "       [71.2706171, 51.1836549],\n",
       "       [71.2705695, 51.1837277],\n",
       "       [71.2705905, 51.1838195],\n",
       "       [71.2706647, 51.1839113],\n",
       "       [71.2707085, 51.184058],\n",
       "       [71.2708302, 51.1842501],\n",
       "       [71.2709444, 51.1844027],\n",
       "       [71.2709292, 51.1845113],\n",
       "       [71.2708474, 51.1845828],\n",
       "       [71.2707104, 51.1846341],\n",
       "       [71.2705087, 51.1846532],\n",
       "       [71.270307, 51.184689],\n",
       "       [71.2700615, 51.1848297],\n",
       "       [71.2699968, 51.1849252],\n",
       "       [71.2699625, 51.1850253],\n",
       "       [71.2699721, 51.1851315],\n",
       "       [71.2700139, 51.1853748],\n",
       "       [71.2700805, 51.1854666],\n",
       "       [71.270149, 51.1855895],\n",
       "       [71.2701433, 51.1857505],\n",
       "       [71.2700919, 51.1860093],\n",
       "       [71.270031, 51.1861811],\n",
       "       [71.2698655, 51.1863111],\n",
       "       [71.2698456, 51.1863729],\n",
       "       [71.2698845, 51.1864816],\n",
       "       [71.2700368, 51.1865794],\n",
       "       [71.2701776, 51.1866665],\n",
       "       [71.2705581, 51.1868347],\n",
       "       [71.2709863, 51.1869885],\n",
       "       [71.2714506, 51.1870935],\n",
       "       [71.2717189, 51.1871937],\n",
       "       [71.2719767, 51.1874108],\n",
       "       [71.2720126, 51.1876382],\n",
       "       [71.2718985, 51.1877389],\n",
       "       [71.2718204, 51.1879789],\n",
       "       [71.2718204, 51.1880499],\n",
       "       [71.2718829, 51.1881209],\n",
       "       [71.2720626, 51.1881846],\n",
       "       [71.2721173, 51.188263],\n",
       "       [71.2726565, 51.1881944],\n",
       "       [71.2728831, 51.1881919],\n",
       "       [71.2730746, 51.1882532],\n",
       "       [71.2731996, 51.1883903],\n",
       "       [71.2732269, 51.1884956],\n",
       "       [71.2731996, 51.1886009],\n",
       "       [71.2731449, 51.1886474],\n",
       "       [71.2730316, 51.1887062],\n",
       "       [71.2727972, 51.1887797],\n",
       "       [71.2726995, 51.188809],\n",
       "       [71.2726057, 51.1889315],\n",
       "       [71.2725705, 51.1890441],\n",
       "       [71.2725041, 51.1891176],\n",
       "       [71.2724084, 51.189147],\n",
       "       [71.2723615, 51.1891421],\n",
       "       [71.2722424, 51.1891653],\n",
       "       [71.2721056, 51.1891861],\n",
       "       [71.2719923, 51.1892572],\n",
       "       [71.2718243, 51.1893576],\n",
       "       [71.2716719, 51.1893845],\n",
       "       [71.2715938, 51.1893853],\n",
       "       [71.2714651, 51.1893644],\n",
       "       [71.2713479, 51.18929],\n",
       "       [71.2712773, 51.1892106],\n",
       "       [71.2711683, 51.1892],\n",
       "       [71.2710548, 51.1892689],\n",
       "       [71.2710181, 51.1892822],\n",
       "       [71.2709916, 51.1892867],\n",
       "       [71.2709546, 51.1892828],\n",
       "       [71.2709308, 51.1892779],\n",
       "       [71.2707846, 51.1892491],\n",
       "       [71.2707652, 51.1892379],\n",
       "       [71.2707417, 51.1892032],\n",
       "       [71.2707263, 51.1891636],\n",
       "       [71.2706766, 51.189103],\n",
       "       [71.2706573, 51.1890268],\n",
       "       [71.2705108, 51.1889489],\n",
       "       [71.2704362, 51.1888901],\n",
       "       [71.2703561, 51.1888554],\n",
       "       [71.2701558, 51.1889299],\n",
       "       [71.2693357, 51.1895483],\n",
       "       [71.2680569, 51.1888247],\n",
       "       [71.2672272, 51.1887174],\n",
       "       [71.2670207, 51.1895767],\n",
       "       [71.2665549, 51.1896844],\n",
       "       [71.2660631, 51.1895295],\n",
       "       [71.2653868, 51.1890821],\n",
       "       [71.2649231, 51.1889677],\n",
       "       [71.2643575, 51.189176],\n",
       "       [71.2648238, 51.1896111],\n",
       "       [71.2645475, 51.1898467],\n",
       "       [71.2623274, 51.1896758],\n",
       "       [71.2617444, 51.1917272],\n",
       "       [71.2608273, 51.1921802],\n",
       "       [71.2605489, 51.1918402],\n",
       "       [71.2601572, 51.1915928],\n",
       "       [71.2602361, 51.191065],\n",
       "       [71.2599531, 51.1908977],\n",
       "       [71.2601036, 51.1902287],\n",
       "       [71.2585294, 51.1901522],\n",
       "       [71.2571143, 51.1903851],\n",
       "       [71.2557292, 51.1894887],\n",
       "       [71.2551088, 51.1897824],\n",
       "       [71.2551998, 51.1903069],\n",
       "       [71.2543719, 51.1913097],\n",
       "       [71.2531749, 51.1911848],\n",
       "       [71.2528868, 51.1903762],\n",
       "       [71.2519026, 51.1903211],\n",
       "       [71.2513743, 51.1907589],\n",
       "       [71.2529779, 51.1925126],\n",
       "       [71.2519617, 51.1926062],\n",
       "       [71.2514133, 51.1934391],\n",
       "       [71.2500851, 51.1933317],\n",
       "       [71.2492164, 51.1937445],\n",
       "       [71.2487677, 51.1950114],\n",
       "       [71.2476022, 51.1955243],\n",
       "       [71.2456272, 51.1965498],\n",
       "       [71.2431643, 51.1969271],\n",
       "       [71.2421575, 51.1976938],\n",
       "       [71.2424363, 51.1978427],\n",
       "       [71.2433014, 51.1982722],\n",
       "       [71.2445303, 51.1983083],\n",
       "       [71.2448259, 51.198465],\n",
       "       [71.2443965, 51.1989215],\n",
       "       [71.2444652, 51.1989977],\n",
       "       [71.2446405, 51.1991983],\n",
       "       [71.2434339, 51.2000285],\n",
       "       [71.2417446, 51.2008158],\n",
       "       [71.2404463, 51.2013629],\n",
       "       [71.2400139, 51.2019547],\n",
       "       [71.2405078, 51.2024961],\n",
       "       [71.2406514, 51.2027789],\n",
       "       [71.2413949, 51.2028422],\n",
       "       [71.2416241, 51.2032826],\n",
       "       [71.240399, 51.2050728],\n",
       "       [71.2404602, 51.205571],\n",
       "       [71.2425483, 51.2062927],\n",
       "       [71.2425756, 51.206572],\n",
       "       [71.2427927, 51.2067872],\n",
       "       [71.2415618, 51.2075436],\n",
       "       [71.2398687, 51.2075789],\n",
       "       [71.2381655, 51.2085434],\n",
       "       [71.2373798, 51.208443],\n",
       "       [71.2372988, 51.2086668],\n",
       "       [71.2376577, 51.2088705],\n",
       "       [71.23782, 51.2091848],\n",
       "       [71.2374504, 51.209616],\n",
       "       [71.2381298, 51.2097893],\n",
       "       [71.2385923, 51.2096825],\n",
       "       [71.2387723, 51.2100463],\n",
       "       [71.2390652, 51.210057],\n",
       "       [71.2391857, 51.2098629],\n",
       "       [71.2399044, 51.2102164],\n",
       "       [71.2394436, 51.2102252],\n",
       "       [71.2394423, 51.210466],\n",
       "       [71.2400728, 51.2104743],\n",
       "       [71.2400554, 51.2106501],\n",
       "       [71.2396569, 51.2107393],\n",
       "       [71.2396143, 51.2109319],\n",
       "       [71.240126, 51.2109017],\n",
       "       [71.2404319, 51.2110468],\n",
       "       [71.2411022, 51.2110707],\n",
       "       [71.2411563, 51.2112492],\n",
       "       [71.2407048, 51.211315],\n",
       "       [71.2406667, 51.2114667],\n",
       "       [71.2411313, 51.2116699],\n",
       "       [71.2411793, 51.2118567],\n",
       "       [71.2406025, 51.2120187],\n",
       "       [71.240046, 51.2123313],\n",
       "       [71.2401326, 51.2125092],\n",
       "       [71.2407455, 51.2126892],\n",
       "       [71.2408338, 51.2133037],\n",
       "       [71.2404671, 51.2135106],\n",
       "       [71.2405443, 51.2137621],\n",
       "       [71.2414526, 51.2141405],\n",
       "       [71.2412589, 51.2145645],\n",
       "       [71.2412904, 51.2149474],\n",
       "       [71.2410404, 51.2152827],\n",
       "       [71.2461291, 51.2210262],\n",
       "       [71.2476926, 51.2243114],\n",
       "       [71.244668, 51.2250488],\n",
       "       [71.2455008, 51.2259863],\n",
       "       [71.2556512, 51.238734],\n",
       "       [71.2602689, 51.2462623],\n",
       "       [71.3015604, 51.2331888],\n",
       "       [71.3039729, 51.2369849],\n",
       "       [71.319128, 51.2528271],\n",
       "       [71.3348807, 51.266619],\n",
       "       [71.3359065, 51.2669771],\n",
       "       [71.3408247, 51.2686981],\n",
       "       [71.3421256, 51.2670725],\n",
       "       [71.3459537, 51.2684957],\n",
       "       [71.3466905, 51.2672969],\n",
       "       [71.3663894, 51.2711805],\n",
       "       [71.3642122, 51.2757097],\n",
       "       [71.3587823, 51.2890938],\n",
       "       [71.355575, 51.2976887],\n",
       "       [71.385094, 51.3023282],\n",
       "       [71.3898001, 51.2912475],\n",
       "       [71.4001119, 51.2673427],\n",
       "       [71.4137661, 51.2706573],\n",
       "       [71.4281353, 51.2746546],\n",
       "       [71.4503904, 51.2716014],\n",
       "       [71.4685046, 51.2784522],\n",
       "       [71.4758818, 51.2864121],\n",
       "       [71.4908788, 51.2886239],\n",
       "       [71.4985027, 51.2901089],\n",
       "       [71.4983353, 51.2836432],\n",
       "       [71.4724675, 51.2637806],\n",
       "       [71.4695278, 51.2613861],\n",
       "       [71.5033599, 51.2540783],\n",
       "       [71.5522356, 51.2429404],\n",
       "       [71.5550584, 51.2469273],\n",
       "       [71.5569976, 51.2466818],\n",
       "       [71.5586844, 51.248522],\n",
       "       [71.5625084, 51.2485538],\n",
       "       [71.5659858, 51.252883],\n",
       "       [71.5669396, 51.2574811],\n",
       "       [71.5766996, 51.2629501],\n",
       "       [71.5941188, 51.2776463],\n",
       "       [71.6021091, 51.2685775],\n",
       "       [71.6044059, 51.2658364],\n",
       "       [71.609048, 51.2603142],\n",
       "       [71.6188071, 51.2484831],\n",
       "       [71.5742662, 51.2203778],\n",
       "       [71.5834847, 51.2026037],\n",
       "       [71.5878966, 51.1986017],\n",
       "       [71.6179142, 51.1894216],\n",
       "       [71.6216294, 51.1881894],\n",
       "       [71.6307685, 51.1693108],\n",
       "       [71.6431221, 51.1423345],\n",
       "       [71.6453858, 51.1399259],\n",
       "       [71.6732372, 51.1410352],\n",
       "       [71.6732943, 51.1401372],\n",
       "       [71.6849016, 51.1405718],\n",
       "       [71.6889679, 51.1404441],\n",
       "       [71.6921184, 51.1395729],\n",
       "       [71.7110588, 51.1320939],\n",
       "       [71.7136581, 51.1315338],\n",
       "       [71.7149108, 51.1313822],\n",
       "       [71.7054574, 51.1130112],\n",
       "       [71.7412871, 51.1052634],\n",
       "       [71.7423287, 51.1014059],\n",
       "       [71.7418897, 51.1015202],\n",
       "       [71.7402141, 51.1011957],\n",
       "       [71.7389685, 51.1001618],\n",
       "       [71.7389066, 51.0993855],\n",
       "       [71.7385248, 51.0986268],\n",
       "       [71.7391458, 51.0980063],\n",
       "       [71.7390397, 51.0974434],\n",
       "       [71.737331, 51.0967155],\n",
       "       [71.735658, 51.0965034],\n",
       "       [71.7342857, 51.0970211],\n",
       "       [71.7329443, 51.0980606],\n",
       "       [71.7315177, 51.0987673],\n",
       "       [71.731127, 51.0988903],\n",
       "       [71.7300097, 51.0995123],\n",
       "       [71.7289336, 51.1008864],\n",
       "       [71.7286974, 51.1019878],\n",
       "       [71.7285971, 51.1024649],\n",
       "       [71.7281094, 51.1029005],\n",
       "       [71.7268326, 51.1032838],\n",
       "       [71.7257865, 51.1035001],\n",
       "       [71.7251706, 51.1033932],\n",
       "       [71.7244343, 51.1034205],\n",
       "       [71.7232719, 51.1030234],\n",
       "       [71.722591, 51.1014941],\n",
       "       [71.721133, 51.100592],\n",
       "       [71.720761, 51.1004425],\n",
       "       [71.7200215, 51.100187],\n",
       "       [71.7179908, 51.099558],\n",
       "       [71.716579, 51.0994119],\n",
       "       [71.7140757, 51.0992922],\n",
       "       [71.712064, 51.0987466],\n",
       "       [71.7109628, 51.0985989],\n",
       "       [71.7095293, 51.0977919],\n",
       "       [71.7085128, 51.097635],\n",
       "       [71.7076878, 51.0971188],\n",
       "       [71.7067396, 51.0967854],\n",
       "       [71.7076413, 51.0961039],\n",
       "       [71.7082319, 51.0963701],\n",
       "       [71.709263, 51.0963462],\n",
       "       [71.7098974, 51.0960187],\n",
       "       [71.7101914, 51.0954605],\n",
       "       [71.7094299, 51.0946022],\n",
       "       [71.7087825, 51.0940031],\n",
       "       [71.7086443, 51.0931921],\n",
       "       [71.7070223, 51.0925037],\n",
       "       [71.704504, 51.0921049],\n",
       "       [71.7025154, 51.0928129],\n",
       "       [71.7008539, 51.0921106],\n",
       "       [71.700381, 51.0907225],\n",
       "       [71.6993647, 51.0894292],\n",
       "       [71.6963518, 51.0893013],\n",
       "       [71.6958849, 51.0907111],\n",
       "       [71.6946579, 51.0911838],\n",
       "       [71.695879, 51.0924066],\n",
       "       [71.6944278, 51.0926211],\n",
       "       [71.6939332, 51.0935542],\n",
       "       [71.6921204, 51.0936765],\n",
       "       [71.6920839, 51.0930488],\n",
       "       [71.6904231, 51.0925729],\n",
       "       [71.6894027, 51.0929677],\n",
       "       [71.6886596, 51.0926706],\n",
       "       [71.6891685, 51.092059],\n",
       "       [71.6889006, 51.091351],\n",
       "       [71.6866206, 51.0911463],\n",
       "       [71.6831288, 51.0916024],\n",
       "       [71.681892, 51.0912292],\n",
       "       [71.6806382, 51.0903997],\n",
       "       [71.6791093, 51.0853245],\n",
       "       [71.6743607, 51.0862388],\n",
       "       [71.6588524, 51.0892759],\n",
       "       [71.6349608, 51.0946676],\n",
       "       [71.6151336, 51.0993803],\n",
       "       [71.6078625, 51.0905369],\n",
       "       [71.6037835, 51.0857795],\n",
       "       [71.5882957, 51.0746349],\n",
       "       [71.5797424, 51.0703195],\n",
       "       [71.5644428, 51.0572895],\n",
       "       [71.556088, 51.048691],\n",
       "       [71.5477011, 51.0509109],\n",
       "       [71.5457574, 51.0486979],\n",
       "       [71.5341802, 51.0471897],\n",
       "       [71.5025869, 51.045466],\n",
       "       [71.4980141, 51.0425791],\n",
       "       [71.501568, 51.0391496],\n",
       "       [71.4924269, 51.0343627],\n",
       "       [71.4775451, 51.0249923],\n",
       "       [71.4788771, 51.0241314],\n",
       "       [71.475646, 51.0215791],\n",
       "       [71.4740231, 51.0223961],\n",
       "       [71.4691386, 51.0196739],\n",
       "       [71.468947, 51.0198168],\n",
       "       [71.4625042, 51.0165878],\n",
       "       [71.4597113, 51.0123162],\n",
       "       [71.4571859, 51.0069519],\n",
       "       [71.4547484, 51.0049056],\n",
       "       [71.4541934, 51.0006766],\n",
       "       [71.4383186, 51.0035437],\n",
       "       [71.4373207, 51.0029412],\n",
       "       [71.4356486, 51.0039225],\n",
       "       [71.4144398, 51.0071157],\n",
       "       [71.402951, 51.0090634],\n",
       "       [71.4003795, 51.0101037],\n",
       "       [71.3817892, 51.0129804],\n",
       "       [71.3801142, 51.0129896],\n",
       "       [71.3355374, 51.0190931],\n",
       "       [71.3317459, 51.0214741],\n",
       "       [71.3184737, 51.0237469],\n",
       "       [71.3123601, 51.0233131],\n",
       "       [71.3078297, 51.0222101],\n",
       "       [71.3030227, 51.0227157],\n",
       "       [71.2908043, 51.0217277],\n",
       "       [71.2895376, 51.0215786],\n",
       "       [71.2866187, 51.0224236],\n",
       "       [71.2847901, 51.0237262],\n",
       "       [71.2796905, 51.0263875],\n",
       "       [71.2760821, 51.029967],\n",
       "       [71.2722388, 51.0333053],\n",
       "       [71.2693186, 51.0350465],\n",
       "       [71.2684643, 51.0392038],\n",
       "       [71.2666071, 51.0410646],\n",
       "       [71.2631113, 51.0424307],\n",
       "       [71.2616567, 51.0445644],\n",
       "       [71.2576794, 51.0474837],\n",
       "       [71.2554276, 51.0504046],\n",
       "       [71.2561724, 51.0531274],\n",
       "       [71.2547052, 51.0550155],\n",
       "       [71.2550435, 51.0573952],\n",
       "       [71.2560461, 51.0596918],\n",
       "       [71.2558708, 51.0629586],\n",
       "       [71.2531361, 51.0662749],\n",
       "       [71.250827, 51.0680388],\n",
       "       [71.2481749, 51.0684759],\n",
       "       [71.2451662, 51.0685891],\n",
       "       [71.2261047, 51.0997588],\n",
       "       [71.2255433, 51.1005826],\n",
       "       [71.2243848, 51.1001786],\n",
       "       [71.2178506, 51.1107521]]],\n",
       "     [[[71.6415258, 51.3316656],\n",
       "       [71.6678132, 51.3398842],\n",
       "       [71.6838682, 51.3509429],\n",
       "       [71.6923847, 51.3510715],\n",
       "       [71.6950979, 51.3511101],\n",
       "       [71.6927107, 51.3488787],\n",
       "       [71.697736, 51.3465872],\n",
       "       [71.7011348, 51.349766],\n",
       "       [71.7063332, 51.3476043],\n",
       "       [71.7039107, 51.3428285],\n",
       "       [71.6999211, 51.3388761],\n",
       "       [71.6990471, 51.3378711],\n",
       "       [71.6973656, 51.3353448],\n",
       "       [71.6941792, 51.3335279],\n",
       "       [71.6938307, 51.3337089],\n",
       "       [71.6866021, 51.3288876],\n",
       "       [71.6842449, 51.3256499],\n",
       "       [71.6787604, 51.3217359],\n",
       "       [71.672494, 51.3174535],\n",
       "       [71.6716, 51.3165612],\n",
       "       [71.6733166, 51.3156608],\n",
       "       [71.6704181, 51.3137676],\n",
       "       [71.6742334, 51.3111448],\n",
       "       [71.6718742, 51.3094308],\n",
       "       [71.6703576, 51.3103754],\n",
       "       [71.6666355, 51.3130922],\n",
       "       [71.6580881, 51.3171647],\n",
       "       [71.6564341, 51.3182197],\n",
       "       [71.6513113, 51.3215171],\n",
       "       [71.6445262, 51.3283709],\n",
       "       [71.6415258, 51.3316656]]],\n",
       "     [[[71.740388, 51.16606],\n",
       "       [71.7851103, 51.165569],\n",
       "       [71.7851913, 51.1573031],\n",
       "       [71.782424, 51.1504554],\n",
       "       [71.7661365, 51.1446854],\n",
       "       [71.7608792, 51.1457224],\n",
       "       [71.7468576, 51.1621451],\n",
       "       [71.740388, 51.16606]]]]},\n",
       "   'geometry_name': 'the_geom',\n",
       "   'properties': {'ID': 3087155,\n",
       "    'NAME': 'Astana',\n",
       "    'LOCALNAME': 'ГђВђГ‘ВЃГ‘В‚ГђВ°ГђВЅГђВ°',\n",
       "    'BOUNDARY': 'administrative',\n",
       "    'ADMIN_LEVE': '4',\n",
       "    'CITY_KEY': '',\n",
       "    'REGION_KEY': '',\n",
       "    'NOTE': 'region polygon',\n",
       "    'FLAG': '',\n",
       "    'CURRENCY': '',\n",
       "    'ISO3166-1:': '',\n",
       "    'WIKIDATA': '',\n",
       "    'WIKIPEDIA': 'ru:ГђВђГ‘ВЃГ‘В‚ГђВ°ГђВЅГђВ°',\n",
       "    'OFFICIAL_N': '',\n",
       "    'bbox': [71.2178506, 51.0006766, 71.7851913, 51.3511101]}}],\n",
       " 'crs': {'type': 'EPSG', 'properties': {'code': '4326'}},\n",
       " 'bbox': [71.2178506, 51.0006766, 71.7851913, 51.3511101]}"
      ]
     },
     "execution_count": 292,
     "metadata": {},
     "output_type": "execute_result"
    }
   ],
   "source": [
    "geojson"
   ]
  },
  {
   "cell_type": "code",
   "execution_count": 296,
   "metadata": {},
   "outputs": [
    {
     "data": {
      "text/plain": [
       "{'type': 'FeatureCollection',\n",
       " 'features': [{'type': 'Feature',\n",
       "   'id': 'astana_np3.1',\n",
       "   'geometry': {'type': 'MultiPolygon',\n",
       "    'coordinates': [[[[71.2178506, 51.1107521],\n",
       "       [71.2259581, 51.1140099],\n",
       "       [71.2287062, 51.1230021],\n",
       "       [71.2362172, 51.1328865],\n",
       "       [71.2361409, 51.1495535],\n",
       "       [71.238494, 51.1496155],\n",
       "       [71.2385637, 51.1522256],\n",
       "       [71.2425815, 51.1523111],\n",
       "       [71.2427604, 51.1575583],\n",
       "       [71.2544087, 51.1581347],\n",
       "       [71.2541959, 51.1628188],\n",
       "       [71.2529729, 51.1758855],\n",
       "       [71.2653832, 51.1742581],\n",
       "       [71.2819046, 51.1793117],\n",
       "       [71.2818051, 51.1796114],\n",
       "       [71.2813813, 51.1796801],\n",
       "       [71.2810288, 51.1798315],\n",
       "       [71.2809626, 51.1798742],\n",
       "       [71.2809225, 51.1799792],\n",
       "       [71.2809589, 51.1801161],\n",
       "       [71.2809407, 51.180196],\n",
       "       [71.2809086, 51.1804048],\n",
       "       [71.280846, 51.1805225],\n",
       "       [71.280795, 51.1806366],\n",
       "       [71.280704, 51.1807074],\n",
       "       [71.2803786, 51.1809422],\n",
       "       [71.2802088, 51.1810817],\n",
       "       [71.2800303, 51.1811137],\n",
       "       [71.2799393, 51.1811205],\n",
       "       [71.2797281, 51.1811457],\n",
       "       [71.2795533, 51.1811137],\n",
       "       [71.2794441, 51.1809379],\n",
       "       [71.2793275, 51.1808032],\n",
       "       [71.2791746, 51.180664],\n",
       "       [71.2790682, 51.1805969],\n",
       "       [71.2788978, 51.1805316],\n",
       "       [71.2786866, 51.1804631],\n",
       "       [71.2782708, 51.1804054],\n",
       "       [71.2780639, 51.1804312],\n",
       "       [71.2778855, 51.1804996],\n",
       "       [71.277769, 51.1806823],\n",
       "       [71.2777353, 51.1807499],\n",
       "       [71.2777543, 51.1809491],\n",
       "       [71.2777924, 51.1811161],\n",
       "       [71.2778571, 51.1811912],\n",
       "       [71.2778438, 51.1812532],\n",
       "       [71.277722, 51.181351],\n",
       "       [71.2775942, 51.1814036],\n",
       "       [71.2774689, 51.1813713],\n",
       "       [71.2773053, 51.1813105],\n",
       "       [71.2771131, 51.1812449],\n",
       "       [71.2770693, 51.1811948],\n",
       "       [71.2770598, 51.1811149],\n",
       "       [71.2770731, 51.1808906],\n",
       "       [71.2771207, 51.1808107],\n",
       "       [71.2771625, 51.1806688],\n",
       "       [71.2772824, 51.1804326],\n",
       "       [71.2772938, 51.1803527],\n",
       "       [71.2772196, 51.1803145],\n",
       "       [71.2770084, 51.1803276],\n",
       "       [71.2767078, 51.1803646],\n",
       "       [71.276645, 51.1803395],\n",
       "       [71.2765708, 51.1802632],\n",
       "       [71.2764566, 51.180188],\n",
       "       [71.276371, 51.180163],\n",
       "       [71.2761997, 51.1802143],\n",
       "       [71.2760037, 51.1802966],\n",
       "       [71.2758648, 51.1803992],\n",
       "       [71.2758572, 51.1804672],\n",
       "       [71.2758914, 51.180522],\n",
       "       [71.2759676, 51.1805829],\n",
       "       [71.2760361, 51.1806974],\n",
       "       [71.2761978, 51.1809383],\n",
       "       [71.276232, 51.1810636],\n",
       "       [71.2762111, 51.1811697],\n",
       "       [71.276135, 51.1812771],\n",
       "       [71.2760589, 51.1813165],\n",
       "       [71.2760989, 51.1814071],\n",
       "       [71.2761883, 51.1814668],\n",
       "       [71.2762948, 51.1815335],\n",
       "       [71.2762948, 51.1815729],\n",
       "       [71.2762149, 51.1815932],\n",
       "       [71.276057, 51.1815884],\n",
       "       [71.2757982, 51.1815836],\n",
       "       [71.2756222, 51.1816255],\n",
       "       [71.275605, 51.1816657],\n",
       "       [71.275648, 51.1817846],\n",
       "       [71.2757072, 51.1819136],\n",
       "       [71.2757395, 51.1820158],\n",
       "       [71.2756596, 51.1821363],\n",
       "       [71.2755378, 51.1821721],\n",
       "       [71.2753475, 51.1821936],\n",
       "       [71.2751648, 51.1821948],\n",
       "       [71.274927, 51.1821578],\n",
       "       [71.274809, 51.1821005],\n",
       "       [71.2746986, 51.1820385],\n",
       "       [71.2746511, 51.1819848],\n",
       "       [71.2746166, 51.181958],\n",
       "       [71.2746011, 51.1819209],\n",
       "       [71.2745762, 51.1819074],\n",
       "       [71.2745594, 51.1818585],\n",
       "       [71.2745217, 51.1818243],\n",
       "       [71.2744935, 51.1817746],\n",
       "       [71.2744229, 51.1817252],\n",
       "       [71.2743293, 51.1816687],\n",
       "       [71.2741975, 51.1815865],\n",
       "       [71.2738348, 51.181496],\n",
       "       [71.273557, 51.1814471],\n",
       "       [71.2733134, 51.1814375],\n",
       "       [71.2731041, 51.1814554],\n",
       "       [71.2729671, 51.1815329],\n",
       "       [71.2728739, 51.1816749],\n",
       "       [71.2726722, 51.1818407],\n",
       "       [71.2725371, 51.1819457],\n",
       "       [71.2724438, 51.1820769],\n",
       "       [71.2722897, 51.1822272],\n",
       "       [71.2721698, 51.1824216],\n",
       "       [71.2718768, 51.1827031],\n",
       "       [71.2717893, 51.1828247],\n",
       "       [71.2717759, 51.1829428],\n",
       "       [71.2717969, 51.1830156],\n",
       "       [71.2718863, 51.1830752],\n",
       "       [71.2720062, 51.1831289],\n",
       "       [71.2722212, 51.1832446],\n",
       "       [71.2724572, 51.183408],\n",
       "       [71.2725732, 51.183532],\n",
       "       [71.2725656, 51.1836406],\n",
       "       [71.2724914, 51.183705],\n",
       "       [71.2723183, 51.1837909],\n",
       "       [71.2721736, 51.1839054],\n",
       "       [71.2719719, 51.1839722],\n",
       "       [71.2717398, 51.1839936],\n",
       "       [71.2715229, 51.1839889],\n",
       "       [71.2714391, 51.1839471],\n",
       "       [71.2713269, 51.1838374],\n",
       "       [71.2712584, 51.1837479],\n",
       "       [71.2711461, 51.1836096],\n",
       "       [71.27103, 51.1834879],\n",
       "       [71.2708378, 51.1834533],\n",
       "       [71.2707085, 51.1835642],\n",
       "       [71.2706171, 51.1836549],\n",
       "       [71.2705695, 51.1837277],\n",
       "       [71.2705905, 51.1838195],\n",
       "       [71.2706647, 51.1839113],\n",
       "       [71.2707085, 51.184058],\n",
       "       [71.2708302, 51.1842501],\n",
       "       [71.2709444, 51.1844027],\n",
       "       [71.2709292, 51.1845113],\n",
       "       [71.2708474, 51.1845828],\n",
       "       [71.2707104, 51.1846341],\n",
       "       [71.2705087, 51.1846532],\n",
       "       [71.270307, 51.184689],\n",
       "       [71.2700615, 51.1848297],\n",
       "       [71.2699968, 51.1849252],\n",
       "       [71.2699625, 51.1850253],\n",
       "       [71.2699721, 51.1851315],\n",
       "       [71.2700139, 51.1853748],\n",
       "       [71.2700805, 51.1854666],\n",
       "       [71.270149, 51.1855895],\n",
       "       [71.2701433, 51.1857505],\n",
       "       [71.2700919, 51.1860093],\n",
       "       [71.270031, 51.1861811],\n",
       "       [71.2698655, 51.1863111],\n",
       "       [71.2698456, 51.1863729],\n",
       "       [71.2698845, 51.1864816],\n",
       "       [71.2700368, 51.1865794],\n",
       "       [71.2701776, 51.1866665],\n",
       "       [71.2705581, 51.1868347],\n",
       "       [71.2709863, 51.1869885],\n",
       "       [71.2714506, 51.1870935],\n",
       "       [71.2717189, 51.1871937],\n",
       "       [71.2719767, 51.1874108],\n",
       "       [71.2720126, 51.1876382],\n",
       "       [71.2718985, 51.1877389],\n",
       "       [71.2718204, 51.1879789],\n",
       "       [71.2718204, 51.1880499],\n",
       "       [71.2718829, 51.1881209],\n",
       "       [71.2720626, 51.1881846],\n",
       "       [71.2721173, 51.188263],\n",
       "       [71.2726565, 51.1881944],\n",
       "       [71.2728831, 51.1881919],\n",
       "       [71.2730746, 51.1882532],\n",
       "       [71.2731996, 51.1883903],\n",
       "       [71.2732269, 51.1884956],\n",
       "       [71.2731996, 51.1886009],\n",
       "       [71.2731449, 51.1886474],\n",
       "       [71.2730316, 51.1887062],\n",
       "       [71.2727972, 51.1887797],\n",
       "       [71.2726995, 51.188809],\n",
       "       [71.2726057, 51.1889315],\n",
       "       [71.2725705, 51.1890441],\n",
       "       [71.2725041, 51.1891176],\n",
       "       [71.2724084, 51.189147],\n",
       "       [71.2723615, 51.1891421],\n",
       "       [71.2722424, 51.1891653],\n",
       "       [71.2721056, 51.1891861],\n",
       "       [71.2719923, 51.1892572],\n",
       "       [71.2718243, 51.1893576],\n",
       "       [71.2716719, 51.1893845],\n",
       "       [71.2715938, 51.1893853],\n",
       "       [71.2714651, 51.1893644],\n",
       "       [71.2713479, 51.18929],\n",
       "       [71.2712773, 51.1892106],\n",
       "       [71.2711683, 51.1892],\n",
       "       [71.2710548, 51.1892689],\n",
       "       [71.2710181, 51.1892822],\n",
       "       [71.2709916, 51.1892867],\n",
       "       [71.2709546, 51.1892828],\n",
       "       [71.2709308, 51.1892779],\n",
       "       [71.2707846, 51.1892491],\n",
       "       [71.2707652, 51.1892379],\n",
       "       [71.2707417, 51.1892032],\n",
       "       [71.2707263, 51.1891636],\n",
       "       [71.2706766, 51.189103],\n",
       "       [71.2706573, 51.1890268],\n",
       "       [71.2705108, 51.1889489],\n",
       "       [71.2704362, 51.1888901],\n",
       "       [71.2703561, 51.1888554],\n",
       "       [71.2701558, 51.1889299],\n",
       "       [71.2693357, 51.1895483],\n",
       "       [71.2680569, 51.1888247],\n",
       "       [71.2672272, 51.1887174],\n",
       "       [71.2670207, 51.1895767],\n",
       "       [71.2665549, 51.1896844],\n",
       "       [71.2660631, 51.1895295],\n",
       "       [71.2653868, 51.1890821],\n",
       "       [71.2649231, 51.1889677],\n",
       "       [71.2643575, 51.189176],\n",
       "       [71.2648238, 51.1896111],\n",
       "       [71.2645475, 51.1898467],\n",
       "       [71.2623274, 51.1896758],\n",
       "       [71.2617444, 51.1917272],\n",
       "       [71.2608273, 51.1921802],\n",
       "       [71.2605489, 51.1918402],\n",
       "       [71.2601572, 51.1915928],\n",
       "       [71.2602361, 51.191065],\n",
       "       [71.2599531, 51.1908977],\n",
       "       [71.2601036, 51.1902287],\n",
       "       [71.2585294, 51.1901522],\n",
       "       [71.2571143, 51.1903851],\n",
       "       [71.2557292, 51.1894887],\n",
       "       [71.2551088, 51.1897824],\n",
       "       [71.2551998, 51.1903069],\n",
       "       [71.2543719, 51.1913097],\n",
       "       [71.2531749, 51.1911848],\n",
       "       [71.2528868, 51.1903762],\n",
       "       [71.2519026, 51.1903211],\n",
       "       [71.2513743, 51.1907589],\n",
       "       [71.2529779, 51.1925126],\n",
       "       [71.2519617, 51.1926062],\n",
       "       [71.2514133, 51.1934391],\n",
       "       [71.2500851, 51.1933317],\n",
       "       [71.2492164, 51.1937445],\n",
       "       [71.2487677, 51.1950114],\n",
       "       [71.2476022, 51.1955243],\n",
       "       [71.2456272, 51.1965498],\n",
       "       [71.2431643, 51.1969271],\n",
       "       [71.2421575, 51.1976938],\n",
       "       [71.2424363, 51.1978427],\n",
       "       [71.2433014, 51.1982722],\n",
       "       [71.2445303, 51.1983083],\n",
       "       [71.2448259, 51.198465],\n",
       "       [71.2443965, 51.1989215],\n",
       "       [71.2444652, 51.1989977],\n",
       "       [71.2446405, 51.1991983],\n",
       "       [71.2434339, 51.2000285],\n",
       "       [71.2417446, 51.2008158],\n",
       "       [71.2404463, 51.2013629],\n",
       "       [71.2400139, 51.2019547],\n",
       "       [71.2405078, 51.2024961],\n",
       "       [71.2406514, 51.2027789],\n",
       "       [71.2413949, 51.2028422],\n",
       "       [71.2416241, 51.2032826],\n",
       "       [71.240399, 51.2050728],\n",
       "       [71.2404602, 51.205571],\n",
       "       [71.2425483, 51.2062927],\n",
       "       [71.2425756, 51.206572],\n",
       "       [71.2427927, 51.2067872],\n",
       "       [71.2415618, 51.2075436],\n",
       "       [71.2398687, 51.2075789],\n",
       "       [71.2381655, 51.2085434],\n",
       "       [71.2373798, 51.208443],\n",
       "       [71.2372988, 51.2086668],\n",
       "       [71.2376577, 51.2088705],\n",
       "       [71.23782, 51.2091848],\n",
       "       [71.2374504, 51.209616],\n",
       "       [71.2381298, 51.2097893],\n",
       "       [71.2385923, 51.2096825],\n",
       "       [71.2387723, 51.2100463],\n",
       "       [71.2390652, 51.210057],\n",
       "       [71.2391857, 51.2098629],\n",
       "       [71.2399044, 51.2102164],\n",
       "       [71.2394436, 51.2102252],\n",
       "       [71.2394423, 51.210466],\n",
       "       [71.2400728, 51.2104743],\n",
       "       [71.2400554, 51.2106501],\n",
       "       [71.2396569, 51.2107393],\n",
       "       [71.2396143, 51.2109319],\n",
       "       [71.240126, 51.2109017],\n",
       "       [71.2404319, 51.2110468],\n",
       "       [71.2411022, 51.2110707],\n",
       "       [71.2411563, 51.2112492],\n",
       "       [71.2407048, 51.211315],\n",
       "       [71.2406667, 51.2114667],\n",
       "       [71.2411313, 51.2116699],\n",
       "       [71.2411793, 51.2118567],\n",
       "       [71.2406025, 51.2120187],\n",
       "       [71.240046, 51.2123313],\n",
       "       [71.2401326, 51.2125092],\n",
       "       [71.2407455, 51.2126892],\n",
       "       [71.2408338, 51.2133037],\n",
       "       [71.2404671, 51.2135106],\n",
       "       [71.2405443, 51.2137621],\n",
       "       [71.2414526, 51.2141405],\n",
       "       [71.2412589, 51.2145645],\n",
       "       [71.2412904, 51.2149474],\n",
       "       [71.2410404, 51.2152827],\n",
       "       [71.2461291, 51.2210262],\n",
       "       [71.2476926, 51.2243114],\n",
       "       [71.244668, 51.2250488],\n",
       "       [71.2455008, 51.2259863],\n",
       "       [71.2556512, 51.238734],\n",
       "       [71.2602689, 51.2462623],\n",
       "       [71.3015604, 51.2331888],\n",
       "       [71.3039729, 51.2369849],\n",
       "       [71.319128, 51.2528271],\n",
       "       [71.3348807, 51.266619],\n",
       "       [71.3359065, 51.2669771],\n",
       "       [71.3408247, 51.2686981],\n",
       "       [71.3421256, 51.2670725],\n",
       "       [71.3459537, 51.2684957],\n",
       "       [71.3466905, 51.2672969],\n",
       "       [71.3663894, 51.2711805],\n",
       "       [71.3642122, 51.2757097],\n",
       "       [71.3587823, 51.2890938],\n",
       "       [71.355575, 51.2976887],\n",
       "       [71.385094, 51.3023282],\n",
       "       [71.3898001, 51.2912475],\n",
       "       [71.4001119, 51.2673427],\n",
       "       [71.4137661, 51.2706573],\n",
       "       [71.4281353, 51.2746546],\n",
       "       [71.4503904, 51.2716014],\n",
       "       [71.4685046, 51.2784522],\n",
       "       [71.4758818, 51.2864121],\n",
       "       [71.4908788, 51.2886239],\n",
       "       [71.4985027, 51.2901089],\n",
       "       [71.4983353, 51.2836432],\n",
       "       [71.4724675, 51.2637806],\n",
       "       [71.4695278, 51.2613861],\n",
       "       [71.5033599, 51.2540783],\n",
       "       [71.5522356, 51.2429404],\n",
       "       [71.5550584, 51.2469273],\n",
       "       [71.5569976, 51.2466818],\n",
       "       [71.5586844, 51.248522],\n",
       "       [71.5625084, 51.2485538],\n",
       "       [71.5659858, 51.252883],\n",
       "       [71.5669396, 51.2574811],\n",
       "       [71.5766996, 51.2629501],\n",
       "       [71.5941188, 51.2776463],\n",
       "       [71.6021091, 51.2685775],\n",
       "       [71.6044059, 51.2658364],\n",
       "       [71.609048, 51.2603142],\n",
       "       [71.6188071, 51.2484831],\n",
       "       [71.5742662, 51.2203778],\n",
       "       [71.5834847, 51.2026037],\n",
       "       [71.5878966, 51.1986017],\n",
       "       [71.6179142, 51.1894216],\n",
       "       [71.6216294, 51.1881894],\n",
       "       [71.6307685, 51.1693108],\n",
       "       [71.6431221, 51.1423345],\n",
       "       [71.6453858, 51.1399259],\n",
       "       [71.6732372, 51.1410352],\n",
       "       [71.6732943, 51.1401372],\n",
       "       [71.6849016, 51.1405718],\n",
       "       [71.6889679, 51.1404441],\n",
       "       [71.6921184, 51.1395729],\n",
       "       [71.7110588, 51.1320939],\n",
       "       [71.7136581, 51.1315338],\n",
       "       [71.7149108, 51.1313822],\n",
       "       [71.7054574, 51.1130112],\n",
       "       [71.7412871, 51.1052634],\n",
       "       [71.7423287, 51.1014059],\n",
       "       [71.7418897, 51.1015202],\n",
       "       [71.7402141, 51.1011957],\n",
       "       [71.7389685, 51.1001618],\n",
       "       [71.7389066, 51.0993855],\n",
       "       [71.7385248, 51.0986268],\n",
       "       [71.7391458, 51.0980063],\n",
       "       [71.7390397, 51.0974434],\n",
       "       [71.737331, 51.0967155],\n",
       "       [71.735658, 51.0965034],\n",
       "       [71.7342857, 51.0970211],\n",
       "       [71.7329443, 51.0980606],\n",
       "       [71.7315177, 51.0987673],\n",
       "       [71.731127, 51.0988903],\n",
       "       [71.7300097, 51.0995123],\n",
       "       [71.7289336, 51.1008864],\n",
       "       [71.7286974, 51.1019878],\n",
       "       [71.7285971, 51.1024649],\n",
       "       [71.7281094, 51.1029005],\n",
       "       [71.7268326, 51.1032838],\n",
       "       [71.7257865, 51.1035001],\n",
       "       [71.7251706, 51.1033932],\n",
       "       [71.7244343, 51.1034205],\n",
       "       [71.7232719, 51.1030234],\n",
       "       [71.722591, 51.1014941],\n",
       "       [71.721133, 51.100592],\n",
       "       [71.720761, 51.1004425],\n",
       "       [71.7200215, 51.100187],\n",
       "       [71.7179908, 51.099558],\n",
       "       [71.716579, 51.0994119],\n",
       "       [71.7140757, 51.0992922],\n",
       "       [71.712064, 51.0987466],\n",
       "       [71.7109628, 51.0985989],\n",
       "       [71.7095293, 51.0977919],\n",
       "       [71.7085128, 51.097635],\n",
       "       [71.7076878, 51.0971188],\n",
       "       [71.7067396, 51.0967854],\n",
       "       [71.7076413, 51.0961039],\n",
       "       [71.7082319, 51.0963701],\n",
       "       [71.709263, 51.0963462],\n",
       "       [71.7098974, 51.0960187],\n",
       "       [71.7101914, 51.0954605],\n",
       "       [71.7094299, 51.0946022],\n",
       "       [71.7087825, 51.0940031],\n",
       "       [71.7086443, 51.0931921],\n",
       "       [71.7070223, 51.0925037],\n",
       "       [71.704504, 51.0921049],\n",
       "       [71.7025154, 51.0928129],\n",
       "       [71.7008539, 51.0921106],\n",
       "       [71.700381, 51.0907225],\n",
       "       [71.6993647, 51.0894292],\n",
       "       [71.6963518, 51.0893013],\n",
       "       [71.6958849, 51.0907111],\n",
       "       [71.6946579, 51.0911838],\n",
       "       [71.695879, 51.0924066],\n",
       "       [71.6944278, 51.0926211],\n",
       "       [71.6939332, 51.0935542],\n",
       "       [71.6921204, 51.0936765],\n",
       "       [71.6920839, 51.0930488],\n",
       "       [71.6904231, 51.0925729],\n",
       "       [71.6894027, 51.0929677],\n",
       "       [71.6886596, 51.0926706],\n",
       "       [71.6891685, 51.092059],\n",
       "       [71.6889006, 51.091351],\n",
       "       [71.6866206, 51.0911463],\n",
       "       [71.6831288, 51.0916024],\n",
       "       [71.681892, 51.0912292],\n",
       "       [71.6806382, 51.0903997],\n",
       "       [71.6791093, 51.0853245],\n",
       "       [71.6743607, 51.0862388],\n",
       "       [71.6588524, 51.0892759],\n",
       "       [71.6349608, 51.0946676],\n",
       "       [71.6151336, 51.0993803],\n",
       "       [71.6078625, 51.0905369],\n",
       "       [71.6037835, 51.0857795],\n",
       "       [71.5882957, 51.0746349],\n",
       "       [71.5797424, 51.0703195],\n",
       "       [71.5644428, 51.0572895],\n",
       "       [71.556088, 51.048691],\n",
       "       [71.5477011, 51.0509109],\n",
       "       [71.5457574, 51.0486979],\n",
       "       [71.5341802, 51.0471897],\n",
       "       [71.5025869, 51.045466],\n",
       "       [71.4980141, 51.0425791],\n",
       "       [71.501568, 51.0391496],\n",
       "       [71.4924269, 51.0343627],\n",
       "       [71.4775451, 51.0249923],\n",
       "       [71.4788771, 51.0241314],\n",
       "       [71.475646, 51.0215791],\n",
       "       [71.4740231, 51.0223961],\n",
       "       [71.4691386, 51.0196739],\n",
       "       [71.468947, 51.0198168],\n",
       "       [71.4625042, 51.0165878],\n",
       "       [71.4597113, 51.0123162],\n",
       "       [71.4571859, 51.0069519],\n",
       "       [71.4547484, 51.0049056],\n",
       "       [71.4541934, 51.0006766],\n",
       "       [71.4383186, 51.0035437],\n",
       "       [71.4373207, 51.0029412],\n",
       "       [71.4356486, 51.0039225],\n",
       "       [71.4144398, 51.0071157],\n",
       "       [71.402951, 51.0090634],\n",
       "       [71.4003795, 51.0101037],\n",
       "       [71.3817892, 51.0129804],\n",
       "       [71.3801142, 51.0129896],\n",
       "       [71.3355374, 51.0190931],\n",
       "       [71.3317459, 51.0214741],\n",
       "       [71.3184737, 51.0237469],\n",
       "       [71.3123601, 51.0233131],\n",
       "       [71.3078297, 51.0222101],\n",
       "       [71.3030227, 51.0227157],\n",
       "       [71.2908043, 51.0217277],\n",
       "       [71.2895376, 51.0215786],\n",
       "       [71.2866187, 51.0224236],\n",
       "       [71.2847901, 51.0237262],\n",
       "       [71.2796905, 51.0263875],\n",
       "       [71.2760821, 51.029967],\n",
       "       [71.2722388, 51.0333053],\n",
       "       [71.2693186, 51.0350465],\n",
       "       [71.2684643, 51.0392038],\n",
       "       [71.2666071, 51.0410646],\n",
       "       [71.2631113, 51.0424307],\n",
       "       [71.2616567, 51.0445644],\n",
       "       [71.2576794, 51.0474837],\n",
       "       [71.2554276, 51.0504046],\n",
       "       [71.2561724, 51.0531274],\n",
       "       [71.2547052, 51.0550155],\n",
       "       [71.2550435, 51.0573952],\n",
       "       [71.2560461, 51.0596918],\n",
       "       [71.2558708, 51.0629586],\n",
       "       [71.2531361, 51.0662749],\n",
       "       [71.250827, 51.0680388],\n",
       "       [71.2481749, 51.0684759],\n",
       "       [71.2451662, 51.0685891],\n",
       "       [71.2261047, 51.0997588],\n",
       "       [71.2255433, 51.1005826],\n",
       "       [71.2243848, 51.1001786],\n",
       "       [71.2178506, 51.1107521]]],\n",
       "     [[[71.6415258, 51.3316656],\n",
       "       [71.6678132, 51.3398842],\n",
       "       [71.6838682, 51.3509429],\n",
       "       [71.6923847, 51.3510715],\n",
       "       [71.6950979, 51.3511101],\n",
       "       [71.6927107, 51.3488787],\n",
       "       [71.697736, 51.3465872],\n",
       "       [71.7011348, 51.349766],\n",
       "       [71.7063332, 51.3476043],\n",
       "       [71.7039107, 51.3428285],\n",
       "       [71.6999211, 51.3388761],\n",
       "       [71.6990471, 51.3378711],\n",
       "       [71.6973656, 51.3353448],\n",
       "       [71.6941792, 51.3335279],\n",
       "       [71.6938307, 51.3337089],\n",
       "       [71.6866021, 51.3288876],\n",
       "       [71.6842449, 51.3256499],\n",
       "       [71.6787604, 51.3217359],\n",
       "       [71.672494, 51.3174535],\n",
       "       [71.6716, 51.3165612],\n",
       "       [71.6733166, 51.3156608],\n",
       "       [71.6704181, 51.3137676],\n",
       "       [71.6742334, 51.3111448],\n",
       "       [71.6718742, 51.3094308],\n",
       "       [71.6703576, 51.3103754],\n",
       "       [71.6666355, 51.3130922],\n",
       "       [71.6580881, 51.3171647],\n",
       "       [71.6564341, 51.3182197],\n",
       "       [71.6513113, 51.3215171],\n",
       "       [71.6445262, 51.3283709],\n",
       "       [71.6415258, 51.3316656]]],\n",
       "     [[[71.740388, 51.16606],\n",
       "       [71.7851103, 51.165569],\n",
       "       [71.7851913, 51.1573031],\n",
       "       [71.782424, 51.1504554],\n",
       "       [71.7661365, 51.1446854],\n",
       "       [71.7608792, 51.1457224],\n",
       "       [71.7468576, 51.1621451],\n",
       "       [71.740388, 51.16606]]]]},\n",
       "   'geometry_name': 'the_geom',\n",
       "   'properties': {'ID': 3087155,\n",
       "    'NAME': 'Astana',\n",
       "    'LOCALNAME': 'ГђВђГ‘ВЃГ‘В‚ГђВ°ГђВЅГђВ°',\n",
       "    'BOUNDARY': 'administrative',\n",
       "    'ADMIN_LEVE': '4',\n",
       "    'CITY_KEY': '',\n",
       "    'REGION_KEY': '',\n",
       "    'NOTE': 'region polygon',\n",
       "    'FLAG': '',\n",
       "    'CURRENCY': '',\n",
       "    'ISO3166-1:': '',\n",
       "    'WIKIDATA': '',\n",
       "    'WIKIPEDIA': 'ru:ГђВђГ‘ВЃГ‘В‚ГђВ°ГђВЅГђВ°',\n",
       "    'OFFICIAL_N': '',\n",
       "    'bbox': [71.2178506, 51.0006766, 71.7851913, 51.3511101]}}],\n",
       " 'crs': {'type': 'EPSG', 'properties': {'code': '4326'}},\n",
       " 'bbox': [71.2178506, 51.0006766, 71.7851913, 51.3511101]}"
      ]
     },
     "execution_count": 296,
     "metadata": {},
     "output_type": "execute_result"
    }
   ],
   "source": [
    "geojson"
   ]
  },
  {
   "cell_type": "code",
   "execution_count": 320,
   "metadata": {},
   "outputs": [
    {
     "data": {
      "text/html": [
       "<div>\n",
       "<style scoped>\n",
       "    .dataframe tbody tr th:only-of-type {\n",
       "        vertical-align: middle;\n",
       "    }\n",
       "\n",
       "    .dataframe tbody tr th {\n",
       "        vertical-align: top;\n",
       "    }\n",
       "\n",
       "    .dataframe thead th {\n",
       "        text-align: right;\n",
       "    }\n",
       "</style>\n",
       "<table border=\"1\" class=\"dataframe\">\n",
       "  <thead>\n",
       "    <tr style=\"text-align: right;\">\n",
       "      <th></th>\n",
       "      <th>dates</th>\n",
       "      <th>Т</th>\n",
       "      <th>city</th>\n",
       "    </tr>\n",
       "  </thead>\n",
       "  <tbody>\n",
       "    <tr>\n",
       "      <th>0</th>\n",
       "      <td>2016-01-01 00:00:00</td>\n",
       "      <td>-20.5</td>\n",
       "      <td>Astana</td>\n",
       "    </tr>\n",
       "    <tr>\n",
       "      <th>1</th>\n",
       "      <td>2016-01-01 03:00:00</td>\n",
       "      <td>-19.6</td>\n",
       "      <td>Astana</td>\n",
       "    </tr>\n",
       "    <tr>\n",
       "      <th>4</th>\n",
       "      <td>2016-01-01 06:00:00</td>\n",
       "      <td>-18.2</td>\n",
       "      <td>Astana</td>\n",
       "    </tr>\n",
       "    <tr>\n",
       "      <th>5</th>\n",
       "      <td>2016-01-01 09:00:00</td>\n",
       "      <td>-16.5</td>\n",
       "      <td>Astana</td>\n",
       "    </tr>\n",
       "    <tr>\n",
       "      <th>6</th>\n",
       "      <td>2016-01-01 12:00:00</td>\n",
       "      <td>-17.5</td>\n",
       "      <td>Astana</td>\n",
       "    </tr>\n",
       "    <tr>\n",
       "      <th>...</th>\n",
       "      <td>...</td>\n",
       "      <td>...</td>\n",
       "      <td>...</td>\n",
       "    </tr>\n",
       "    <tr>\n",
       "      <th>1148</th>\n",
       "      <td>2016-05-01 15:00:00</td>\n",
       "      <td>13.9</td>\n",
       "      <td>Astana</td>\n",
       "    </tr>\n",
       "    <tr>\n",
       "      <th>1149</th>\n",
       "      <td>2016-05-01 18:00:00</td>\n",
       "      <td>12.9</td>\n",
       "      <td>Astana</td>\n",
       "    </tr>\n",
       "    <tr>\n",
       "      <th>1150</th>\n",
       "      <td>2016-05-01 21:00:00</td>\n",
       "      <td>7.5</td>\n",
       "      <td>Astana</td>\n",
       "    </tr>\n",
       "    <tr>\n",
       "      <th>1151</th>\n",
       "      <td>2016-05-02 00:00:00</td>\n",
       "      <td>7.1</td>\n",
       "      <td>Astana</td>\n",
       "    </tr>\n",
       "    <tr>\n",
       "      <th>1152</th>\n",
       "      <td>2016-05-02 03:00:00</td>\n",
       "      <td>12.8</td>\n",
       "      <td>Astana</td>\n",
       "    </tr>\n",
       "  </tbody>\n",
       "</table>\n",
       "<p>977 rows × 3 columns</p>\n",
       "</div>"
      ],
      "text/plain": [
       "                   dates     Т    city\n",
       "0    2016-01-01 00:00:00 -20.5  Astana\n",
       "1    2016-01-01 03:00:00 -19.6  Astana\n",
       "4    2016-01-01 06:00:00 -18.2  Astana\n",
       "5    2016-01-01 09:00:00 -16.5  Astana\n",
       "6    2016-01-01 12:00:00 -17.5  Astana\n",
       "...                  ...   ...     ...\n",
       "1148 2016-05-01 15:00:00  13.9  Astana\n",
       "1149 2016-05-01 18:00:00  12.9  Astana\n",
       "1150 2016-05-01 21:00:00   7.5  Astana\n",
       "1151 2016-05-02 00:00:00   7.1  Astana\n",
       "1152 2016-05-02 03:00:00  12.8  Astana\n",
       "\n",
       "[977 rows x 3 columns]"
      ]
     },
     "execution_count": 320,
     "metadata": {},
     "output_type": "execute_result"
    }
   ],
   "source": [
    "result"
   ]
  },
  {
   "cell_type": "code",
   "execution_count": 318,
   "metadata": {},
   "outputs": [
    {
     "data": {
      "application/vnd.plotly.v1+json": {
       "config": {
        "plotlyServerURL": "https://plot.ly"
       },
       "data": [
        {
         "coloraxis": "coloraxis",
         "featureidkey": "properties.NAME",
         "geo": "geo",
         "geojson": {
          "bbox": [
           71.2178506,
           51.0006766,
           71.7851913,
           51.3511101
          ],
          "crs": {
           "properties": {
            "code": "4326"
           },
           "type": "EPSG"
          },
          "features": [
           {
            "geometry": {
             "coordinates": [
              [
               [
                [
                 71.2178506,
                 51.1107521
                ],
                [
                 71.2259581,
                 51.1140099
                ],
                [
                 71.2287062,
                 51.1230021
                ],
                [
                 71.2362172,
                 51.1328865
                ],
                [
                 71.2361409,
                 51.1495535
                ],
                [
                 71.238494,
                 51.1496155
                ],
                [
                 71.2385637,
                 51.1522256
                ],
                [
                 71.2425815,
                 51.1523111
                ],
                [
                 71.2427604,
                 51.1575583
                ],
                [
                 71.2544087,
                 51.1581347
                ],
                [
                 71.2541959,
                 51.1628188
                ],
                [
                 71.2529729,
                 51.1758855
                ],
                [
                 71.2653832,
                 51.1742581
                ],
                [
                 71.2819046,
                 51.1793117
                ],
                [
                 71.2818051,
                 51.1796114
                ],
                [
                 71.2813813,
                 51.1796801
                ],
                [
                 71.2810288,
                 51.1798315
                ],
                [
                 71.2809626,
                 51.1798742
                ],
                [
                 71.2809225,
                 51.1799792
                ],
                [
                 71.2809589,
                 51.1801161
                ],
                [
                 71.2809407,
                 51.180196
                ],
                [
                 71.2809086,
                 51.1804048
                ],
                [
                 71.280846,
                 51.1805225
                ],
                [
                 71.280795,
                 51.1806366
                ],
                [
                 71.280704,
                 51.1807074
                ],
                [
                 71.2803786,
                 51.1809422
                ],
                [
                 71.2802088,
                 51.1810817
                ],
                [
                 71.2800303,
                 51.1811137
                ],
                [
                 71.2799393,
                 51.1811205
                ],
                [
                 71.2797281,
                 51.1811457
                ],
                [
                 71.2795533,
                 51.1811137
                ],
                [
                 71.2794441,
                 51.1809379
                ],
                [
                 71.2793275,
                 51.1808032
                ],
                [
                 71.2791746,
                 51.180664
                ],
                [
                 71.2790682,
                 51.1805969
                ],
                [
                 71.2788978,
                 51.1805316
                ],
                [
                 71.2786866,
                 51.1804631
                ],
                [
                 71.2782708,
                 51.1804054
                ],
                [
                 71.2780639,
                 51.1804312
                ],
                [
                 71.2778855,
                 51.1804996
                ],
                [
                 71.277769,
                 51.1806823
                ],
                [
                 71.2777353,
                 51.1807499
                ],
                [
                 71.2777543,
                 51.1809491
                ],
                [
                 71.2777924,
                 51.1811161
                ],
                [
                 71.2778571,
                 51.1811912
                ],
                [
                 71.2778438,
                 51.1812532
                ],
                [
                 71.277722,
                 51.181351
                ],
                [
                 71.2775942,
                 51.1814036
                ],
                [
                 71.2774689,
                 51.1813713
                ],
                [
                 71.2773053,
                 51.1813105
                ],
                [
                 71.2771131,
                 51.1812449
                ],
                [
                 71.2770693,
                 51.1811948
                ],
                [
                 71.2770598,
                 51.1811149
                ],
                [
                 71.2770731,
                 51.1808906
                ],
                [
                 71.2771207,
                 51.1808107
                ],
                [
                 71.2771625,
                 51.1806688
                ],
                [
                 71.2772824,
                 51.1804326
                ],
                [
                 71.2772938,
                 51.1803527
                ],
                [
                 71.2772196,
                 51.1803145
                ],
                [
                 71.2770084,
                 51.1803276
                ],
                [
                 71.2767078,
                 51.1803646
                ],
                [
                 71.276645,
                 51.1803395
                ],
                [
                 71.2765708,
                 51.1802632
                ],
                [
                 71.2764566,
                 51.180188
                ],
                [
                 71.276371,
                 51.180163
                ],
                [
                 71.2761997,
                 51.1802143
                ],
                [
                 71.2760037,
                 51.1802966
                ],
                [
                 71.2758648,
                 51.1803992
                ],
                [
                 71.2758572,
                 51.1804672
                ],
                [
                 71.2758914,
                 51.180522
                ],
                [
                 71.2759676,
                 51.1805829
                ],
                [
                 71.2760361,
                 51.1806974
                ],
                [
                 71.2761978,
                 51.1809383
                ],
                [
                 71.276232,
                 51.1810636
                ],
                [
                 71.2762111,
                 51.1811697
                ],
                [
                 71.276135,
                 51.1812771
                ],
                [
                 71.2760589,
                 51.1813165
                ],
                [
                 71.2760989,
                 51.1814071
                ],
                [
                 71.2761883,
                 51.1814668
                ],
                [
                 71.2762948,
                 51.1815335
                ],
                [
                 71.2762948,
                 51.1815729
                ],
                [
                 71.2762149,
                 51.1815932
                ],
                [
                 71.276057,
                 51.1815884
                ],
                [
                 71.2757982,
                 51.1815836
                ],
                [
                 71.2756222,
                 51.1816255
                ],
                [
                 71.275605,
                 51.1816657
                ],
                [
                 71.275648,
                 51.1817846
                ],
                [
                 71.2757072,
                 51.1819136
                ],
                [
                 71.2757395,
                 51.1820158
                ],
                [
                 71.2756596,
                 51.1821363
                ],
                [
                 71.2755378,
                 51.1821721
                ],
                [
                 71.2753475,
                 51.1821936
                ],
                [
                 71.2751648,
                 51.1821948
                ],
                [
                 71.274927,
                 51.1821578
                ],
                [
                 71.274809,
                 51.1821005
                ],
                [
                 71.2746986,
                 51.1820385
                ],
                [
                 71.2746511,
                 51.1819848
                ],
                [
                 71.2746166,
                 51.181958
                ],
                [
                 71.2746011,
                 51.1819209
                ],
                [
                 71.2745762,
                 51.1819074
                ],
                [
                 71.2745594,
                 51.1818585
                ],
                [
                 71.2745217,
                 51.1818243
                ],
                [
                 71.2744935,
                 51.1817746
                ],
                [
                 71.2744229,
                 51.1817252
                ],
                [
                 71.2743293,
                 51.1816687
                ],
                [
                 71.2741975,
                 51.1815865
                ],
                [
                 71.2738348,
                 51.181496
                ],
                [
                 71.273557,
                 51.1814471
                ],
                [
                 71.2733134,
                 51.1814375
                ],
                [
                 71.2731041,
                 51.1814554
                ],
                [
                 71.2729671,
                 51.1815329
                ],
                [
                 71.2728739,
                 51.1816749
                ],
                [
                 71.2726722,
                 51.1818407
                ],
                [
                 71.2725371,
                 51.1819457
                ],
                [
                 71.2724438,
                 51.1820769
                ],
                [
                 71.2722897,
                 51.1822272
                ],
                [
                 71.2721698,
                 51.1824216
                ],
                [
                 71.2718768,
                 51.1827031
                ],
                [
                 71.2717893,
                 51.1828247
                ],
                [
                 71.2717759,
                 51.1829428
                ],
                [
                 71.2717969,
                 51.1830156
                ],
                [
                 71.2718863,
                 51.1830752
                ],
                [
                 71.2720062,
                 51.1831289
                ],
                [
                 71.2722212,
                 51.1832446
                ],
                [
                 71.2724572,
                 51.183408
                ],
                [
                 71.2725732,
                 51.183532
                ],
                [
                 71.2725656,
                 51.1836406
                ],
                [
                 71.2724914,
                 51.183705
                ],
                [
                 71.2723183,
                 51.1837909
                ],
                [
                 71.2721736,
                 51.1839054
                ],
                [
                 71.2719719,
                 51.1839722
                ],
                [
                 71.2717398,
                 51.1839936
                ],
                [
                 71.2715229,
                 51.1839889
                ],
                [
                 71.2714391,
                 51.1839471
                ],
                [
                 71.2713269,
                 51.1838374
                ],
                [
                 71.2712584,
                 51.1837479
                ],
                [
                 71.2711461,
                 51.1836096
                ],
                [
                 71.27103,
                 51.1834879
                ],
                [
                 71.2708378,
                 51.1834533
                ],
                [
                 71.2707085,
                 51.1835642
                ],
                [
                 71.2706171,
                 51.1836549
                ],
                [
                 71.2705695,
                 51.1837277
                ],
                [
                 71.2705905,
                 51.1838195
                ],
                [
                 71.2706647,
                 51.1839113
                ],
                [
                 71.2707085,
                 51.184058
                ],
                [
                 71.2708302,
                 51.1842501
                ],
                [
                 71.2709444,
                 51.1844027
                ],
                [
                 71.2709292,
                 51.1845113
                ],
                [
                 71.2708474,
                 51.1845828
                ],
                [
                 71.2707104,
                 51.1846341
                ],
                [
                 71.2705087,
                 51.1846532
                ],
                [
                 71.270307,
                 51.184689
                ],
                [
                 71.2700615,
                 51.1848297
                ],
                [
                 71.2699968,
                 51.1849252
                ],
                [
                 71.2699625,
                 51.1850253
                ],
                [
                 71.2699721,
                 51.1851315
                ],
                [
                 71.2700139,
                 51.1853748
                ],
                [
                 71.2700805,
                 51.1854666
                ],
                [
                 71.270149,
                 51.1855895
                ],
                [
                 71.2701433,
                 51.1857505
                ],
                [
                 71.2700919,
                 51.1860093
                ],
                [
                 71.270031,
                 51.1861811
                ],
                [
                 71.2698655,
                 51.1863111
                ],
                [
                 71.2698456,
                 51.1863729
                ],
                [
                 71.2698845,
                 51.1864816
                ],
                [
                 71.2700368,
                 51.1865794
                ],
                [
                 71.2701776,
                 51.1866665
                ],
                [
                 71.2705581,
                 51.1868347
                ],
                [
                 71.2709863,
                 51.1869885
                ],
                [
                 71.2714506,
                 51.1870935
                ],
                [
                 71.2717189,
                 51.1871937
                ],
                [
                 71.2719767,
                 51.1874108
                ],
                [
                 71.2720126,
                 51.1876382
                ],
                [
                 71.2718985,
                 51.1877389
                ],
                [
                 71.2718204,
                 51.1879789
                ],
                [
                 71.2718204,
                 51.1880499
                ],
                [
                 71.2718829,
                 51.1881209
                ],
                [
                 71.2720626,
                 51.1881846
                ],
                [
                 71.2721173,
                 51.188263
                ],
                [
                 71.2726565,
                 51.1881944
                ],
                [
                 71.2728831,
                 51.1881919
                ],
                [
                 71.2730746,
                 51.1882532
                ],
                [
                 71.2731996,
                 51.1883903
                ],
                [
                 71.2732269,
                 51.1884956
                ],
                [
                 71.2731996,
                 51.1886009
                ],
                [
                 71.2731449,
                 51.1886474
                ],
                [
                 71.2730316,
                 51.1887062
                ],
                [
                 71.2727972,
                 51.1887797
                ],
                [
                 71.2726995,
                 51.188809
                ],
                [
                 71.2726057,
                 51.1889315
                ],
                [
                 71.2725705,
                 51.1890441
                ],
                [
                 71.2725041,
                 51.1891176
                ],
                [
                 71.2724084,
                 51.189147
                ],
                [
                 71.2723615,
                 51.1891421
                ],
                [
                 71.2722424,
                 51.1891653
                ],
                [
                 71.2721056,
                 51.1891861
                ],
                [
                 71.2719923,
                 51.1892572
                ],
                [
                 71.2718243,
                 51.1893576
                ],
                [
                 71.2716719,
                 51.1893845
                ],
                [
                 71.2715938,
                 51.1893853
                ],
                [
                 71.2714651,
                 51.1893644
                ],
                [
                 71.2713479,
                 51.18929
                ],
                [
                 71.2712773,
                 51.1892106
                ],
                [
                 71.2711683,
                 51.1892
                ],
                [
                 71.2710548,
                 51.1892689
                ],
                [
                 71.2710181,
                 51.1892822
                ],
                [
                 71.2709916,
                 51.1892867
                ],
                [
                 71.2709546,
                 51.1892828
                ],
                [
                 71.2709308,
                 51.1892779
                ],
                [
                 71.2707846,
                 51.1892491
                ],
                [
                 71.2707652,
                 51.1892379
                ],
                [
                 71.2707417,
                 51.1892032
                ],
                [
                 71.2707263,
                 51.1891636
                ],
                [
                 71.2706766,
                 51.189103
                ],
                [
                 71.2706573,
                 51.1890268
                ],
                [
                 71.2705108,
                 51.1889489
                ],
                [
                 71.2704362,
                 51.1888901
                ],
                [
                 71.2703561,
                 51.1888554
                ],
                [
                 71.2701558,
                 51.1889299
                ],
                [
                 71.2693357,
                 51.1895483
                ],
                [
                 71.2680569,
                 51.1888247
                ],
                [
                 71.2672272,
                 51.1887174
                ],
                [
                 71.2670207,
                 51.1895767
                ],
                [
                 71.2665549,
                 51.1896844
                ],
                [
                 71.2660631,
                 51.1895295
                ],
                [
                 71.2653868,
                 51.1890821
                ],
                [
                 71.2649231,
                 51.1889677
                ],
                [
                 71.2643575,
                 51.189176
                ],
                [
                 71.2648238,
                 51.1896111
                ],
                [
                 71.2645475,
                 51.1898467
                ],
                [
                 71.2623274,
                 51.1896758
                ],
                [
                 71.2617444,
                 51.1917272
                ],
                [
                 71.2608273,
                 51.1921802
                ],
                [
                 71.2605489,
                 51.1918402
                ],
                [
                 71.2601572,
                 51.1915928
                ],
                [
                 71.2602361,
                 51.191065
                ],
                [
                 71.2599531,
                 51.1908977
                ],
                [
                 71.2601036,
                 51.1902287
                ],
                [
                 71.2585294,
                 51.1901522
                ],
                [
                 71.2571143,
                 51.1903851
                ],
                [
                 71.2557292,
                 51.1894887
                ],
                [
                 71.2551088,
                 51.1897824
                ],
                [
                 71.2551998,
                 51.1903069
                ],
                [
                 71.2543719,
                 51.1913097
                ],
                [
                 71.2531749,
                 51.1911848
                ],
                [
                 71.2528868,
                 51.1903762
                ],
                [
                 71.2519026,
                 51.1903211
                ],
                [
                 71.2513743,
                 51.1907589
                ],
                [
                 71.2529779,
                 51.1925126
                ],
                [
                 71.2519617,
                 51.1926062
                ],
                [
                 71.2514133,
                 51.1934391
                ],
                [
                 71.2500851,
                 51.1933317
                ],
                [
                 71.2492164,
                 51.1937445
                ],
                [
                 71.2487677,
                 51.1950114
                ],
                [
                 71.2476022,
                 51.1955243
                ],
                [
                 71.2456272,
                 51.1965498
                ],
                [
                 71.2431643,
                 51.1969271
                ],
                [
                 71.2421575,
                 51.1976938
                ],
                [
                 71.2424363,
                 51.1978427
                ],
                [
                 71.2433014,
                 51.1982722
                ],
                [
                 71.2445303,
                 51.1983083
                ],
                [
                 71.2448259,
                 51.198465
                ],
                [
                 71.2443965,
                 51.1989215
                ],
                [
                 71.2444652,
                 51.1989977
                ],
                [
                 71.2446405,
                 51.1991983
                ],
                [
                 71.2434339,
                 51.2000285
                ],
                [
                 71.2417446,
                 51.2008158
                ],
                [
                 71.2404463,
                 51.2013629
                ],
                [
                 71.2400139,
                 51.2019547
                ],
                [
                 71.2405078,
                 51.2024961
                ],
                [
                 71.2406514,
                 51.2027789
                ],
                [
                 71.2413949,
                 51.2028422
                ],
                [
                 71.2416241,
                 51.2032826
                ],
                [
                 71.240399,
                 51.2050728
                ],
                [
                 71.2404602,
                 51.205571
                ],
                [
                 71.2425483,
                 51.2062927
                ],
                [
                 71.2425756,
                 51.206572
                ],
                [
                 71.2427927,
                 51.2067872
                ],
                [
                 71.2415618,
                 51.2075436
                ],
                [
                 71.2398687,
                 51.2075789
                ],
                [
                 71.2381655,
                 51.2085434
                ],
                [
                 71.2373798,
                 51.208443
                ],
                [
                 71.2372988,
                 51.2086668
                ],
                [
                 71.2376577,
                 51.2088705
                ],
                [
                 71.23782,
                 51.2091848
                ],
                [
                 71.2374504,
                 51.209616
                ],
                [
                 71.2381298,
                 51.2097893
                ],
                [
                 71.2385923,
                 51.2096825
                ],
                [
                 71.2387723,
                 51.2100463
                ],
                [
                 71.2390652,
                 51.210057
                ],
                [
                 71.2391857,
                 51.2098629
                ],
                [
                 71.2399044,
                 51.2102164
                ],
                [
                 71.2394436,
                 51.2102252
                ],
                [
                 71.2394423,
                 51.210466
                ],
                [
                 71.2400728,
                 51.2104743
                ],
                [
                 71.2400554,
                 51.2106501
                ],
                [
                 71.2396569,
                 51.2107393
                ],
                [
                 71.2396143,
                 51.2109319
                ],
                [
                 71.240126,
                 51.2109017
                ],
                [
                 71.2404319,
                 51.2110468
                ],
                [
                 71.2411022,
                 51.2110707
                ],
                [
                 71.2411563,
                 51.2112492
                ],
                [
                 71.2407048,
                 51.211315
                ],
                [
                 71.2406667,
                 51.2114667
                ],
                [
                 71.2411313,
                 51.2116699
                ],
                [
                 71.2411793,
                 51.2118567
                ],
                [
                 71.2406025,
                 51.2120187
                ],
                [
                 71.240046,
                 51.2123313
                ],
                [
                 71.2401326,
                 51.2125092
                ],
                [
                 71.2407455,
                 51.2126892
                ],
                [
                 71.2408338,
                 51.2133037
                ],
                [
                 71.2404671,
                 51.2135106
                ],
                [
                 71.2405443,
                 51.2137621
                ],
                [
                 71.2414526,
                 51.2141405
                ],
                [
                 71.2412589,
                 51.2145645
                ],
                [
                 71.2412904,
                 51.2149474
                ],
                [
                 71.2410404,
                 51.2152827
                ],
                [
                 71.2461291,
                 51.2210262
                ],
                [
                 71.2476926,
                 51.2243114
                ],
                [
                 71.244668,
                 51.2250488
                ],
                [
                 71.2455008,
                 51.2259863
                ],
                [
                 71.2556512,
                 51.238734
                ],
                [
                 71.2602689,
                 51.2462623
                ],
                [
                 71.3015604,
                 51.2331888
                ],
                [
                 71.3039729,
                 51.2369849
                ],
                [
                 71.319128,
                 51.2528271
                ],
                [
                 71.3348807,
                 51.266619
                ],
                [
                 71.3359065,
                 51.2669771
                ],
                [
                 71.3408247,
                 51.2686981
                ],
                [
                 71.3421256,
                 51.2670725
                ],
                [
                 71.3459537,
                 51.2684957
                ],
                [
                 71.3466905,
                 51.2672969
                ],
                [
                 71.3663894,
                 51.2711805
                ],
                [
                 71.3642122,
                 51.2757097
                ],
                [
                 71.3587823,
                 51.2890938
                ],
                [
                 71.355575,
                 51.2976887
                ],
                [
                 71.385094,
                 51.3023282
                ],
                [
                 71.3898001,
                 51.2912475
                ],
                [
                 71.4001119,
                 51.2673427
                ],
                [
                 71.4137661,
                 51.2706573
                ],
                [
                 71.4281353,
                 51.2746546
                ],
                [
                 71.4503904,
                 51.2716014
                ],
                [
                 71.4685046,
                 51.2784522
                ],
                [
                 71.4758818,
                 51.2864121
                ],
                [
                 71.4908788,
                 51.2886239
                ],
                [
                 71.4985027,
                 51.2901089
                ],
                [
                 71.4983353,
                 51.2836432
                ],
                [
                 71.4724675,
                 51.2637806
                ],
                [
                 71.4695278,
                 51.2613861
                ],
                [
                 71.5033599,
                 51.2540783
                ],
                [
                 71.5522356,
                 51.2429404
                ],
                [
                 71.5550584,
                 51.2469273
                ],
                [
                 71.5569976,
                 51.2466818
                ],
                [
                 71.5586844,
                 51.248522
                ],
                [
                 71.5625084,
                 51.2485538
                ],
                [
                 71.5659858,
                 51.252883
                ],
                [
                 71.5669396,
                 51.2574811
                ],
                [
                 71.5766996,
                 51.2629501
                ],
                [
                 71.5941188,
                 51.2776463
                ],
                [
                 71.6021091,
                 51.2685775
                ],
                [
                 71.6044059,
                 51.2658364
                ],
                [
                 71.609048,
                 51.2603142
                ],
                [
                 71.6188071,
                 51.2484831
                ],
                [
                 71.5742662,
                 51.2203778
                ],
                [
                 71.5834847,
                 51.2026037
                ],
                [
                 71.5878966,
                 51.1986017
                ],
                [
                 71.6179142,
                 51.1894216
                ],
                [
                 71.6216294,
                 51.1881894
                ],
                [
                 71.6307685,
                 51.1693108
                ],
                [
                 71.6431221,
                 51.1423345
                ],
                [
                 71.6453858,
                 51.1399259
                ],
                [
                 71.6732372,
                 51.1410352
                ],
                [
                 71.6732943,
                 51.1401372
                ],
                [
                 71.6849016,
                 51.1405718
                ],
                [
                 71.6889679,
                 51.1404441
                ],
                [
                 71.6921184,
                 51.1395729
                ],
                [
                 71.7110588,
                 51.1320939
                ],
                [
                 71.7136581,
                 51.1315338
                ],
                [
                 71.7149108,
                 51.1313822
                ],
                [
                 71.7054574,
                 51.1130112
                ],
                [
                 71.7412871,
                 51.1052634
                ],
                [
                 71.7423287,
                 51.1014059
                ],
                [
                 71.7418897,
                 51.1015202
                ],
                [
                 71.7402141,
                 51.1011957
                ],
                [
                 71.7389685,
                 51.1001618
                ],
                [
                 71.7389066,
                 51.0993855
                ],
                [
                 71.7385248,
                 51.0986268
                ],
                [
                 71.7391458,
                 51.0980063
                ],
                [
                 71.7390397,
                 51.0974434
                ],
                [
                 71.737331,
                 51.0967155
                ],
                [
                 71.735658,
                 51.0965034
                ],
                [
                 71.7342857,
                 51.0970211
                ],
                [
                 71.7329443,
                 51.0980606
                ],
                [
                 71.7315177,
                 51.0987673
                ],
                [
                 71.731127,
                 51.0988903
                ],
                [
                 71.7300097,
                 51.0995123
                ],
                [
                 71.7289336,
                 51.1008864
                ],
                [
                 71.7286974,
                 51.1019878
                ],
                [
                 71.7285971,
                 51.1024649
                ],
                [
                 71.7281094,
                 51.1029005
                ],
                [
                 71.7268326,
                 51.1032838
                ],
                [
                 71.7257865,
                 51.1035001
                ],
                [
                 71.7251706,
                 51.1033932
                ],
                [
                 71.7244343,
                 51.1034205
                ],
                [
                 71.7232719,
                 51.1030234
                ],
                [
                 71.722591,
                 51.1014941
                ],
                [
                 71.721133,
                 51.100592
                ],
                [
                 71.720761,
                 51.1004425
                ],
                [
                 71.7200215,
                 51.100187
                ],
                [
                 71.7179908,
                 51.099558
                ],
                [
                 71.716579,
                 51.0994119
                ],
                [
                 71.7140757,
                 51.0992922
                ],
                [
                 71.712064,
                 51.0987466
                ],
                [
                 71.7109628,
                 51.0985989
                ],
                [
                 71.7095293,
                 51.0977919
                ],
                [
                 71.7085128,
                 51.097635
                ],
                [
                 71.7076878,
                 51.0971188
                ],
                [
                 71.7067396,
                 51.0967854
                ],
                [
                 71.7076413,
                 51.0961039
                ],
                [
                 71.7082319,
                 51.0963701
                ],
                [
                 71.709263,
                 51.0963462
                ],
                [
                 71.7098974,
                 51.0960187
                ],
                [
                 71.7101914,
                 51.0954605
                ],
                [
                 71.7094299,
                 51.0946022
                ],
                [
                 71.7087825,
                 51.0940031
                ],
                [
                 71.7086443,
                 51.0931921
                ],
                [
                 71.7070223,
                 51.0925037
                ],
                [
                 71.704504,
                 51.0921049
                ],
                [
                 71.7025154,
                 51.0928129
                ],
                [
                 71.7008539,
                 51.0921106
                ],
                [
                 71.700381,
                 51.0907225
                ],
                [
                 71.6993647,
                 51.0894292
                ],
                [
                 71.6963518,
                 51.0893013
                ],
                [
                 71.6958849,
                 51.0907111
                ],
                [
                 71.6946579,
                 51.0911838
                ],
                [
                 71.695879,
                 51.0924066
                ],
                [
                 71.6944278,
                 51.0926211
                ],
                [
                 71.6939332,
                 51.0935542
                ],
                [
                 71.6921204,
                 51.0936765
                ],
                [
                 71.6920839,
                 51.0930488
                ],
                [
                 71.6904231,
                 51.0925729
                ],
                [
                 71.6894027,
                 51.0929677
                ],
                [
                 71.6886596,
                 51.0926706
                ],
                [
                 71.6891685,
                 51.092059
                ],
                [
                 71.6889006,
                 51.091351
                ],
                [
                 71.6866206,
                 51.0911463
                ],
                [
                 71.6831288,
                 51.0916024
                ],
                [
                 71.681892,
                 51.0912292
                ],
                [
                 71.6806382,
                 51.0903997
                ],
                [
                 71.6791093,
                 51.0853245
                ],
                [
                 71.6743607,
                 51.0862388
                ],
                [
                 71.6588524,
                 51.0892759
                ],
                [
                 71.6349608,
                 51.0946676
                ],
                [
                 71.6151336,
                 51.0993803
                ],
                [
                 71.6078625,
                 51.0905369
                ],
                [
                 71.6037835,
                 51.0857795
                ],
                [
                 71.5882957,
                 51.0746349
                ],
                [
                 71.5797424,
                 51.0703195
                ],
                [
                 71.5644428,
                 51.0572895
                ],
                [
                 71.556088,
                 51.048691
                ],
                [
                 71.5477011,
                 51.0509109
                ],
                [
                 71.5457574,
                 51.0486979
                ],
                [
                 71.5341802,
                 51.0471897
                ],
                [
                 71.5025869,
                 51.045466
                ],
                [
                 71.4980141,
                 51.0425791
                ],
                [
                 71.501568,
                 51.0391496
                ],
                [
                 71.4924269,
                 51.0343627
                ],
                [
                 71.4775451,
                 51.0249923
                ],
                [
                 71.4788771,
                 51.0241314
                ],
                [
                 71.475646,
                 51.0215791
                ],
                [
                 71.4740231,
                 51.0223961
                ],
                [
                 71.4691386,
                 51.0196739
                ],
                [
                 71.468947,
                 51.0198168
                ],
                [
                 71.4625042,
                 51.0165878
                ],
                [
                 71.4597113,
                 51.0123162
                ],
                [
                 71.4571859,
                 51.0069519
                ],
                [
                 71.4547484,
                 51.0049056
                ],
                [
                 71.4541934,
                 51.0006766
                ],
                [
                 71.4383186,
                 51.0035437
                ],
                [
                 71.4373207,
                 51.0029412
                ],
                [
                 71.4356486,
                 51.0039225
                ],
                [
                 71.4144398,
                 51.0071157
                ],
                [
                 71.402951,
                 51.0090634
                ],
                [
                 71.4003795,
                 51.0101037
                ],
                [
                 71.3817892,
                 51.0129804
                ],
                [
                 71.3801142,
                 51.0129896
                ],
                [
                 71.3355374,
                 51.0190931
                ],
                [
                 71.3317459,
                 51.0214741
                ],
                [
                 71.3184737,
                 51.0237469
                ],
                [
                 71.3123601,
                 51.0233131
                ],
                [
                 71.3078297,
                 51.0222101
                ],
                [
                 71.3030227,
                 51.0227157
                ],
                [
                 71.2908043,
                 51.0217277
                ],
                [
                 71.2895376,
                 51.0215786
                ],
                [
                 71.2866187,
                 51.0224236
                ],
                [
                 71.2847901,
                 51.0237262
                ],
                [
                 71.2796905,
                 51.0263875
                ],
                [
                 71.2760821,
                 51.029967
                ],
                [
                 71.2722388,
                 51.0333053
                ],
                [
                 71.2693186,
                 51.0350465
                ],
                [
                 71.2684643,
                 51.0392038
                ],
                [
                 71.2666071,
                 51.0410646
                ],
                [
                 71.2631113,
                 51.0424307
                ],
                [
                 71.2616567,
                 51.0445644
                ],
                [
                 71.2576794,
                 51.0474837
                ],
                [
                 71.2554276,
                 51.0504046
                ],
                [
                 71.2561724,
                 51.0531274
                ],
                [
                 71.2547052,
                 51.0550155
                ],
                [
                 71.2550435,
                 51.0573952
                ],
                [
                 71.2560461,
                 51.0596918
                ],
                [
                 71.2558708,
                 51.0629586
                ],
                [
                 71.2531361,
                 51.0662749
                ],
                [
                 71.250827,
                 51.0680388
                ],
                [
                 71.2481749,
                 51.0684759
                ],
                [
                 71.2451662,
                 51.0685891
                ],
                [
                 71.2261047,
                 51.0997588
                ],
                [
                 71.2255433,
                 51.1005826
                ],
                [
                 71.2243848,
                 51.1001786
                ],
                [
                 71.2178506,
                 51.1107521
                ]
               ]
              ],
              [
               [
                [
                 71.6415258,
                 51.3316656
                ],
                [
                 71.6678132,
                 51.3398842
                ],
                [
                 71.6838682,
                 51.3509429
                ],
                [
                 71.6923847,
                 51.3510715
                ],
                [
                 71.6950979,
                 51.3511101
                ],
                [
                 71.6927107,
                 51.3488787
                ],
                [
                 71.697736,
                 51.3465872
                ],
                [
                 71.7011348,
                 51.349766
                ],
                [
                 71.7063332,
                 51.3476043
                ],
                [
                 71.7039107,
                 51.3428285
                ],
                [
                 71.6999211,
                 51.3388761
                ],
                [
                 71.6990471,
                 51.3378711
                ],
                [
                 71.6973656,
                 51.3353448
                ],
                [
                 71.6941792,
                 51.3335279
                ],
                [
                 71.6938307,
                 51.3337089
                ],
                [
                 71.6866021,
                 51.3288876
                ],
                [
                 71.6842449,
                 51.3256499
                ],
                [
                 71.6787604,
                 51.3217359
                ],
                [
                 71.672494,
                 51.3174535
                ],
                [
                 71.6716,
                 51.3165612
                ],
                [
                 71.6733166,
                 51.3156608
                ],
                [
                 71.6704181,
                 51.3137676
                ],
                [
                 71.6742334,
                 51.3111448
                ],
                [
                 71.6718742,
                 51.3094308
                ],
                [
                 71.6703576,
                 51.3103754
                ],
                [
                 71.6666355,
                 51.3130922
                ],
                [
                 71.6580881,
                 51.3171647
                ],
                [
                 71.6564341,
                 51.3182197
                ],
                [
                 71.6513113,
                 51.3215171
                ],
                [
                 71.6445262,
                 51.3283709
                ],
                [
                 71.6415258,
                 51.3316656
                ]
               ]
              ],
              [
               [
                [
                 71.740388,
                 51.16606
                ],
                [
                 71.7851103,
                 51.165569
                ],
                [
                 71.7851913,
                 51.1573031
                ],
                [
                 71.782424,
                 51.1504554
                ],
                [
                 71.7661365,
                 51.1446854
                ],
                [
                 71.7608792,
                 51.1457224
                ],
                [
                 71.7468576,
                 51.1621451
                ],
                [
                 71.740388,
                 51.16606
                ]
               ]
              ]
             ],
             "type": "MultiPolygon"
            },
            "geometry_name": "the_geom",
            "id": "astana_np3.1",
            "properties": {
             "ADMIN_LEVE": "4",
             "BOUNDARY": "administrative",
             "CITY_KEY": "",
             "CURRENCY": "",
             "FLAG": "",
             "ID": 3087155,
             "ISO3166-1:": "",
             "LOCALNAME": "ГђВђГ‘ВЃГ‘В‚ГђВ°ГђВЅГђВ°",
             "NAME": "Astana",
             "NOTE": "region polygon",
             "OFFICIAL_N": "",
             "REGION_KEY": "",
             "WIKIDATA": "",
             "WIKIPEDIA": "ru:ГђВђГ‘ВЃГ‘В‚ГђВ°ГђВЅГђВ°",
             "bbox": [
              71.2178506,
              51.0006766,
              71.7851913,
              51.3511101
             ]
            },
            "type": "Feature"
           }
          ],
          "type": "FeatureCollection"
         },
         "hovertemplate": "city=%{location}<br>Т=%{z}<extra></extra>",
         "locations": [
          "Astana",
          "Astana",
          "Astana",
          "Astana",
          "Astana",
          "Astana",
          "Astana",
          "Astana",
          "Astana",
          "Astana",
          "Astana",
          "Astana",
          "Astana",
          "Astana",
          "Astana",
          "Astana",
          "Astana",
          "Astana",
          "Astana",
          "Astana",
          "Astana",
          "Astana",
          "Astana",
          "Astana",
          "Astana",
          "Astana",
          "Astana",
          "Astana",
          "Astana",
          "Astana",
          "Astana",
          "Astana",
          "Astana",
          "Astana",
          "Astana",
          "Astana",
          "Astana",
          "Astana",
          "Astana",
          "Astana",
          "Astana",
          "Astana",
          "Astana",
          "Astana",
          "Astana",
          "Astana",
          "Astana",
          "Astana",
          "Astana",
          "Astana",
          "Astana",
          "Astana",
          "Astana",
          "Astana",
          "Astana",
          "Astana",
          "Astana",
          "Astana",
          "Astana",
          "Astana",
          "Astana",
          "Astana",
          "Astana",
          "Astana",
          "Astana",
          "Astana",
          "Astana",
          "Astana",
          "Astana",
          "Astana",
          "Astana",
          "Astana",
          "Astana",
          "Astana",
          "Astana",
          "Astana",
          "Astana",
          "Astana",
          "Astana",
          "Astana",
          "Astana",
          "Astana",
          "Astana",
          "Astana",
          "Astana",
          "Astana",
          "Astana",
          "Astana",
          "Astana",
          "Astana",
          "Astana",
          "Astana",
          "Astana",
          "Astana",
          "Astana",
          "Astana",
          "Astana",
          "Astana",
          "Astana",
          "Astana",
          "Astana",
          "Astana",
          "Astana",
          "Astana",
          "Astana",
          "Astana",
          "Astana",
          "Astana",
          "Astana",
          "Astana",
          "Astana",
          "Astana",
          "Astana",
          "Astana",
          "Astana",
          "Astana",
          "Astana",
          "Astana",
          "Astana",
          "Astana",
          "Astana",
          "Astana",
          "Astana",
          "Astana",
          "Astana",
          "Astana",
          "Astana",
          "Astana",
          "Astana",
          "Astana",
          "Astana",
          "Astana",
          "Astana",
          "Astana",
          "Astana",
          "Astana",
          "Astana",
          "Astana",
          "Astana",
          "Astana",
          "Astana",
          "Astana",
          "Astana",
          "Astana",
          "Astana",
          "Astana",
          "Astana",
          "Astana",
          "Astana",
          "Astana",
          "Astana",
          "Astana",
          "Astana",
          "Astana",
          "Astana",
          "Astana",
          "Astana",
          "Astana",
          "Astana",
          "Astana",
          "Astana",
          "Astana",
          "Astana",
          "Astana",
          "Astana",
          "Astana",
          "Astana",
          "Astana",
          "Astana",
          "Astana",
          "Astana",
          "Astana",
          "Astana",
          "Astana",
          "Astana",
          "Astana",
          "Astana",
          "Astana",
          "Astana",
          "Astana",
          "Astana",
          "Astana",
          "Astana",
          "Astana",
          "Astana",
          "Astana",
          "Astana",
          "Astana",
          "Astana",
          "Astana",
          "Astana",
          "Astana",
          "Astana",
          "Astana",
          "Astana",
          "Astana",
          "Astana",
          "Astana",
          "Astana",
          "Astana",
          "Astana",
          "Astana",
          "Astana",
          "Astana",
          "Astana",
          "Astana",
          "Astana",
          "Astana",
          "Astana",
          "Astana",
          "Astana",
          "Astana",
          "Astana",
          "Astana",
          "Astana",
          "Astana",
          "Astana",
          "Astana",
          "Astana",
          "Astana",
          "Astana",
          "Astana",
          "Astana",
          "Astana",
          "Astana",
          "Astana",
          "Astana",
          "Astana",
          "Astana",
          "Astana",
          "Astana",
          "Astana",
          "Astana",
          "Astana",
          "Astana",
          "Astana",
          "Astana",
          "Astana",
          "Astana",
          "Astana",
          "Astana",
          "Astana",
          "Astana",
          "Astana",
          "Astana",
          "Astana",
          "Astana",
          "Astana",
          "Astana",
          "Astana",
          "Astana",
          "Astana",
          "Astana",
          "Astana",
          "Astana",
          "Astana",
          "Astana",
          "Astana",
          "Astana",
          "Astana",
          "Astana",
          "Astana",
          "Astana",
          "Astana",
          "Astana",
          "Astana",
          "Astana",
          "Astana",
          "Astana",
          "Astana",
          "Astana",
          "Astana",
          "Astana",
          "Astana",
          "Astana",
          "Astana",
          "Astana",
          "Astana",
          "Astana",
          "Astana",
          "Astana",
          "Astana",
          "Astana",
          "Astana",
          "Astana",
          "Astana",
          "Astana",
          "Astana",
          "Astana",
          "Astana",
          "Astana",
          "Astana",
          "Astana",
          "Astana",
          "Astana",
          "Astana",
          "Astana",
          "Astana",
          "Astana",
          "Astana",
          "Astana",
          "Astana",
          "Astana",
          "Astana",
          "Astana",
          "Astana",
          "Astana",
          "Astana",
          "Astana",
          "Astana",
          "Astana",
          "Astana",
          "Astana",
          "Astana",
          "Astana",
          "Astana",
          "Astana",
          "Astana",
          "Astana",
          "Astana",
          "Astana",
          "Astana",
          "Astana",
          "Astana",
          "Astana",
          "Astana",
          "Astana",
          "Astana",
          "Astana",
          "Astana",
          "Astana",
          "Astana",
          "Astana",
          "Astana",
          "Astana",
          "Astana",
          "Astana",
          "Astana",
          "Astana",
          "Astana",
          "Astana",
          "Astana",
          "Astana",
          "Astana",
          "Astana",
          "Astana",
          "Astana",
          "Astana",
          "Astana",
          "Astana",
          "Astana",
          "Astana",
          "Astana",
          "Astana",
          "Astana",
          "Astana",
          "Astana",
          "Astana",
          "Astana",
          "Astana",
          "Astana",
          "Astana",
          "Astana",
          "Astana",
          "Astana",
          "Astana",
          "Astana",
          "Astana",
          "Astana",
          "Astana",
          "Astana",
          "Astana",
          "Astana",
          "Astana",
          "Astana",
          "Astana",
          "Astana",
          "Astana",
          "Astana",
          "Astana",
          "Astana",
          "Astana",
          "Astana",
          "Astana",
          "Astana",
          "Astana",
          "Astana",
          "Astana",
          "Astana",
          "Astana",
          "Astana",
          "Astana",
          "Astana",
          "Astana",
          "Astana",
          "Astana",
          "Astana",
          "Astana",
          "Astana",
          "Astana",
          "Astana",
          "Astana",
          "Astana",
          "Astana",
          "Astana",
          "Astana",
          "Astana",
          "Astana",
          "Astana",
          "Astana",
          "Astana",
          "Astana",
          "Astana",
          "Astana",
          "Astana",
          "Astana",
          "Astana",
          "Astana",
          "Astana",
          "Astana",
          "Astana",
          "Astana",
          "Astana",
          "Astana",
          "Astana",
          "Astana",
          "Astana",
          "Astana",
          "Astana",
          "Astana",
          "Astana",
          "Astana",
          "Astana",
          "Astana",
          "Astana",
          "Astana",
          "Astana",
          "Astana",
          "Astana",
          "Astana",
          "Astana",
          "Astana",
          "Astana",
          "Astana",
          "Astana",
          "Astana",
          "Astana",
          "Astana",
          "Astana",
          "Astana",
          "Astana",
          "Astana",
          "Astana",
          "Astana",
          "Astana",
          "Astana",
          "Astana",
          "Astana",
          "Astana",
          "Astana",
          "Astana",
          "Astana",
          "Astana",
          "Astana",
          "Astana",
          "Astana",
          "Astana",
          "Astana",
          "Astana",
          "Astana",
          "Astana",
          "Astana",
          "Astana",
          "Astana",
          "Astana",
          "Astana",
          "Astana",
          "Astana",
          "Astana",
          "Astana",
          "Astana",
          "Astana",
          "Astana",
          "Astana",
          "Astana",
          "Astana",
          "Astana",
          "Astana",
          "Astana",
          "Astana",
          "Astana",
          "Astana",
          "Astana",
          "Astana",
          "Astana",
          "Astana",
          "Astana",
          "Astana",
          "Astana",
          "Astana",
          "Astana",
          "Astana",
          "Astana",
          "Astana",
          "Astana",
          "Astana",
          "Astana",
          "Astana",
          "Astana",
          "Astana",
          "Astana",
          "Astana",
          "Astana",
          "Astana",
          "Astana",
          "Astana",
          "Astana",
          "Astana",
          "Astana",
          "Astana",
          "Astana",
          "Astana",
          "Astana",
          "Astana",
          "Astana",
          "Astana",
          "Astana",
          "Astana",
          "Astana",
          "Astana",
          "Astana",
          "Astana",
          "Astana",
          "Astana",
          "Astana",
          "Astana",
          "Astana",
          "Astana",
          "Astana",
          "Astana",
          "Astana",
          "Astana",
          "Astana",
          "Astana",
          "Astana",
          "Astana",
          "Astana",
          "Astana",
          "Astana",
          "Astana",
          "Astana",
          "Astana",
          "Astana",
          "Astana",
          "Astana",
          "Astana",
          "Astana",
          "Astana",
          "Astana",
          "Astana",
          "Astana",
          "Astana",
          "Astana",
          "Astana",
          "Astana",
          "Astana",
          "Astana",
          "Astana",
          "Astana",
          "Astana",
          "Astana",
          "Astana",
          "Astana",
          "Astana",
          "Astana",
          "Astana",
          "Astana",
          "Astana",
          "Astana",
          "Astana",
          "Astana",
          "Astana",
          "Astana",
          "Astana",
          "Astana",
          "Astana",
          "Astana",
          "Astana",
          "Astana",
          "Astana",
          "Astana",
          "Astana",
          "Astana",
          "Astana",
          "Astana",
          "Astana",
          "Astana",
          "Astana",
          "Astana",
          "Astana",
          "Astana",
          "Astana",
          "Astana",
          "Astana",
          "Astana",
          "Astana",
          "Astana",
          "Astana",
          "Astana",
          "Astana",
          "Astana",
          "Astana",
          "Astana",
          "Astana",
          "Astana",
          "Astana",
          "Astana",
          "Astana",
          "Astana",
          "Astana",
          "Astana",
          "Astana",
          "Astana",
          "Astana",
          "Astana",
          "Astana",
          "Astana",
          "Astana",
          "Astana",
          "Astana",
          "Astana",
          "Astana",
          "Astana",
          "Astana",
          "Astana",
          "Astana",
          "Astana",
          "Astana",
          "Astana",
          "Astana",
          "Astana",
          "Astana",
          "Astana",
          "Astana",
          "Astana",
          "Astana",
          "Astana",
          "Astana",
          "Astana",
          "Astana",
          "Astana",
          "Astana",
          "Astana",
          "Astana",
          "Astana",
          "Astana",
          "Astana",
          "Astana",
          "Astana",
          "Astana",
          "Astana",
          "Astana",
          "Astana",
          "Astana",
          "Astana",
          "Astana",
          "Astana",
          "Astana",
          "Astana",
          "Astana",
          "Astana",
          "Astana",
          "Astana",
          "Astana",
          "Astana",
          "Astana",
          "Astana",
          "Astana",
          "Astana",
          "Astana",
          "Astana",
          "Astana",
          "Astana",
          "Astana",
          "Astana",
          "Astana",
          "Astana",
          "Astana",
          "Astana",
          "Astana",
          "Astana",
          "Astana",
          "Astana",
          "Astana",
          "Astana",
          "Astana",
          "Astana",
          "Astana",
          "Astana",
          "Astana",
          "Astana",
          "Astana",
          "Astana",
          "Astana",
          "Astana",
          "Astana",
          "Astana",
          "Astana",
          "Astana",
          "Astana",
          "Astana",
          "Astana",
          "Astana",
          "Astana",
          "Astana",
          "Astana",
          "Astana",
          "Astana",
          "Astana",
          "Astana",
          "Astana",
          "Astana",
          "Astana",
          "Astana",
          "Astana",
          "Astana",
          "Astana",
          "Astana",
          "Astana",
          "Astana",
          "Astana",
          "Astana",
          "Astana",
          "Astana",
          "Astana",
          "Astana",
          "Astana",
          "Astana",
          "Astana",
          "Astana",
          "Astana",
          "Astana",
          "Astana",
          "Astana",
          "Astana",
          "Astana",
          "Astana",
          "Astana",
          "Astana",
          "Astana",
          "Astana",
          "Astana",
          "Astana",
          "Astana",
          "Astana",
          "Astana",
          "Astana",
          "Astana",
          "Astana",
          "Astana",
          "Astana",
          "Astana",
          "Astana",
          "Astana",
          "Astana",
          "Astana",
          "Astana",
          "Astana",
          "Astana",
          "Astana",
          "Astana",
          "Astana",
          "Astana",
          "Astana",
          "Astana",
          "Astana",
          "Astana",
          "Astana",
          "Astana",
          "Astana",
          "Astana",
          "Astana",
          "Astana",
          "Astana",
          "Astana",
          "Astana",
          "Astana",
          "Astana",
          "Astana",
          "Astana",
          "Astana",
          "Astana",
          "Astana",
          "Astana",
          "Astana",
          "Astana",
          "Astana",
          "Astana",
          "Astana",
          "Astana",
          "Astana",
          "Astana",
          "Astana",
          "Astana",
          "Astana",
          "Astana",
          "Astana",
          "Astana",
          "Astana",
          "Astana",
          "Astana",
          "Astana",
          "Astana",
          "Astana",
          "Astana",
          "Astana",
          "Astana",
          "Astana",
          "Astana",
          "Astana",
          "Astana",
          "Astana",
          "Astana",
          "Astana",
          "Astana",
          "Astana",
          "Astana",
          "Astana",
          "Astana",
          "Astana",
          "Astana",
          "Astana",
          "Astana",
          "Astana",
          "Astana",
          "Astana",
          "Astana",
          "Astana",
          "Astana",
          "Astana",
          "Astana",
          "Astana",
          "Astana",
          "Astana",
          "Astana",
          "Astana",
          "Astana",
          "Astana",
          "Astana",
          "Astana",
          "Astana",
          "Astana",
          "Astana",
          "Astana",
          "Astana",
          "Astana",
          "Astana",
          "Astana",
          "Astana",
          "Astana",
          "Astana",
          "Astana",
          "Astana",
          "Astana",
          "Astana",
          "Astana",
          "Astana",
          "Astana",
          "Astana",
          "Astana",
          "Astana",
          "Astana",
          "Astana",
          "Astana",
          "Astana",
          "Astana",
          "Astana",
          "Astana",
          "Astana",
          "Astana",
          "Astana",
          "Astana",
          "Astana",
          "Astana",
          "Astana",
          "Astana",
          "Astana",
          "Astana",
          "Astana",
          "Astana",
          "Astana",
          "Astana",
          "Astana",
          "Astana",
          "Astana",
          "Astana",
          "Astana",
          "Astana",
          "Astana",
          "Astana",
          "Astana",
          "Astana",
          "Astana",
          "Astana",
          "Astana",
          "Astana",
          "Astana",
          "Astana",
          "Astana",
          "Astana",
          "Astana",
          "Astana",
          "Astana",
          "Astana",
          "Astana",
          "Astana",
          "Astana",
          "Astana",
          "Astana",
          "Astana",
          "Astana",
          "Astana",
          "Astana",
          "Astana",
          "Astana",
          "Astana",
          "Astana",
          "Astana",
          "Astana",
          "Astana",
          "Astana",
          "Astana",
          "Astana",
          "Astana",
          "Astana",
          "Astana",
          "Astana",
          "Astana",
          "Astana",
          "Astana",
          "Astana",
          "Astana",
          "Astana",
          "Astana",
          "Astana",
          "Astana",
          "Astana",
          "Astana",
          "Astana",
          "Astana",
          "Astana",
          "Astana",
          "Astana",
          "Astana",
          "Astana",
          "Astana",
          "Astana",
          "Astana",
          "Astana",
          "Astana",
          "Astana",
          "Astana",
          "Astana",
          "Astana",
          "Astana",
          "Astana",
          "Astana",
          "Astana",
          "Astana",
          "Astana",
          "Astana",
          "Astana",
          "Astana",
          "Astana",
          "Astana",
          "Astana",
          "Astana"
         ],
         "name": "",
         "type": "choropleth",
         "z": [
          -20.5,
          -19.6,
          -18.2,
          -16.5,
          -17.5,
          -18.6,
          -19.6,
          -18.5,
          -17.1,
          -17,
          -16,
          -14.9,
          -18.5,
          -20.1,
          -21.7,
          -21,
          -20.3,
          -19.6,
          -18,
          -16.3,
          -19.2,
          -18.8,
          -14.7,
          -11.5,
          -12.8,
          -12.5,
          -12.7,
          -10.8,
          -12.8,
          -16.2,
          -17.2,
          -17.5,
          -16.2,
          -16.1,
          -15.3,
          -12.9,
          -12.8,
          -15,
          -17.1,
          -16.4,
          -15.9,
          -18.4,
          -18.8,
          -18,
          -19.9,
          -19.1,
          -20,
          -21,
          -21.1,
          -21.8,
          -19.3,
          -18,
          -21.1,
          -23.2,
          -24.7,
          -25.6,
          -25.7,
          -25.9,
          -23.3,
          -20.9,
          -24.8,
          -23.8,
          -24,
          -25.2,
          -23.7,
          -22.4,
          -15.7,
          -12,
          -13.8,
          -17.5,
          -12.9,
          -12.5,
          -13,
          -12.3,
          -9.8,
          -6.4,
          -6.7,
          -5,
          -5.5,
          -4.1,
          -4.2,
          -3.3,
          -1,
          0.1,
          1.6,
          0.4,
          1.5,
          -1.3,
          -4,
          -2.9,
          -2.2,
          -0.1,
          -0.3,
          -4.6,
          -8.6,
          -10.6,
          -15.6,
          -15.2,
          -14.9,
          -13.3,
          -15.1,
          -17.6,
          -20,
          -21.2,
          -21.9,
          -19.5,
          -18.1,
          -15.6,
          -17.2,
          -18,
          -18,
          -19.3,
          -18.9,
          -15.8,
          -12.4,
          -9.5,
          -9.9,
          -11.8,
          -11.1,
          -11.1,
          -10.2,
          -9.7,
          -8,
          -6,
          -5.6,
          -6.6,
          -5.6,
          -5,
          -5.2,
          -7.6,
          -11.3,
          -12,
          -14.6,
          -16.3,
          -17.7,
          -21.3,
          -22.7,
          -23.5,
          -21.7,
          -19.6,
          -22.2,
          -22.4,
          -23.9,
          -25.1,
          -24.4,
          -24.2,
          -18.5,
          -16.8,
          -17,
          -20.2,
          -21.2,
          -18.5,
          -18.1,
          -17.6,
          -14.8,
          -13.2,
          -13.3,
          -14,
          -14.1,
          -13.3,
          -12.6,
          -13.1,
          -10.2,
          -8.3,
          -9.4,
          -10.2,
          -10.9,
          -11.2,
          -11.5,
          -10.9,
          -8.5,
          -4.4,
          -9.2,
          -10.7,
          -12.7,
          -14.8,
          -15.3,
          -15.2,
          -17.3,
          -16.3,
          -17.6,
          -19.3,
          -19.6,
          -13.4,
          -12.7,
          -12.1,
          -8.4,
          -3.8,
          -8.1,
          -14.1,
          -15.1,
          -10.7,
          -17.1,
          -15.5,
          -16.4,
          -12.8,
          -16.7,
          -16,
          -16.6,
          -17.6,
          -17.9,
          -18,
          -11.5,
          -9.9,
          -12.4,
          -19.4,
          -20.9,
          -22.4,
          -23.9,
          -22.8,
          -17.5,
          -11.2,
          -14.2,
          -15,
          -15.6,
          -15,
          -12.7,
          -9.4,
          -7.3,
          -7.8,
          -8.6,
          -9.8,
          -11.1,
          -13.9,
          -15.6,
          -17.3,
          -13.5,
          -9.9,
          -13.4,
          -15.1,
          -15.5,
          -15.2,
          -16.6,
          -15.3,
          -12.6,
          -10.4,
          -10.5,
          -10.3,
          -11,
          -13.3,
          -14.2,
          -10.3,
          -6.6,
          -4,
          -4.1,
          -3.9,
          -3.5,
          -4.1,
          -5.2,
          -5.3,
          -4.6,
          -4.3,
          -5.9,
          -7.5,
          -9,
          -9.6,
          -10.5,
          -11,
          -10.1,
          -7.1,
          -8.2,
          -9,
          -11.6,
          -13.7,
          -16.6,
          -16.8,
          -12,
          -9.6,
          -9.4,
          -9.9,
          -10,
          -10.5,
          -9.9,
          -9.2,
          -7.2,
          -5.8,
          -5.9,
          -4.3,
          -2,
          -0.8,
          -0.5,
          -0.2,
          0,
          -0.1,
          0,
          0.1,
          0.8,
          0.9,
          -0.3,
          -1.5,
          -0.6,
          0.1,
          -0.6,
          -0.7,
          -1.8,
          -1,
          -2.2,
          -1.8,
          0.3,
          2.3,
          -0.4,
          -1.9,
          -1.4,
          -1.4,
          -1.6,
          -2.1,
          -3.7,
          -4.6,
          -5.6,
          -7.9,
          -11.7,
          -13,
          -13.8,
          -16.6,
          -14.4,
          -12.5,
          -14.6,
          -17.6,
          -20.1,
          -21.1,
          -22.6,
          -23.4,
          -19.8,
          -16.3,
          -18.4,
          -18.9,
          -19.7,
          -19.2,
          -17.3,
          -15.5,
          -13.3,
          -10.9,
          -11.4,
          -12,
          -12,
          -12.2,
          -13.7,
          -13,
          -11.9,
          -11.2,
          -10.6,
          -10.2,
          -9.8,
          -10.4,
          -12.2,
          -11.4,
          -9.2,
          -7.3,
          -8,
          -8.4,
          -13,
          -12.2,
          -12.9,
          -13.5,
          -8.6,
          -6.9,
          -9.5,
          -11.3,
          -15,
          -15.2,
          -17.3,
          -18.8,
          -14.4,
          -11.4,
          -14.4,
          -16,
          -16.4,
          -15.8,
          -17.1,
          -17.7,
          -15.1,
          -11.7,
          -11.4,
          -14.6,
          -17.7,
          -19.2,
          -20.3,
          -20.1,
          -15.2,
          -13.1,
          -12.9,
          -12.9,
          -13.4,
          -13.6,
          -13.8,
          -14.1,
          -10.8,
          -7.1,
          -8.7,
          -10.3,
          -9.7,
          -11.9,
          -12.9,
          -13.5,
          -9.6,
          -1.9,
          -6.3,
          -9.9,
          -10.4,
          -12.2,
          -12.3,
          -11.1,
          -4.2,
          -2,
          -5.7,
          -9.6,
          -12.2,
          -9.9,
          -11,
          -8.7,
          -3.9,
          -2.3,
          -3.8,
          -7,
          -8,
          -9.7,
          -10.9,
          -10.3,
          -6.9,
          -3.3,
          -4.5,
          -8.7,
          -9.5,
          -11.4,
          -11.4,
          -11.1,
          -5.8,
          -3.5,
          -2.8,
          -2.7,
          -1.8,
          -1.1,
          -0.8,
          -1.8,
          -0.6,
          0.8,
          0.4,
          -0.3,
          -0.5,
          -0.8,
          -2.4,
          -2.3,
          1.9,
          5.2,
          3.8,
          2.9,
          2,
          2.4,
          1.4,
          2.5,
          6.8,
          7.8,
          6.7,
          3.5,
          2.4,
          2.3,
          1.5,
          1.4,
          0.9,
          1.1,
          0.3,
          -0.2,
          -2.1,
          -3.1,
          -4,
          -3.9,
          -1.9,
          -0.2,
          0,
          -1.2,
          -1.2,
          -2.1,
          -3.1,
          -3,
          -2.5,
          -3.1,
          -2.1,
          -2.1,
          -2.4,
          -1.6,
          -2.1,
          -3.1,
          -3.3,
          -3.2,
          -3.6,
          -4.3,
          -3.9,
          -3.3,
          -3.7,
          -5.4,
          -5.2,
          -4.7,
          -5.6,
          -7.7,
          -10.3,
          -11.9,
          -13.3,
          -14.1,
          -9.9,
          -6.2,
          -5.5,
          -5.2,
          -5.3,
          -5.5,
          -5.8,
          -5.8,
          -3.3,
          -1.1,
          -1,
          -3.5,
          -4.7,
          -6.6,
          -6.2,
          -5.9,
          0.1,
          -0.1,
          -0.6,
          -0.8,
          -1,
          -1.8,
          -3.1,
          -4.2,
          -2.2,
          -0.8,
          -0.5,
          -1.6,
          -3.1,
          -4,
          -5,
          -4.6,
          -3.6,
          -1,
          -2.2,
          -3.8,
          -5.7,
          -6.4,
          -6.3,
          -5.8,
          -1.3,
          1.3,
          -0.4,
          -2.8,
          -3.4,
          -5,
          -5.4,
          -5,
          1.6,
          3.6,
          2.7,
          1.2,
          -0.3,
          -0.5,
          -2.6,
          -6.2,
          -1.7,
          0.4,
          0.1,
          -2.9,
          -4.3,
          -6.4,
          -8.5,
          -8.4,
          0.7,
          4.9,
          3.3,
          -0.6,
          -0.6,
          -2.1,
          -3.4,
          -2.4,
          2.2,
          3.9,
          2.5,
          0.2,
          -1.5,
          -2.3,
          -1.9,
          -0.2,
          1.5,
          1.6,
          0.7,
          -0.4,
          -2,
          -4,
          -4.3,
          -4.2,
          -1.7,
          0.2,
          -1.2,
          -1.7,
          -3.8,
          -4,
          -4.6,
          -5.4,
          -2.4,
          -0.4,
          -1,
          -1.2,
          -1.4,
          -2,
          -2.1,
          -1,
          1.3,
          1.1,
          1.6,
          -0.2,
          -1.9,
          -2.8,
          -3.8,
          -3.6,
          -1.6,
          -0.1,
          -2.3,
          -3.1,
          -2.1,
          -2.1,
          -2.4,
          -2.1,
          -0.7,
          0.3,
          -0.3,
          -2,
          -2.8,
          -2.7,
          -3.4,
          -2,
          0.8,
          1.9,
          2.1,
          2.2,
          2.4,
          1.8,
          2.5,
          3.5,
          5.2,
          6.6,
          5.8,
          3.9,
          3.3,
          3.7,
          3.1,
          3.7,
          5.8,
          6.8,
          6.4,
          0.8,
          -4.6,
          -6.5,
          -8.1,
          -7.3,
          -3.8,
          -2.3,
          -1.3,
          -3,
          -3,
          -4.5,
          -4.6,
          -2.9,
          4,
          4.6,
          3.8,
          0.7,
          0.9,
          -0.6,
          -0.3,
          0.9,
          2.1,
          5.2,
          5.8,
          5.8,
          3.8,
          2.3,
          1,
          -0.3,
          -1,
          -0.8,
          -0.5,
          -0.5,
          -1.2,
          -2.2,
          -3.8,
          -3,
          2.8,
          6.2,
          5.8,
          3.7,
          2.7,
          1.5,
          1.5,
          1.1,
          6.6,
          6.9,
          7.6,
          5.4,
          5.4,
          4.3,
          3.5,
          4.4,
          10.4,
          12.7,
          9.9,
          7.7,
          4.8,
          2.7,
          1.9,
          2.7,
          3.5,
          3.4,
          2.5,
          2.9,
          2.8,
          2.8,
          3.2,
          3.8,
          5.2,
          7.2,
          6.1,
          5.8,
          3.4,
          2.4,
          3.3,
          4.8,
          6.2,
          5.5,
          5,
          4.9,
          5,
          4.5,
          5.3,
          6.9,
          10.3,
          10.5,
          4.1,
          2.5,
          2.3,
          2.4,
          2.7,
          2.9,
          3,
          4.5,
          3.6,
          1.9,
          1,
          0.8,
          0.6,
          4.3,
          7.5,
          9,
          7.9,
          6.3,
          2,
          0.7,
          5.6,
          12.4,
          13.6,
          13.2,
          11.4,
          9.1,
          7.1,
          6.9,
          6.9,
          13.2,
          13.8,
          14.6,
          12.7,
          7.2,
          2.4,
          2.9,
          3.3,
          6.9,
          9.5,
          8.5,
          6.6,
          5.7,
          4.3,
          4,
          4.9,
          7.1,
          3.6,
          5.3,
          3.1,
          1.9,
          2.2,
          2.2,
          2.1,
          5.8,
          3.3,
          5.2,
          3,
          1.2,
          1.2,
          0.8,
          0.8,
          3.5,
          6,
          8,
          5,
          3.7,
          1.9,
          1.5,
          4.2,
          9.5,
          10.3,
          10.1,
          7.3,
          7.2,
          6.5,
          6.4,
          7.2,
          12.2,
          15,
          15.5,
          11.8,
          9.4,
          6.7,
          5.4,
          5.8,
          12.4,
          16,
          16.5,
          10.5,
          6.3,
          3.3,
          2.4,
          5.5,
          8.9,
          11,
          10.9,
          7.7,
          4.8,
          5.9,
          4.4,
          7,
          12.8,
          15.5,
          16.1,
          13.1,
          10.9,
          9.1,
          7,
          10.5,
          16.2,
          19.2,
          19.3,
          16.6,
          14.1,
          11.9,
          10.4,
          12.3,
          17.8,
          19.9,
          21.2,
          15.8,
          11.9,
          7.2,
          7.6,
          13.8,
          19.2,
          20.9,
          20.8,
          16.8,
          13.8,
          10.1,
          11,
          13.5,
          19,
          23.5,
          24.7,
          22.2,
          17.5,
          14.7,
          12.6,
          15.8,
          19.1,
          21.4,
          20.9,
          15.8,
          13.6,
          11.7,
          10,
          15.7,
          18.8,
          19.6,
          14.4,
          12.5,
          11.3,
          11.8,
          10.4,
          13.6,
          19.1,
          21.3,
          16.3,
          13.2,
          11.5,
          9.4,
          8.5,
          9.1,
          12.5,
          14.2,
          14.4,
          14.7,
          12,
          10,
          7.9,
          14.3,
          19.5,
          21,
          21.5,
          17.3,
          14.3,
          12,
          9.8,
          8,
          8.3,
          12.8,
          15.9,
          12.5,
          8.4,
          6.8,
          5.5,
          10.7,
          15.1,
          16,
          16.5,
          11.4,
          8.6,
          4,
          2,
          9.5,
          13.2,
          15.7,
          14.4,
          11.8,
          9.8,
          5,
          5.9,
          10.3,
          14.4,
          15.3,
          14.7,
          9.1,
          5.2,
          3.7,
          1.9,
          6.3,
          9.3,
          11.2,
          11.1,
          9.3,
          6.2,
          4.8,
          1.8,
          7.5,
          11.9,
          12.8,
          12.2,
          9.5,
          4.3,
          2.2,
          0.7,
          9.1,
          14,
          14.7,
          15.3,
          12.1,
          6.4,
          4.8,
          2.5,
          11.7,
          15.4,
          16.3,
          16.3,
          13.9,
          12.9,
          7.5,
          7.1,
          12.8
         ]
        }
       ],
       "layout": {
        "coloraxis": {
         "colorbar": {
          "title": {
           "text": "Т"
          }
         },
         "colorscale": [
          [
           0,
           "#0d0887"
          ],
          [
           0.1111111111111111,
           "#46039f"
          ],
          [
           0.2222222222222222,
           "#7201a8"
          ],
          [
           0.3333333333333333,
           "#9c179e"
          ],
          [
           0.4444444444444444,
           "#bd3786"
          ],
          [
           0.5555555555555556,
           "#d8576b"
          ],
          [
           0.6666666666666666,
           "#ed7953"
          ],
          [
           0.7777777777777778,
           "#fb9f3a"
          ],
          [
           0.8888888888888888,
           "#fdca26"
          ],
          [
           1,
           "#f0f921"
          ]
         ]
        },
        "geo": {
         "center": {},
         "domain": {
          "x": [
           0,
           1
          ],
          "y": [
           0,
           1
          ]
         },
         "fitbounds": "geojson",
         "projection": {
          "type": "mercator"
         },
         "visible": false
        },
        "legend": {
         "tracegroupgap": 0
        },
        "margin": {
         "t": 60
        },
        "template": {
         "data": {
          "bar": [
           {
            "error_x": {
             "color": "#2a3f5f"
            },
            "error_y": {
             "color": "#2a3f5f"
            },
            "marker": {
             "line": {
              "color": "#E5ECF6",
              "width": 0.5
             }
            },
            "type": "bar"
           }
          ],
          "barpolar": [
           {
            "marker": {
             "line": {
              "color": "#E5ECF6",
              "width": 0.5
             }
            },
            "type": "barpolar"
           }
          ],
          "carpet": [
           {
            "aaxis": {
             "endlinecolor": "#2a3f5f",
             "gridcolor": "white",
             "linecolor": "white",
             "minorgridcolor": "white",
             "startlinecolor": "#2a3f5f"
            },
            "baxis": {
             "endlinecolor": "#2a3f5f",
             "gridcolor": "white",
             "linecolor": "white",
             "minorgridcolor": "white",
             "startlinecolor": "#2a3f5f"
            },
            "type": "carpet"
           }
          ],
          "choropleth": [
           {
            "colorbar": {
             "outlinewidth": 0,
             "ticks": ""
            },
            "type": "choropleth"
           }
          ],
          "contour": [
           {
            "colorbar": {
             "outlinewidth": 0,
             "ticks": ""
            },
            "colorscale": [
             [
              0,
              "#0d0887"
             ],
             [
              0.1111111111111111,
              "#46039f"
             ],
             [
              0.2222222222222222,
              "#7201a8"
             ],
             [
              0.3333333333333333,
              "#9c179e"
             ],
             [
              0.4444444444444444,
              "#bd3786"
             ],
             [
              0.5555555555555556,
              "#d8576b"
             ],
             [
              0.6666666666666666,
              "#ed7953"
             ],
             [
              0.7777777777777778,
              "#fb9f3a"
             ],
             [
              0.8888888888888888,
              "#fdca26"
             ],
             [
              1,
              "#f0f921"
             ]
            ],
            "type": "contour"
           }
          ],
          "contourcarpet": [
           {
            "colorbar": {
             "outlinewidth": 0,
             "ticks": ""
            },
            "type": "contourcarpet"
           }
          ],
          "heatmap": [
           {
            "colorbar": {
             "outlinewidth": 0,
             "ticks": ""
            },
            "colorscale": [
             [
              0,
              "#0d0887"
             ],
             [
              0.1111111111111111,
              "#46039f"
             ],
             [
              0.2222222222222222,
              "#7201a8"
             ],
             [
              0.3333333333333333,
              "#9c179e"
             ],
             [
              0.4444444444444444,
              "#bd3786"
             ],
             [
              0.5555555555555556,
              "#d8576b"
             ],
             [
              0.6666666666666666,
              "#ed7953"
             ],
             [
              0.7777777777777778,
              "#fb9f3a"
             ],
             [
              0.8888888888888888,
              "#fdca26"
             ],
             [
              1,
              "#f0f921"
             ]
            ],
            "type": "heatmap"
           }
          ],
          "heatmapgl": [
           {
            "colorbar": {
             "outlinewidth": 0,
             "ticks": ""
            },
            "colorscale": [
             [
              0,
              "#0d0887"
             ],
             [
              0.1111111111111111,
              "#46039f"
             ],
             [
              0.2222222222222222,
              "#7201a8"
             ],
             [
              0.3333333333333333,
              "#9c179e"
             ],
             [
              0.4444444444444444,
              "#bd3786"
             ],
             [
              0.5555555555555556,
              "#d8576b"
             ],
             [
              0.6666666666666666,
              "#ed7953"
             ],
             [
              0.7777777777777778,
              "#fb9f3a"
             ],
             [
              0.8888888888888888,
              "#fdca26"
             ],
             [
              1,
              "#f0f921"
             ]
            ],
            "type": "heatmapgl"
           }
          ],
          "histogram": [
           {
            "marker": {
             "colorbar": {
              "outlinewidth": 0,
              "ticks": ""
             }
            },
            "type": "histogram"
           }
          ],
          "histogram2d": [
           {
            "colorbar": {
             "outlinewidth": 0,
             "ticks": ""
            },
            "colorscale": [
             [
              0,
              "#0d0887"
             ],
             [
              0.1111111111111111,
              "#46039f"
             ],
             [
              0.2222222222222222,
              "#7201a8"
             ],
             [
              0.3333333333333333,
              "#9c179e"
             ],
             [
              0.4444444444444444,
              "#bd3786"
             ],
             [
              0.5555555555555556,
              "#d8576b"
             ],
             [
              0.6666666666666666,
              "#ed7953"
             ],
             [
              0.7777777777777778,
              "#fb9f3a"
             ],
             [
              0.8888888888888888,
              "#fdca26"
             ],
             [
              1,
              "#f0f921"
             ]
            ],
            "type": "histogram2d"
           }
          ],
          "histogram2dcontour": [
           {
            "colorbar": {
             "outlinewidth": 0,
             "ticks": ""
            },
            "colorscale": [
             [
              0,
              "#0d0887"
             ],
             [
              0.1111111111111111,
              "#46039f"
             ],
             [
              0.2222222222222222,
              "#7201a8"
             ],
             [
              0.3333333333333333,
              "#9c179e"
             ],
             [
              0.4444444444444444,
              "#bd3786"
             ],
             [
              0.5555555555555556,
              "#d8576b"
             ],
             [
              0.6666666666666666,
              "#ed7953"
             ],
             [
              0.7777777777777778,
              "#fb9f3a"
             ],
             [
              0.8888888888888888,
              "#fdca26"
             ],
             [
              1,
              "#f0f921"
             ]
            ],
            "type": "histogram2dcontour"
           }
          ],
          "mesh3d": [
           {
            "colorbar": {
             "outlinewidth": 0,
             "ticks": ""
            },
            "type": "mesh3d"
           }
          ],
          "parcoords": [
           {
            "line": {
             "colorbar": {
              "outlinewidth": 0,
              "ticks": ""
             }
            },
            "type": "parcoords"
           }
          ],
          "pie": [
           {
            "automargin": true,
            "type": "pie"
           }
          ],
          "scatter": [
           {
            "marker": {
             "colorbar": {
              "outlinewidth": 0,
              "ticks": ""
             }
            },
            "type": "scatter"
           }
          ],
          "scatter3d": [
           {
            "line": {
             "colorbar": {
              "outlinewidth": 0,
              "ticks": ""
             }
            },
            "marker": {
             "colorbar": {
              "outlinewidth": 0,
              "ticks": ""
             }
            },
            "type": "scatter3d"
           }
          ],
          "scattercarpet": [
           {
            "marker": {
             "colorbar": {
              "outlinewidth": 0,
              "ticks": ""
             }
            },
            "type": "scattercarpet"
           }
          ],
          "scattergeo": [
           {
            "marker": {
             "colorbar": {
              "outlinewidth": 0,
              "ticks": ""
             }
            },
            "type": "scattergeo"
           }
          ],
          "scattergl": [
           {
            "marker": {
             "colorbar": {
              "outlinewidth": 0,
              "ticks": ""
             }
            },
            "type": "scattergl"
           }
          ],
          "scattermapbox": [
           {
            "marker": {
             "colorbar": {
              "outlinewidth": 0,
              "ticks": ""
             }
            },
            "type": "scattermapbox"
           }
          ],
          "scatterpolar": [
           {
            "marker": {
             "colorbar": {
              "outlinewidth": 0,
              "ticks": ""
             }
            },
            "type": "scatterpolar"
           }
          ],
          "scatterpolargl": [
           {
            "marker": {
             "colorbar": {
              "outlinewidth": 0,
              "ticks": ""
             }
            },
            "type": "scatterpolargl"
           }
          ],
          "scatterternary": [
           {
            "marker": {
             "colorbar": {
              "outlinewidth": 0,
              "ticks": ""
             }
            },
            "type": "scatterternary"
           }
          ],
          "surface": [
           {
            "colorbar": {
             "outlinewidth": 0,
             "ticks": ""
            },
            "colorscale": [
             [
              0,
              "#0d0887"
             ],
             [
              0.1111111111111111,
              "#46039f"
             ],
             [
              0.2222222222222222,
              "#7201a8"
             ],
             [
              0.3333333333333333,
              "#9c179e"
             ],
             [
              0.4444444444444444,
              "#bd3786"
             ],
             [
              0.5555555555555556,
              "#d8576b"
             ],
             [
              0.6666666666666666,
              "#ed7953"
             ],
             [
              0.7777777777777778,
              "#fb9f3a"
             ],
             [
              0.8888888888888888,
              "#fdca26"
             ],
             [
              1,
              "#f0f921"
             ]
            ],
            "type": "surface"
           }
          ],
          "table": [
           {
            "cells": {
             "fill": {
              "color": "#EBF0F8"
             },
             "line": {
              "color": "white"
             }
            },
            "header": {
             "fill": {
              "color": "#C8D4E3"
             },
             "line": {
              "color": "white"
             }
            },
            "type": "table"
           }
          ]
         },
         "layout": {
          "annotationdefaults": {
           "arrowcolor": "#2a3f5f",
           "arrowhead": 0,
           "arrowwidth": 1
          },
          "coloraxis": {
           "colorbar": {
            "outlinewidth": 0,
            "ticks": ""
           }
          },
          "colorscale": {
           "diverging": [
            [
             0,
             "#8e0152"
            ],
            [
             0.1,
             "#c51b7d"
            ],
            [
             0.2,
             "#de77ae"
            ],
            [
             0.3,
             "#f1b6da"
            ],
            [
             0.4,
             "#fde0ef"
            ],
            [
             0.5,
             "#f7f7f7"
            ],
            [
             0.6,
             "#e6f5d0"
            ],
            [
             0.7,
             "#b8e186"
            ],
            [
             0.8,
             "#7fbc41"
            ],
            [
             0.9,
             "#4d9221"
            ],
            [
             1,
             "#276419"
            ]
           ],
           "sequential": [
            [
             0,
             "#0d0887"
            ],
            [
             0.1111111111111111,
             "#46039f"
            ],
            [
             0.2222222222222222,
             "#7201a8"
            ],
            [
             0.3333333333333333,
             "#9c179e"
            ],
            [
             0.4444444444444444,
             "#bd3786"
            ],
            [
             0.5555555555555556,
             "#d8576b"
            ],
            [
             0.6666666666666666,
             "#ed7953"
            ],
            [
             0.7777777777777778,
             "#fb9f3a"
            ],
            [
             0.8888888888888888,
             "#fdca26"
            ],
            [
             1,
             "#f0f921"
            ]
           ],
           "sequentialminus": [
            [
             0,
             "#0d0887"
            ],
            [
             0.1111111111111111,
             "#46039f"
            ],
            [
             0.2222222222222222,
             "#7201a8"
            ],
            [
             0.3333333333333333,
             "#9c179e"
            ],
            [
             0.4444444444444444,
             "#bd3786"
            ],
            [
             0.5555555555555556,
             "#d8576b"
            ],
            [
             0.6666666666666666,
             "#ed7953"
            ],
            [
             0.7777777777777778,
             "#fb9f3a"
            ],
            [
             0.8888888888888888,
             "#fdca26"
            ],
            [
             1,
             "#f0f921"
            ]
           ]
          },
          "colorway": [
           "#636efa",
           "#EF553B",
           "#00cc96",
           "#ab63fa",
           "#FFA15A",
           "#19d3f3",
           "#FF6692",
           "#B6E880",
           "#FF97FF",
           "#FECB52"
          ],
          "font": {
           "color": "#2a3f5f"
          },
          "geo": {
           "bgcolor": "white",
           "lakecolor": "white",
           "landcolor": "#E5ECF6",
           "showlakes": true,
           "showland": true,
           "subunitcolor": "white"
          },
          "hoverlabel": {
           "align": "left"
          },
          "hovermode": "closest",
          "mapbox": {
           "style": "light"
          },
          "paper_bgcolor": "white",
          "plot_bgcolor": "#E5ECF6",
          "polar": {
           "angularaxis": {
            "gridcolor": "white",
            "linecolor": "white",
            "ticks": ""
           },
           "bgcolor": "#E5ECF6",
           "radialaxis": {
            "gridcolor": "white",
            "linecolor": "white",
            "ticks": ""
           }
          },
          "scene": {
           "xaxis": {
            "backgroundcolor": "#E5ECF6",
            "gridcolor": "white",
            "gridwidth": 2,
            "linecolor": "white",
            "showbackground": true,
            "ticks": "",
            "zerolinecolor": "white"
           },
           "yaxis": {
            "backgroundcolor": "#E5ECF6",
            "gridcolor": "white",
            "gridwidth": 2,
            "linecolor": "white",
            "showbackground": true,
            "ticks": "",
            "zerolinecolor": "white"
           },
           "zaxis": {
            "backgroundcolor": "#E5ECF6",
            "gridcolor": "white",
            "gridwidth": 2,
            "linecolor": "white",
            "showbackground": true,
            "ticks": "",
            "zerolinecolor": "white"
           }
          },
          "shapedefaults": {
           "line": {
            "color": "#2a3f5f"
           }
          },
          "ternary": {
           "aaxis": {
            "gridcolor": "white",
            "linecolor": "white",
            "ticks": ""
           },
           "baxis": {
            "gridcolor": "white",
            "linecolor": "white",
            "ticks": ""
           },
           "bgcolor": "#E5ECF6",
           "caxis": {
            "gridcolor": "white",
            "linecolor": "white",
            "ticks": ""
           }
          },
          "title": {
           "x": 0.05
          },
          "xaxis": {
           "automargin": true,
           "gridcolor": "white",
           "linecolor": "white",
           "ticks": "",
           "title": {
            "standoff": 15
           },
           "zerolinecolor": "white",
           "zerolinewidth": 2
          },
          "yaxis": {
           "automargin": true,
           "gridcolor": "white",
           "linecolor": "white",
           "ticks": "",
           "title": {
            "standoff": 15
           },
           "zerolinecolor": "white",
           "zerolinewidth": 2
          }
         }
        }
       }
      },
      "text/html": [
       "<div>                            <div id=\"f4d98fa9-3f80-4119-8f0b-32f09e45d7ce\" class=\"plotly-graph-div\" style=\"height:525px; width:100%;\"></div>            <script type=\"text/javascript\">                require([\"plotly\"], function(Plotly) {                    window.PLOTLYENV=window.PLOTLYENV || {};                                    if (document.getElementById(\"f4d98fa9-3f80-4119-8f0b-32f09e45d7ce\")) {                    Plotly.newPlot(                        \"f4d98fa9-3f80-4119-8f0b-32f09e45d7ce\",                        [{\"coloraxis\": \"coloraxis\", \"featureidkey\": \"properties.NAME\", \"geo\": \"geo\", \"geojson\": {\"bbox\": [71.2178506, 51.0006766, 71.7851913, 51.3511101], \"crs\": {\"properties\": {\"code\": \"4326\"}, \"type\": \"EPSG\"}, \"features\": [{\"geometry\": {\"coordinates\": [[[[71.2178506, 51.1107521], [71.2259581, 51.1140099], [71.2287062, 51.1230021], [71.2362172, 51.1328865], [71.2361409, 51.1495535], [71.238494, 51.1496155], [71.2385637, 51.1522256], [71.2425815, 51.1523111], [71.2427604, 51.1575583], [71.2544087, 51.1581347], [71.2541959, 51.1628188], [71.2529729, 51.1758855], [71.2653832, 51.1742581], [71.2819046, 51.1793117], [71.2818051, 51.1796114], [71.2813813, 51.1796801], [71.2810288, 51.1798315], [71.2809626, 51.1798742], [71.2809225, 51.1799792], [71.2809589, 51.1801161], [71.2809407, 51.180196], [71.2809086, 51.1804048], [71.280846, 51.1805225], [71.280795, 51.1806366], [71.280704, 51.1807074], [71.2803786, 51.1809422], [71.2802088, 51.1810817], [71.2800303, 51.1811137], [71.2799393, 51.1811205], [71.2797281, 51.1811457], [71.2795533, 51.1811137], [71.2794441, 51.1809379], [71.2793275, 51.1808032], [71.2791746, 51.180664], [71.2790682, 51.1805969], [71.2788978, 51.1805316], [71.2786866, 51.1804631], [71.2782708, 51.1804054], [71.2780639, 51.1804312], [71.2778855, 51.1804996], [71.277769, 51.1806823], [71.2777353, 51.1807499], [71.2777543, 51.1809491], [71.2777924, 51.1811161], [71.2778571, 51.1811912], [71.2778438, 51.1812532], [71.277722, 51.181351], [71.2775942, 51.1814036], [71.2774689, 51.1813713], [71.2773053, 51.1813105], [71.2771131, 51.1812449], [71.2770693, 51.1811948], [71.2770598, 51.1811149], [71.2770731, 51.1808906], [71.2771207, 51.1808107], [71.2771625, 51.1806688], [71.2772824, 51.1804326], [71.2772938, 51.1803527], [71.2772196, 51.1803145], [71.2770084, 51.1803276], [71.2767078, 51.1803646], [71.276645, 51.1803395], [71.2765708, 51.1802632], [71.2764566, 51.180188], [71.276371, 51.180163], [71.2761997, 51.1802143], [71.2760037, 51.1802966], [71.2758648, 51.1803992], [71.2758572, 51.1804672], [71.2758914, 51.180522], [71.2759676, 51.1805829], [71.2760361, 51.1806974], [71.2761978, 51.1809383], [71.276232, 51.1810636], [71.2762111, 51.1811697], [71.276135, 51.1812771], [71.2760589, 51.1813165], [71.2760989, 51.1814071], [71.2761883, 51.1814668], [71.2762948, 51.1815335], [71.2762948, 51.1815729], [71.2762149, 51.1815932], [71.276057, 51.1815884], [71.2757982, 51.1815836], [71.2756222, 51.1816255], [71.275605, 51.1816657], [71.275648, 51.1817846], [71.2757072, 51.1819136], [71.2757395, 51.1820158], [71.2756596, 51.1821363], [71.2755378, 51.1821721], [71.2753475, 51.1821936], [71.2751648, 51.1821948], [71.274927, 51.1821578], [71.274809, 51.1821005], [71.2746986, 51.1820385], [71.2746511, 51.1819848], [71.2746166, 51.181958], [71.2746011, 51.1819209], [71.2745762, 51.1819074], [71.2745594, 51.1818585], [71.2745217, 51.1818243], [71.2744935, 51.1817746], [71.2744229, 51.1817252], [71.2743293, 51.1816687], [71.2741975, 51.1815865], [71.2738348, 51.181496], [71.273557, 51.1814471], [71.2733134, 51.1814375], [71.2731041, 51.1814554], [71.2729671, 51.1815329], [71.2728739, 51.1816749], [71.2726722, 51.1818407], [71.2725371, 51.1819457], [71.2724438, 51.1820769], [71.2722897, 51.1822272], [71.2721698, 51.1824216], [71.2718768, 51.1827031], [71.2717893, 51.1828247], [71.2717759, 51.1829428], [71.2717969, 51.1830156], [71.2718863, 51.1830752], [71.2720062, 51.1831289], [71.2722212, 51.1832446], [71.2724572, 51.183408], [71.2725732, 51.183532], [71.2725656, 51.1836406], [71.2724914, 51.183705], [71.2723183, 51.1837909], [71.2721736, 51.1839054], [71.2719719, 51.1839722], [71.2717398, 51.1839936], [71.2715229, 51.1839889], [71.2714391, 51.1839471], [71.2713269, 51.1838374], [71.2712584, 51.1837479], [71.2711461, 51.1836096], [71.27103, 51.1834879], [71.2708378, 51.1834533], [71.2707085, 51.1835642], [71.2706171, 51.1836549], [71.2705695, 51.1837277], [71.2705905, 51.1838195], [71.2706647, 51.1839113], [71.2707085, 51.184058], [71.2708302, 51.1842501], [71.2709444, 51.1844027], [71.2709292, 51.1845113], [71.2708474, 51.1845828], [71.2707104, 51.1846341], [71.2705087, 51.1846532], [71.270307, 51.184689], [71.2700615, 51.1848297], [71.2699968, 51.1849252], [71.2699625, 51.1850253], [71.2699721, 51.1851315], [71.2700139, 51.1853748], [71.2700805, 51.1854666], [71.270149, 51.1855895], [71.2701433, 51.1857505], [71.2700919, 51.1860093], [71.270031, 51.1861811], [71.2698655, 51.1863111], [71.2698456, 51.1863729], [71.2698845, 51.1864816], [71.2700368, 51.1865794], [71.2701776, 51.1866665], [71.2705581, 51.1868347], [71.2709863, 51.1869885], [71.2714506, 51.1870935], [71.2717189, 51.1871937], [71.2719767, 51.1874108], [71.2720126, 51.1876382], [71.2718985, 51.1877389], [71.2718204, 51.1879789], [71.2718204, 51.1880499], [71.2718829, 51.1881209], [71.2720626, 51.1881846], [71.2721173, 51.188263], [71.2726565, 51.1881944], [71.2728831, 51.1881919], [71.2730746, 51.1882532], [71.2731996, 51.1883903], [71.2732269, 51.1884956], [71.2731996, 51.1886009], [71.2731449, 51.1886474], [71.2730316, 51.1887062], [71.2727972, 51.1887797], [71.2726995, 51.188809], [71.2726057, 51.1889315], [71.2725705, 51.1890441], [71.2725041, 51.1891176], [71.2724084, 51.189147], [71.2723615, 51.1891421], [71.2722424, 51.1891653], [71.2721056, 51.1891861], [71.2719923, 51.1892572], [71.2718243, 51.1893576], [71.2716719, 51.1893845], [71.2715938, 51.1893853], [71.2714651, 51.1893644], [71.2713479, 51.18929], [71.2712773, 51.1892106], [71.2711683, 51.1892], [71.2710548, 51.1892689], [71.2710181, 51.1892822], [71.2709916, 51.1892867], [71.2709546, 51.1892828], [71.2709308, 51.1892779], [71.2707846, 51.1892491], [71.2707652, 51.1892379], [71.2707417, 51.1892032], [71.2707263, 51.1891636], [71.2706766, 51.189103], [71.2706573, 51.1890268], [71.2705108, 51.1889489], [71.2704362, 51.1888901], [71.2703561, 51.1888554], [71.2701558, 51.1889299], [71.2693357, 51.1895483], [71.2680569, 51.1888247], [71.2672272, 51.1887174], [71.2670207, 51.1895767], [71.2665549, 51.1896844], [71.2660631, 51.1895295], [71.2653868, 51.1890821], [71.2649231, 51.1889677], [71.2643575, 51.189176], [71.2648238, 51.1896111], [71.2645475, 51.1898467], [71.2623274, 51.1896758], [71.2617444, 51.1917272], [71.2608273, 51.1921802], [71.2605489, 51.1918402], [71.2601572, 51.1915928], [71.2602361, 51.191065], [71.2599531, 51.1908977], [71.2601036, 51.1902287], [71.2585294, 51.1901522], [71.2571143, 51.1903851], [71.2557292, 51.1894887], [71.2551088, 51.1897824], [71.2551998, 51.1903069], [71.2543719, 51.1913097], [71.2531749, 51.1911848], [71.2528868, 51.1903762], [71.2519026, 51.1903211], [71.2513743, 51.1907589], [71.2529779, 51.1925126], [71.2519617, 51.1926062], [71.2514133, 51.1934391], [71.2500851, 51.1933317], [71.2492164, 51.1937445], [71.2487677, 51.1950114], [71.2476022, 51.1955243], [71.2456272, 51.1965498], [71.2431643, 51.1969271], [71.2421575, 51.1976938], [71.2424363, 51.1978427], [71.2433014, 51.1982722], [71.2445303, 51.1983083], [71.2448259, 51.198465], [71.2443965, 51.1989215], [71.2444652, 51.1989977], [71.2446405, 51.1991983], [71.2434339, 51.2000285], [71.2417446, 51.2008158], [71.2404463, 51.2013629], [71.2400139, 51.2019547], [71.2405078, 51.2024961], [71.2406514, 51.2027789], [71.2413949, 51.2028422], [71.2416241, 51.2032826], [71.240399, 51.2050728], [71.2404602, 51.205571], [71.2425483, 51.2062927], [71.2425756, 51.206572], [71.2427927, 51.2067872], [71.2415618, 51.2075436], [71.2398687, 51.2075789], [71.2381655, 51.2085434], [71.2373798, 51.208443], [71.2372988, 51.2086668], [71.2376577, 51.2088705], [71.23782, 51.2091848], [71.2374504, 51.209616], [71.2381298, 51.2097893], [71.2385923, 51.2096825], [71.2387723, 51.2100463], [71.2390652, 51.210057], [71.2391857, 51.2098629], [71.2399044, 51.2102164], [71.2394436, 51.2102252], [71.2394423, 51.210466], [71.2400728, 51.2104743], [71.2400554, 51.2106501], [71.2396569, 51.2107393], [71.2396143, 51.2109319], [71.240126, 51.2109017], [71.2404319, 51.2110468], [71.2411022, 51.2110707], [71.2411563, 51.2112492], [71.2407048, 51.211315], [71.2406667, 51.2114667], [71.2411313, 51.2116699], [71.2411793, 51.2118567], [71.2406025, 51.2120187], [71.240046, 51.2123313], [71.2401326, 51.2125092], [71.2407455, 51.2126892], [71.2408338, 51.2133037], [71.2404671, 51.2135106], [71.2405443, 51.2137621], [71.2414526, 51.2141405], [71.2412589, 51.2145645], [71.2412904, 51.2149474], [71.2410404, 51.2152827], [71.2461291, 51.2210262], [71.2476926, 51.2243114], [71.244668, 51.2250488], [71.2455008, 51.2259863], [71.2556512, 51.238734], [71.2602689, 51.2462623], [71.3015604, 51.2331888], [71.3039729, 51.2369849], [71.319128, 51.2528271], [71.3348807, 51.266619], [71.3359065, 51.2669771], [71.3408247, 51.2686981], [71.3421256, 51.2670725], [71.3459537, 51.2684957], [71.3466905, 51.2672969], [71.3663894, 51.2711805], [71.3642122, 51.2757097], [71.3587823, 51.2890938], [71.355575, 51.2976887], [71.385094, 51.3023282], [71.3898001, 51.2912475], [71.4001119, 51.2673427], [71.4137661, 51.2706573], [71.4281353, 51.2746546], [71.4503904, 51.2716014], [71.4685046, 51.2784522], [71.4758818, 51.2864121], [71.4908788, 51.2886239], [71.4985027, 51.2901089], [71.4983353, 51.2836432], [71.4724675, 51.2637806], [71.4695278, 51.2613861], [71.5033599, 51.2540783], [71.5522356, 51.2429404], [71.5550584, 51.2469273], [71.5569976, 51.2466818], [71.5586844, 51.248522], [71.5625084, 51.2485538], [71.5659858, 51.252883], [71.5669396, 51.2574811], [71.5766996, 51.2629501], [71.5941188, 51.2776463], [71.6021091, 51.2685775], [71.6044059, 51.2658364], [71.609048, 51.2603142], [71.6188071, 51.2484831], [71.5742662, 51.2203778], [71.5834847, 51.2026037], [71.5878966, 51.1986017], [71.6179142, 51.1894216], [71.6216294, 51.1881894], [71.6307685, 51.1693108], [71.6431221, 51.1423345], [71.6453858, 51.1399259], [71.6732372, 51.1410352], [71.6732943, 51.1401372], [71.6849016, 51.1405718], [71.6889679, 51.1404441], [71.6921184, 51.1395729], [71.7110588, 51.1320939], [71.7136581, 51.1315338], [71.7149108, 51.1313822], [71.7054574, 51.1130112], [71.7412871, 51.1052634], [71.7423287, 51.1014059], [71.7418897, 51.1015202], [71.7402141, 51.1011957], [71.7389685, 51.1001618], [71.7389066, 51.0993855], [71.7385248, 51.0986268], [71.7391458, 51.0980063], [71.7390397, 51.0974434], [71.737331, 51.0967155], [71.735658, 51.0965034], [71.7342857, 51.0970211], [71.7329443, 51.0980606], [71.7315177, 51.0987673], [71.731127, 51.0988903], [71.7300097, 51.0995123], [71.7289336, 51.1008864], [71.7286974, 51.1019878], [71.7285971, 51.1024649], [71.7281094, 51.1029005], [71.7268326, 51.1032838], [71.7257865, 51.1035001], [71.7251706, 51.1033932], [71.7244343, 51.1034205], [71.7232719, 51.1030234], [71.722591, 51.1014941], [71.721133, 51.100592], [71.720761, 51.1004425], [71.7200215, 51.100187], [71.7179908, 51.099558], [71.716579, 51.0994119], [71.7140757, 51.0992922], [71.712064, 51.0987466], [71.7109628, 51.0985989], [71.7095293, 51.0977919], [71.7085128, 51.097635], [71.7076878, 51.0971188], [71.7067396, 51.0967854], [71.7076413, 51.0961039], [71.7082319, 51.0963701], [71.709263, 51.0963462], [71.7098974, 51.0960187], [71.7101914, 51.0954605], [71.7094299, 51.0946022], [71.7087825, 51.0940031], [71.7086443, 51.0931921], [71.7070223, 51.0925037], [71.704504, 51.0921049], [71.7025154, 51.0928129], [71.7008539, 51.0921106], [71.700381, 51.0907225], [71.6993647, 51.0894292], [71.6963518, 51.0893013], [71.6958849, 51.0907111], [71.6946579, 51.0911838], [71.695879, 51.0924066], [71.6944278, 51.0926211], [71.6939332, 51.0935542], [71.6921204, 51.0936765], [71.6920839, 51.0930488], [71.6904231, 51.0925729], [71.6894027, 51.0929677], [71.6886596, 51.0926706], [71.6891685, 51.092059], [71.6889006, 51.091351], [71.6866206, 51.0911463], [71.6831288, 51.0916024], [71.681892, 51.0912292], [71.6806382, 51.0903997], [71.6791093, 51.0853245], [71.6743607, 51.0862388], [71.6588524, 51.0892759], [71.6349608, 51.0946676], [71.6151336, 51.0993803], [71.6078625, 51.0905369], [71.6037835, 51.0857795], [71.5882957, 51.0746349], [71.5797424, 51.0703195], [71.5644428, 51.0572895], [71.556088, 51.048691], [71.5477011, 51.0509109], [71.5457574, 51.0486979], [71.5341802, 51.0471897], [71.5025869, 51.045466], [71.4980141, 51.0425791], [71.501568, 51.0391496], [71.4924269, 51.0343627], [71.4775451, 51.0249923], [71.4788771, 51.0241314], [71.475646, 51.0215791], [71.4740231, 51.0223961], [71.4691386, 51.0196739], [71.468947, 51.0198168], [71.4625042, 51.0165878], [71.4597113, 51.0123162], [71.4571859, 51.0069519], [71.4547484, 51.0049056], [71.4541934, 51.0006766], [71.4383186, 51.0035437], [71.4373207, 51.0029412], [71.4356486, 51.0039225], [71.4144398, 51.0071157], [71.402951, 51.0090634], [71.4003795, 51.0101037], [71.3817892, 51.0129804], [71.3801142, 51.0129896], [71.3355374, 51.0190931], [71.3317459, 51.0214741], [71.3184737, 51.0237469], [71.3123601, 51.0233131], [71.3078297, 51.0222101], [71.3030227, 51.0227157], [71.2908043, 51.0217277], [71.2895376, 51.0215786], [71.2866187, 51.0224236], [71.2847901, 51.0237262], [71.2796905, 51.0263875], [71.2760821, 51.029967], [71.2722388, 51.0333053], [71.2693186, 51.0350465], [71.2684643, 51.0392038], [71.2666071, 51.0410646], [71.2631113, 51.0424307], [71.2616567, 51.0445644], [71.2576794, 51.0474837], [71.2554276, 51.0504046], [71.2561724, 51.0531274], [71.2547052, 51.0550155], [71.2550435, 51.0573952], [71.2560461, 51.0596918], [71.2558708, 51.0629586], [71.2531361, 51.0662749], [71.250827, 51.0680388], [71.2481749, 51.0684759], [71.2451662, 51.0685891], [71.2261047, 51.0997588], [71.2255433, 51.1005826], [71.2243848, 51.1001786], [71.2178506, 51.1107521]]], [[[71.6415258, 51.3316656], [71.6678132, 51.3398842], [71.6838682, 51.3509429], [71.6923847, 51.3510715], [71.6950979, 51.3511101], [71.6927107, 51.3488787], [71.697736, 51.3465872], [71.7011348, 51.349766], [71.7063332, 51.3476043], [71.7039107, 51.3428285], [71.6999211, 51.3388761], [71.6990471, 51.3378711], [71.6973656, 51.3353448], [71.6941792, 51.3335279], [71.6938307, 51.3337089], [71.6866021, 51.3288876], [71.6842449, 51.3256499], [71.6787604, 51.3217359], [71.672494, 51.3174535], [71.6716, 51.3165612], [71.6733166, 51.3156608], [71.6704181, 51.3137676], [71.6742334, 51.3111448], [71.6718742, 51.3094308], [71.6703576, 51.3103754], [71.6666355, 51.3130922], [71.6580881, 51.3171647], [71.6564341, 51.3182197], [71.6513113, 51.3215171], [71.6445262, 51.3283709], [71.6415258, 51.3316656]]], [[[71.740388, 51.16606], [71.7851103, 51.165569], [71.7851913, 51.1573031], [71.782424, 51.1504554], [71.7661365, 51.1446854], [71.7608792, 51.1457224], [71.7468576, 51.1621451], [71.740388, 51.16606]]]], \"type\": \"MultiPolygon\"}, \"geometry_name\": \"the_geom\", \"id\": \"astana_np3.1\", \"properties\": {\"ADMIN_LEVE\": \"4\", \"BOUNDARY\": \"administrative\", \"CITY_KEY\": \"\", \"CURRENCY\": \"\", \"FLAG\": \"\", \"ID\": 3087155, \"ISO3166-1:\": \"\", \"LOCALNAME\": \"\\u0413\\u0452\\u0412\\u0452\\u0413\\u2018\\u0412\\u0403\\u0413\\u2018\\u0412\\u201a\\u0413\\u0452\\u0412\\u00b0\\u0413\\u0452\\u0412\\u0405\\u0413\\u0452\\u0412\\u00b0\", \"NAME\": \"Astana\", \"NOTE\": \"region polygon\", \"OFFICIAL_N\": \"\", \"REGION_KEY\": \"\", \"WIKIDATA\": \"\", \"WIKIPEDIA\": \"ru:\\u0413\\u0452\\u0412\\u0452\\u0413\\u2018\\u0412\\u0403\\u0413\\u2018\\u0412\\u201a\\u0413\\u0452\\u0412\\u00b0\\u0413\\u0452\\u0412\\u0405\\u0413\\u0452\\u0412\\u00b0\", \"bbox\": [71.2178506, 51.0006766, 71.7851913, 51.3511101]}, \"type\": \"Feature\"}], \"type\": \"FeatureCollection\"}, \"hovertemplate\": \"city=%{location}<br>\\u0422=%{z}<extra></extra>\", \"locations\": [\"Astana\", \"Astana\", \"Astana\", \"Astana\", \"Astana\", \"Astana\", \"Astana\", \"Astana\", \"Astana\", \"Astana\", \"Astana\", \"Astana\", \"Astana\", \"Astana\", \"Astana\", \"Astana\", \"Astana\", \"Astana\", \"Astana\", \"Astana\", \"Astana\", \"Astana\", \"Astana\", \"Astana\", \"Astana\", \"Astana\", \"Astana\", \"Astana\", \"Astana\", \"Astana\", \"Astana\", \"Astana\", \"Astana\", \"Astana\", \"Astana\", \"Astana\", \"Astana\", \"Astana\", \"Astana\", \"Astana\", \"Astana\", \"Astana\", \"Astana\", \"Astana\", \"Astana\", \"Astana\", \"Astana\", \"Astana\", \"Astana\", \"Astana\", \"Astana\", \"Astana\", \"Astana\", \"Astana\", \"Astana\", \"Astana\", \"Astana\", \"Astana\", \"Astana\", \"Astana\", \"Astana\", \"Astana\", \"Astana\", \"Astana\", \"Astana\", \"Astana\", \"Astana\", \"Astana\", \"Astana\", \"Astana\", \"Astana\", \"Astana\", \"Astana\", \"Astana\", \"Astana\", \"Astana\", \"Astana\", \"Astana\", \"Astana\", \"Astana\", \"Astana\", \"Astana\", \"Astana\", \"Astana\", \"Astana\", \"Astana\", \"Astana\", \"Astana\", \"Astana\", \"Astana\", \"Astana\", \"Astana\", \"Astana\", \"Astana\", \"Astana\", \"Astana\", \"Astana\", \"Astana\", \"Astana\", \"Astana\", \"Astana\", \"Astana\", \"Astana\", \"Astana\", \"Astana\", \"Astana\", \"Astana\", \"Astana\", \"Astana\", \"Astana\", \"Astana\", \"Astana\", \"Astana\", \"Astana\", \"Astana\", \"Astana\", \"Astana\", \"Astana\", \"Astana\", \"Astana\", \"Astana\", \"Astana\", \"Astana\", \"Astana\", \"Astana\", \"Astana\", \"Astana\", \"Astana\", \"Astana\", \"Astana\", \"Astana\", \"Astana\", \"Astana\", \"Astana\", \"Astana\", \"Astana\", \"Astana\", \"Astana\", \"Astana\", \"Astana\", \"Astana\", \"Astana\", \"Astana\", \"Astana\", \"Astana\", \"Astana\", \"Astana\", \"Astana\", \"Astana\", \"Astana\", \"Astana\", \"Astana\", \"Astana\", \"Astana\", \"Astana\", \"Astana\", \"Astana\", \"Astana\", \"Astana\", \"Astana\", \"Astana\", \"Astana\", \"Astana\", \"Astana\", \"Astana\", \"Astana\", \"Astana\", \"Astana\", \"Astana\", \"Astana\", \"Astana\", \"Astana\", \"Astana\", \"Astana\", \"Astana\", \"Astana\", \"Astana\", \"Astana\", \"Astana\", \"Astana\", \"Astana\", \"Astana\", \"Astana\", \"Astana\", \"Astana\", \"Astana\", \"Astana\", \"Astana\", \"Astana\", \"Astana\", \"Astana\", \"Astana\", \"Astana\", \"Astana\", \"Astana\", \"Astana\", \"Astana\", \"Astana\", \"Astana\", \"Astana\", \"Astana\", \"Astana\", \"Astana\", \"Astana\", \"Astana\", \"Astana\", \"Astana\", \"Astana\", \"Astana\", \"Astana\", \"Astana\", \"Astana\", \"Astana\", \"Astana\", \"Astana\", \"Astana\", \"Astana\", \"Astana\", \"Astana\", \"Astana\", \"Astana\", \"Astana\", \"Astana\", \"Astana\", \"Astana\", \"Astana\", \"Astana\", \"Astana\", \"Astana\", \"Astana\", \"Astana\", \"Astana\", \"Astana\", \"Astana\", \"Astana\", \"Astana\", \"Astana\", \"Astana\", \"Astana\", \"Astana\", \"Astana\", \"Astana\", \"Astana\", \"Astana\", \"Astana\", \"Astana\", \"Astana\", \"Astana\", \"Astana\", \"Astana\", \"Astana\", \"Astana\", \"Astana\", \"Astana\", \"Astana\", \"Astana\", \"Astana\", \"Astana\", \"Astana\", \"Astana\", \"Astana\", \"Astana\", \"Astana\", \"Astana\", \"Astana\", \"Astana\", \"Astana\", \"Astana\", \"Astana\", \"Astana\", \"Astana\", \"Astana\", \"Astana\", \"Astana\", \"Astana\", \"Astana\", \"Astana\", \"Astana\", \"Astana\", \"Astana\", \"Astana\", \"Astana\", \"Astana\", \"Astana\", \"Astana\", \"Astana\", \"Astana\", \"Astana\", \"Astana\", \"Astana\", \"Astana\", \"Astana\", \"Astana\", \"Astana\", \"Astana\", \"Astana\", \"Astana\", \"Astana\", \"Astana\", \"Astana\", \"Astana\", \"Astana\", \"Astana\", \"Astana\", \"Astana\", \"Astana\", \"Astana\", \"Astana\", \"Astana\", \"Astana\", \"Astana\", \"Astana\", \"Astana\", \"Astana\", \"Astana\", \"Astana\", \"Astana\", \"Astana\", \"Astana\", \"Astana\", \"Astana\", \"Astana\", \"Astana\", \"Astana\", \"Astana\", \"Astana\", \"Astana\", \"Astana\", \"Astana\", \"Astana\", \"Astana\", \"Astana\", \"Astana\", \"Astana\", \"Astana\", \"Astana\", \"Astana\", \"Astana\", \"Astana\", \"Astana\", \"Astana\", \"Astana\", \"Astana\", \"Astana\", \"Astana\", \"Astana\", \"Astana\", \"Astana\", \"Astana\", \"Astana\", \"Astana\", \"Astana\", \"Astana\", \"Astana\", \"Astana\", \"Astana\", \"Astana\", \"Astana\", \"Astana\", \"Astana\", \"Astana\", \"Astana\", \"Astana\", \"Astana\", \"Astana\", \"Astana\", \"Astana\", \"Astana\", \"Astana\", \"Astana\", \"Astana\", \"Astana\", \"Astana\", \"Astana\", \"Astana\", \"Astana\", \"Astana\", \"Astana\", \"Astana\", \"Astana\", \"Astana\", \"Astana\", \"Astana\", \"Astana\", \"Astana\", \"Astana\", \"Astana\", \"Astana\", \"Astana\", \"Astana\", \"Astana\", \"Astana\", \"Astana\", \"Astana\", \"Astana\", \"Astana\", \"Astana\", \"Astana\", \"Astana\", \"Astana\", \"Astana\", \"Astana\", \"Astana\", \"Astana\", \"Astana\", \"Astana\", \"Astana\", \"Astana\", \"Astana\", \"Astana\", \"Astana\", \"Astana\", \"Astana\", \"Astana\", \"Astana\", \"Astana\", \"Astana\", \"Astana\", \"Astana\", \"Astana\", \"Astana\", \"Astana\", \"Astana\", \"Astana\", \"Astana\", \"Astana\", \"Astana\", \"Astana\", \"Astana\", \"Astana\", \"Astana\", \"Astana\", \"Astana\", \"Astana\", \"Astana\", \"Astana\", \"Astana\", \"Astana\", \"Astana\", \"Astana\", \"Astana\", \"Astana\", \"Astana\", \"Astana\", \"Astana\", \"Astana\", \"Astana\", \"Astana\", \"Astana\", \"Astana\", \"Astana\", \"Astana\", \"Astana\", \"Astana\", \"Astana\", \"Astana\", \"Astana\", \"Astana\", \"Astana\", \"Astana\", \"Astana\", \"Astana\", \"Astana\", \"Astana\", \"Astana\", \"Astana\", \"Astana\", \"Astana\", \"Astana\", \"Astana\", \"Astana\", \"Astana\", \"Astana\", \"Astana\", \"Astana\", \"Astana\", \"Astana\", \"Astana\", \"Astana\", \"Astana\", \"Astana\", \"Astana\", \"Astana\", \"Astana\", \"Astana\", \"Astana\", \"Astana\", \"Astana\", \"Astana\", \"Astana\", \"Astana\", \"Astana\", \"Astana\", \"Astana\", \"Astana\", \"Astana\", \"Astana\", \"Astana\", \"Astana\", \"Astana\", \"Astana\", \"Astana\", \"Astana\", \"Astana\", \"Astana\", \"Astana\", \"Astana\", \"Astana\", \"Astana\", \"Astana\", \"Astana\", \"Astana\", \"Astana\", \"Astana\", \"Astana\", \"Astana\", \"Astana\", \"Astana\", \"Astana\", \"Astana\", \"Astana\", \"Astana\", \"Astana\", \"Astana\", \"Astana\", \"Astana\", \"Astana\", \"Astana\", \"Astana\", \"Astana\", \"Astana\", \"Astana\", \"Astana\", \"Astana\", \"Astana\", \"Astana\", \"Astana\", \"Astana\", \"Astana\", \"Astana\", \"Astana\", \"Astana\", \"Astana\", \"Astana\", \"Astana\", \"Astana\", \"Astana\", \"Astana\", \"Astana\", \"Astana\", \"Astana\", \"Astana\", \"Astana\", \"Astana\", \"Astana\", \"Astana\", \"Astana\", \"Astana\", \"Astana\", \"Astana\", \"Astana\", \"Astana\", \"Astana\", \"Astana\", \"Astana\", \"Astana\", \"Astana\", \"Astana\", \"Astana\", \"Astana\", \"Astana\", \"Astana\", \"Astana\", \"Astana\", \"Astana\", \"Astana\", \"Astana\", \"Astana\", \"Astana\", \"Astana\", \"Astana\", \"Astana\", \"Astana\", \"Astana\", \"Astana\", \"Astana\", \"Astana\", \"Astana\", \"Astana\", \"Astana\", \"Astana\", \"Astana\", \"Astana\", \"Astana\", \"Astana\", \"Astana\", \"Astana\", \"Astana\", \"Astana\", \"Astana\", \"Astana\", \"Astana\", \"Astana\", \"Astana\", \"Astana\", \"Astana\", \"Astana\", \"Astana\", \"Astana\", \"Astana\", \"Astana\", \"Astana\", \"Astana\", \"Astana\", \"Astana\", \"Astana\", \"Astana\", \"Astana\", \"Astana\", \"Astana\", \"Astana\", \"Astana\", \"Astana\", \"Astana\", \"Astana\", \"Astana\", \"Astana\", \"Astana\", \"Astana\", \"Astana\", \"Astana\", \"Astana\", \"Astana\", \"Astana\", \"Astana\", \"Astana\", \"Astana\", \"Astana\", \"Astana\", \"Astana\", \"Astana\", \"Astana\", \"Astana\", \"Astana\", \"Astana\", \"Astana\", \"Astana\", \"Astana\", \"Astana\", \"Astana\", \"Astana\", \"Astana\", \"Astana\", \"Astana\", \"Astana\", \"Astana\", \"Astana\", \"Astana\", \"Astana\", \"Astana\", \"Astana\", \"Astana\", \"Astana\", \"Astana\", \"Astana\", \"Astana\", \"Astana\", \"Astana\", \"Astana\", \"Astana\", \"Astana\", \"Astana\", \"Astana\", \"Astana\", \"Astana\", \"Astana\", \"Astana\", \"Astana\", \"Astana\", \"Astana\", \"Astana\", \"Astana\", \"Astana\", \"Astana\", \"Astana\", \"Astana\", \"Astana\", \"Astana\", \"Astana\", \"Astana\", \"Astana\", \"Astana\", \"Astana\", \"Astana\", \"Astana\", \"Astana\", \"Astana\", \"Astana\", \"Astana\", \"Astana\", \"Astana\", \"Astana\", \"Astana\", \"Astana\", \"Astana\", \"Astana\", \"Astana\", \"Astana\", \"Astana\", \"Astana\", \"Astana\", \"Astana\", \"Astana\", \"Astana\", \"Astana\", \"Astana\", \"Astana\", \"Astana\", \"Astana\", \"Astana\", \"Astana\", \"Astana\", \"Astana\", \"Astana\", \"Astana\", \"Astana\", \"Astana\", \"Astana\", \"Astana\", \"Astana\", \"Astana\", \"Astana\", \"Astana\", \"Astana\", \"Astana\", \"Astana\", \"Astana\", \"Astana\", \"Astana\", \"Astana\", \"Astana\", \"Astana\", \"Astana\", \"Astana\", \"Astana\", \"Astana\", \"Astana\", \"Astana\", \"Astana\", \"Astana\", \"Astana\", \"Astana\", \"Astana\", \"Astana\", \"Astana\", \"Astana\", \"Astana\", \"Astana\", \"Astana\", \"Astana\", \"Astana\", \"Astana\", \"Astana\", \"Astana\", \"Astana\", \"Astana\", \"Astana\", \"Astana\", \"Astana\", \"Astana\", \"Astana\", \"Astana\", \"Astana\", \"Astana\", \"Astana\", \"Astana\", \"Astana\", \"Astana\", \"Astana\", \"Astana\", \"Astana\", \"Astana\", \"Astana\", \"Astana\", \"Astana\", \"Astana\", \"Astana\", \"Astana\", \"Astana\", \"Astana\", \"Astana\", \"Astana\", \"Astana\", \"Astana\", \"Astana\", \"Astana\", \"Astana\", \"Astana\", \"Astana\", \"Astana\", \"Astana\", \"Astana\", \"Astana\", \"Astana\", \"Astana\", \"Astana\", \"Astana\", \"Astana\", \"Astana\", \"Astana\", \"Astana\", \"Astana\", \"Astana\", \"Astana\", \"Astana\", \"Astana\", \"Astana\", \"Astana\", \"Astana\", \"Astana\", \"Astana\", \"Astana\", \"Astana\", \"Astana\", \"Astana\", \"Astana\", \"Astana\", \"Astana\", \"Astana\", \"Astana\", \"Astana\", \"Astana\", \"Astana\", \"Astana\", \"Astana\", \"Astana\", \"Astana\", \"Astana\", \"Astana\", \"Astana\", \"Astana\", \"Astana\", \"Astana\", \"Astana\", \"Astana\", \"Astana\", \"Astana\", \"Astana\", \"Astana\", \"Astana\", \"Astana\", \"Astana\", \"Astana\", \"Astana\", \"Astana\", \"Astana\", \"Astana\", \"Astana\", \"Astana\", \"Astana\", \"Astana\", \"Astana\", \"Astana\", \"Astana\", \"Astana\", \"Astana\", \"Astana\", \"Astana\", \"Astana\", \"Astana\", \"Astana\", \"Astana\", \"Astana\", \"Astana\", \"Astana\", \"Astana\", \"Astana\", \"Astana\", \"Astana\", \"Astana\", \"Astana\", \"Astana\", \"Astana\", \"Astana\", \"Astana\", \"Astana\", \"Astana\", \"Astana\", \"Astana\", \"Astana\", \"Astana\", \"Astana\", \"Astana\", \"Astana\", \"Astana\", \"Astana\", \"Astana\", \"Astana\", \"Astana\", \"Astana\", \"Astana\", \"Astana\", \"Astana\", \"Astana\", \"Astana\", \"Astana\", \"Astana\", \"Astana\", \"Astana\", \"Astana\", \"Astana\", \"Astana\", \"Astana\", \"Astana\", \"Astana\", \"Astana\", \"Astana\", \"Astana\", \"Astana\", \"Astana\", \"Astana\", \"Astana\", \"Astana\", \"Astana\", \"Astana\", \"Astana\", \"Astana\", \"Astana\", \"Astana\", \"Astana\", \"Astana\", \"Astana\", \"Astana\", \"Astana\", \"Astana\", \"Astana\", \"Astana\", \"Astana\", \"Astana\", \"Astana\", \"Astana\", \"Astana\", \"Astana\", \"Astana\", \"Astana\", \"Astana\", \"Astana\", \"Astana\", \"Astana\", \"Astana\", \"Astana\", \"Astana\", \"Astana\", \"Astana\", \"Astana\", \"Astana\", \"Astana\", \"Astana\", \"Astana\", \"Astana\", \"Astana\", \"Astana\", \"Astana\", \"Astana\", \"Astana\", \"Astana\", \"Astana\", \"Astana\", \"Astana\", \"Astana\", \"Astana\", \"Astana\", \"Astana\", \"Astana\", \"Astana\", \"Astana\", \"Astana\"], \"name\": \"\", \"type\": \"choropleth\", \"z\": [-20.5, -19.6, -18.2, -16.5, -17.5, -18.6, -19.6, -18.5, -17.1, -17.0, -16.0, -14.9, -18.5, -20.1, -21.7, -21.0, -20.3, -19.6, -18.0, -16.3, -19.2, -18.8, -14.7, -11.5, -12.8, -12.5, -12.7, -10.8, -12.8, -16.2, -17.2, -17.5, -16.2, -16.1, -15.3, -12.9, -12.8, -15.0, -17.1, -16.4, -15.9, -18.4, -18.8, -18.0, -19.9, -19.1, -20.0, -21.0, -21.1, -21.8, -19.3, -18.0, -21.1, -23.2, -24.7, -25.6, -25.7, -25.9, -23.3, -20.9, -24.8, -23.8, -24.0, -25.2, -23.7, -22.4, -15.7, -12.0, -13.8, -17.5, -12.9, -12.5, -13.0, -12.3, -9.8, -6.4, -6.7, -5.0, -5.5, -4.1, -4.2, -3.3, -1.0, 0.1, 1.6, 0.4, 1.5, -1.3, -4.0, -2.9, -2.2, -0.1, -0.3, -4.6, -8.6, -10.6, -15.6, -15.2, -14.9, -13.3, -15.1, -17.6, -20.0, -21.2, -21.9, -19.5, -18.1, -15.6, -17.2, -18.0, -18.0, -19.3, -18.9, -15.8, -12.4, -9.5, -9.9, -11.8, -11.1, -11.1, -10.2, -9.7, -8.0, -6.0, -5.6, -6.6, -5.6, -5.0, -5.2, -7.6, -11.3, -12.0, -14.6, -16.3, -17.7, -21.3, -22.7, -23.5, -21.7, -19.6, -22.2, -22.4, -23.9, -25.1, -24.4, -24.2, -18.5, -16.8, -17.0, -20.2, -21.2, -18.5, -18.1, -17.6, -14.8, -13.2, -13.3, -14.0, -14.1, -13.3, -12.6, -13.1, -10.2, -8.3, -9.4, -10.2, -10.9, -11.2, -11.5, -10.9, -8.5, -4.4, -9.2, -10.7, -12.7, -14.8, -15.3, -15.2, -17.3, -16.3, -17.6, -19.3, -19.6, -13.4, -12.7, -12.1, -8.4, -3.8, -8.1, -14.1, -15.1, -10.7, -17.1, -15.5, -16.4, -12.8, -16.7, -16.0, -16.6, -17.6, -17.9, -18.0, -11.5, -9.9, -12.4, -19.4, -20.9, -22.4, -23.9, -22.8, -17.5, -11.2, -14.2, -15.0, -15.6, -15.0, -12.7, -9.4, -7.3, -7.8, -8.6, -9.8, -11.1, -13.9, -15.6, -17.3, -13.5, -9.9, -13.4, -15.1, -15.5, -15.2, -16.6, -15.3, -12.6, -10.4, -10.5, -10.3, -11.0, -13.3, -14.2, -10.3, -6.6, -4.0, -4.1, -3.9, -3.5, -4.1, -5.2, -5.3, -4.6, -4.3, -5.9, -7.5, -9.0, -9.6, -10.5, -11.0, -10.1, -7.1, -8.2, -9.0, -11.6, -13.7, -16.6, -16.8, -12.0, -9.6, -9.4, -9.9, -10.0, -10.5, -9.9, -9.2, -7.2, -5.8, -5.9, -4.3, -2.0, -0.8, -0.5, -0.2, 0.0, -0.1, 0.0, 0.1, 0.8, 0.9, -0.3, -1.5, -0.6, 0.1, -0.6, -0.7, -1.8, -1.0, -2.2, -1.8, 0.3, 2.3, -0.4, -1.9, -1.4, -1.4, -1.6, -2.1, -3.7, -4.6, -5.6, -7.9, -11.7, -13.0, -13.8, -16.6, -14.4, -12.5, -14.6, -17.6, -20.1, -21.1, -22.6, -23.4, -19.8, -16.3, -18.4, -18.9, -19.7, -19.2, -17.3, -15.5, -13.3, -10.9, -11.4, -12.0, -12.0, -12.2, -13.7, -13.0, -11.9, -11.2, -10.6, -10.2, -9.8, -10.4, -12.2, -11.4, -9.2, -7.3, -8.0, -8.4, -13.0, -12.2, -12.9, -13.5, -8.6, -6.9, -9.5, -11.3, -15.0, -15.2, -17.3, -18.8, -14.4, -11.4, -14.4, -16.0, -16.4, -15.8, -17.1, -17.7, -15.1, -11.7, -11.4, -14.6, -17.7, -19.2, -20.3, -20.1, -15.2, -13.1, -12.9, -12.9, -13.4, -13.6, -13.8, -14.1, -10.8, -7.1, -8.7, -10.3, -9.7, -11.9, -12.9, -13.5, -9.6, -1.9, -6.3, -9.9, -10.4, -12.2, -12.3, -11.1, -4.2, -2.0, -5.7, -9.6, -12.2, -9.9, -11.0, -8.7, -3.9, -2.3, -3.8, -7.0, -8.0, -9.7, -10.9, -10.3, -6.9, -3.3, -4.5, -8.7, -9.5, -11.4, -11.4, -11.1, -5.8, -3.5, -2.8, -2.7, -1.8, -1.1, -0.8, -1.8, -0.6, 0.8, 0.4, -0.3, -0.5, -0.8, -2.4, -2.3, 1.9, 5.2, 3.8, 2.9, 2.0, 2.4, 1.4, 2.5, 6.8, 7.8, 6.7, 3.5, 2.4, 2.3, 1.5, 1.4, 0.9, 1.1, 0.3, -0.2, -2.1, -3.1, -4.0, -3.9, -1.9, -0.2, 0.0, -1.2, -1.2, -2.1, -3.1, -3.0, -2.5, -3.1, -2.1, -2.1, -2.4, -1.6, -2.1, -3.1, -3.3, -3.2, -3.6, -4.3, -3.9, -3.3, -3.7, -5.4, -5.2, -4.7, -5.6, -7.7, -10.3, -11.9, -13.3, -14.1, -9.9, -6.2, -5.5, -5.2, -5.3, -5.5, -5.8, -5.8, -3.3, -1.1, -1.0, -3.5, -4.7, -6.6, -6.2, -5.9, 0.1, -0.1, -0.6, -0.8, -1.0, -1.8, -3.1, -4.2, -2.2, -0.8, -0.5, -1.6, -3.1, -4.0, -5.0, -4.6, -3.6, -1.0, -2.2, -3.8, -5.7, -6.4, -6.3, -5.8, -1.3, 1.3, -0.4, -2.8, -3.4, -5.0, -5.4, -5.0, 1.6, 3.6, 2.7, 1.2, -0.3, -0.5, -2.6, -6.2, -1.7, 0.4, 0.1, -2.9, -4.3, -6.4, -8.5, -8.4, 0.7, 4.9, 3.3, -0.6, -0.6, -2.1, -3.4, -2.4, 2.2, 3.9, 2.5, 0.2, -1.5, -2.3, -1.9, -0.2, 1.5, 1.6, 0.7, -0.4, -2.0, -4.0, -4.3, -4.2, -1.7, 0.2, -1.2, -1.7, -3.8, -4.0, -4.6, -5.4, -2.4, -0.4, -1.0, -1.2, -1.4, -2.0, -2.1, -1.0, 1.3, 1.1, 1.6, -0.2, -1.9, -2.8, -3.8, -3.6, -1.6, -0.1, -2.3, -3.1, -2.1, -2.1, -2.4, -2.1, -0.7, 0.3, -0.3, -2.0, -2.8, -2.7, -3.4, -2.0, 0.8, 1.9, 2.1, 2.2, 2.4, 1.8, 2.5, 3.5, 5.2, 6.6, 5.8, 3.9, 3.3, 3.7, 3.1, 3.7, 5.8, 6.8, 6.4, 0.8, -4.6, -6.5, -8.1, -7.3, -3.8, -2.3, -1.3, -3.0, -3.0, -4.5, -4.6, -2.9, 4.0, 4.6, 3.8, 0.7, 0.9, -0.6, -0.3, 0.9, 2.1, 5.2, 5.8, 5.8, 3.8, 2.3, 1.0, -0.3, -1.0, -0.8, -0.5, -0.5, -1.2, -2.2, -3.8, -3.0, 2.8, 6.2, 5.8, 3.7, 2.7, 1.5, 1.5, 1.1, 6.6, 6.9, 7.6, 5.4, 5.4, 4.3, 3.5, 4.4, 10.4, 12.7, 9.9, 7.7, 4.8, 2.7, 1.9, 2.7, 3.5, 3.4, 2.5, 2.9, 2.8, 2.8, 3.2, 3.8, 5.2, 7.2, 6.1, 5.8, 3.4, 2.4, 3.3, 4.8, 6.2, 5.5, 5.0, 4.9, 5.0, 4.5, 5.3, 6.9, 10.3, 10.5, 4.1, 2.5, 2.3, 2.4, 2.7, 2.9, 3.0, 4.5, 3.6, 1.9, 1.0, 0.8, 0.6, 4.3, 7.5, 9.0, 7.9, 6.3, 2.0, 0.7, 5.6, 12.4, 13.6, 13.2, 11.4, 9.1, 7.1, 6.9, 6.9, 13.2, 13.8, 14.6, 12.7, 7.2, 2.4, 2.9, 3.3, 6.9, 9.5, 8.5, 6.6, 5.7, 4.3, 4.0, 4.9, 7.1, 3.6, 5.3, 3.1, 1.9, 2.2, 2.2, 2.1, 5.8, 3.3, 5.2, 3.0, 1.2, 1.2, 0.8, 0.8, 3.5, 6.0, 8.0, 5.0, 3.7, 1.9, 1.5, 4.2, 9.5, 10.3, 10.1, 7.3, 7.2, 6.5, 6.4, 7.2, 12.2, 15.0, 15.5, 11.8, 9.4, 6.7, 5.4, 5.8, 12.4, 16.0, 16.5, 10.5, 6.3, 3.3, 2.4, 5.5, 8.9, 11.0, 10.9, 7.7, 4.8, 5.9, 4.4, 7.0, 12.8, 15.5, 16.1, 13.1, 10.9, 9.1, 7.0, 10.5, 16.2, 19.2, 19.3, 16.6, 14.1, 11.9, 10.4, 12.3, 17.8, 19.9, 21.2, 15.8, 11.9, 7.2, 7.6, 13.8, 19.2, 20.9, 20.8, 16.8, 13.8, 10.1, 11.0, 13.5, 19.0, 23.5, 24.7, 22.2, 17.5, 14.7, 12.6, 15.8, 19.1, 21.4, 20.9, 15.8, 13.6, 11.7, 10.0, 15.7, 18.8, 19.6, 14.4, 12.5, 11.3, 11.8, 10.4, 13.6, 19.1, 21.3, 16.3, 13.2, 11.5, 9.4, 8.5, 9.1, 12.5, 14.2, 14.4, 14.7, 12.0, 10.0, 7.9, 14.3, 19.5, 21.0, 21.5, 17.3, 14.3, 12.0, 9.8, 8.0, 8.3, 12.8, 15.9, 12.5, 8.4, 6.8, 5.5, 10.7, 15.1, 16.0, 16.5, 11.4, 8.6, 4.0, 2.0, 9.5, 13.2, 15.7, 14.4, 11.8, 9.8, 5.0, 5.9, 10.3, 14.4, 15.3, 14.7, 9.1, 5.2, 3.7, 1.9, 6.3, 9.3, 11.2, 11.1, 9.3, 6.2, 4.8, 1.8, 7.5, 11.9, 12.8, 12.2, 9.5, 4.3, 2.2, 0.7, 9.1, 14.0, 14.7, 15.3, 12.1, 6.4, 4.8, 2.5, 11.7, 15.4, 16.3, 16.3, 13.9, 12.9, 7.5, 7.1, 12.8]}],                        {\"coloraxis\": {\"colorbar\": {\"title\": {\"text\": \"\\u0422\"}}, \"colorscale\": [[0.0, \"#0d0887\"], [0.1111111111111111, \"#46039f\"], [0.2222222222222222, \"#7201a8\"], [0.3333333333333333, \"#9c179e\"], [0.4444444444444444, \"#bd3786\"], [0.5555555555555556, \"#d8576b\"], [0.6666666666666666, \"#ed7953\"], [0.7777777777777778, \"#fb9f3a\"], [0.8888888888888888, \"#fdca26\"], [1.0, \"#f0f921\"]]}, \"geo\": {\"center\": {}, \"domain\": {\"x\": [0.0, 1.0], \"y\": [0.0, 1.0]}, \"fitbounds\": \"geojson\", \"projection\": {\"type\": \"mercator\"}, \"visible\": false}, \"legend\": {\"tracegroupgap\": 0}, \"margin\": {\"t\": 60}, \"template\": {\"data\": {\"bar\": [{\"error_x\": {\"color\": \"#2a3f5f\"}, \"error_y\": {\"color\": \"#2a3f5f\"}, \"marker\": {\"line\": {\"color\": \"#E5ECF6\", \"width\": 0.5}}, \"type\": \"bar\"}], \"barpolar\": [{\"marker\": {\"line\": {\"color\": \"#E5ECF6\", \"width\": 0.5}}, \"type\": \"barpolar\"}], \"carpet\": [{\"aaxis\": {\"endlinecolor\": \"#2a3f5f\", \"gridcolor\": \"white\", \"linecolor\": \"white\", \"minorgridcolor\": \"white\", \"startlinecolor\": \"#2a3f5f\"}, \"baxis\": {\"endlinecolor\": \"#2a3f5f\", \"gridcolor\": \"white\", \"linecolor\": \"white\", \"minorgridcolor\": \"white\", \"startlinecolor\": \"#2a3f5f\"}, \"type\": \"carpet\"}], \"choropleth\": [{\"colorbar\": {\"outlinewidth\": 0, \"ticks\": \"\"}, \"type\": \"choropleth\"}], \"contour\": [{\"colorbar\": {\"outlinewidth\": 0, \"ticks\": \"\"}, \"colorscale\": [[0.0, \"#0d0887\"], [0.1111111111111111, \"#46039f\"], [0.2222222222222222, \"#7201a8\"], [0.3333333333333333, \"#9c179e\"], [0.4444444444444444, \"#bd3786\"], [0.5555555555555556, \"#d8576b\"], [0.6666666666666666, \"#ed7953\"], [0.7777777777777778, \"#fb9f3a\"], [0.8888888888888888, \"#fdca26\"], [1.0, \"#f0f921\"]], \"type\": \"contour\"}], \"contourcarpet\": [{\"colorbar\": {\"outlinewidth\": 0, \"ticks\": \"\"}, \"type\": \"contourcarpet\"}], \"heatmap\": [{\"colorbar\": {\"outlinewidth\": 0, \"ticks\": \"\"}, \"colorscale\": [[0.0, \"#0d0887\"], [0.1111111111111111, \"#46039f\"], [0.2222222222222222, \"#7201a8\"], [0.3333333333333333, \"#9c179e\"], [0.4444444444444444, \"#bd3786\"], [0.5555555555555556, \"#d8576b\"], [0.6666666666666666, \"#ed7953\"], [0.7777777777777778, \"#fb9f3a\"], [0.8888888888888888, \"#fdca26\"], [1.0, \"#f0f921\"]], \"type\": \"heatmap\"}], \"heatmapgl\": [{\"colorbar\": {\"outlinewidth\": 0, \"ticks\": \"\"}, \"colorscale\": [[0.0, \"#0d0887\"], [0.1111111111111111, \"#46039f\"], [0.2222222222222222, \"#7201a8\"], [0.3333333333333333, \"#9c179e\"], [0.4444444444444444, \"#bd3786\"], [0.5555555555555556, \"#d8576b\"], [0.6666666666666666, \"#ed7953\"], [0.7777777777777778, \"#fb9f3a\"], [0.8888888888888888, \"#fdca26\"], [1.0, \"#f0f921\"]], \"type\": \"heatmapgl\"}], \"histogram\": [{\"marker\": {\"colorbar\": {\"outlinewidth\": 0, \"ticks\": \"\"}}, \"type\": \"histogram\"}], \"histogram2d\": [{\"colorbar\": {\"outlinewidth\": 0, \"ticks\": \"\"}, \"colorscale\": [[0.0, \"#0d0887\"], [0.1111111111111111, \"#46039f\"], [0.2222222222222222, \"#7201a8\"], [0.3333333333333333, \"#9c179e\"], [0.4444444444444444, \"#bd3786\"], [0.5555555555555556, \"#d8576b\"], [0.6666666666666666, \"#ed7953\"], [0.7777777777777778, \"#fb9f3a\"], [0.8888888888888888, \"#fdca26\"], [1.0, \"#f0f921\"]], \"type\": \"histogram2d\"}], \"histogram2dcontour\": [{\"colorbar\": {\"outlinewidth\": 0, \"ticks\": \"\"}, \"colorscale\": [[0.0, \"#0d0887\"], [0.1111111111111111, \"#46039f\"], [0.2222222222222222, \"#7201a8\"], [0.3333333333333333, \"#9c179e\"], [0.4444444444444444, \"#bd3786\"], [0.5555555555555556, \"#d8576b\"], [0.6666666666666666, \"#ed7953\"], [0.7777777777777778, \"#fb9f3a\"], [0.8888888888888888, \"#fdca26\"], [1.0, \"#f0f921\"]], \"type\": \"histogram2dcontour\"}], \"mesh3d\": [{\"colorbar\": {\"outlinewidth\": 0, \"ticks\": \"\"}, \"type\": \"mesh3d\"}], \"parcoords\": [{\"line\": {\"colorbar\": {\"outlinewidth\": 0, \"ticks\": \"\"}}, \"type\": \"parcoords\"}], \"pie\": [{\"automargin\": true, \"type\": \"pie\"}], \"scatter\": [{\"marker\": {\"colorbar\": {\"outlinewidth\": 0, \"ticks\": \"\"}}, \"type\": \"scatter\"}], \"scatter3d\": [{\"line\": {\"colorbar\": {\"outlinewidth\": 0, \"ticks\": \"\"}}, \"marker\": {\"colorbar\": {\"outlinewidth\": 0, \"ticks\": \"\"}}, \"type\": \"scatter3d\"}], \"scattercarpet\": [{\"marker\": {\"colorbar\": {\"outlinewidth\": 0, \"ticks\": \"\"}}, \"type\": \"scattercarpet\"}], \"scattergeo\": [{\"marker\": {\"colorbar\": {\"outlinewidth\": 0, \"ticks\": \"\"}}, \"type\": \"scattergeo\"}], \"scattergl\": [{\"marker\": {\"colorbar\": {\"outlinewidth\": 0, \"ticks\": \"\"}}, \"type\": \"scattergl\"}], \"scattermapbox\": [{\"marker\": {\"colorbar\": {\"outlinewidth\": 0, \"ticks\": \"\"}}, \"type\": \"scattermapbox\"}], \"scatterpolar\": [{\"marker\": {\"colorbar\": {\"outlinewidth\": 0, \"ticks\": \"\"}}, \"type\": \"scatterpolar\"}], \"scatterpolargl\": [{\"marker\": {\"colorbar\": {\"outlinewidth\": 0, \"ticks\": \"\"}}, \"type\": \"scatterpolargl\"}], \"scatterternary\": [{\"marker\": {\"colorbar\": {\"outlinewidth\": 0, \"ticks\": \"\"}}, \"type\": \"scatterternary\"}], \"surface\": [{\"colorbar\": {\"outlinewidth\": 0, \"ticks\": \"\"}, \"colorscale\": [[0.0, \"#0d0887\"], [0.1111111111111111, \"#46039f\"], [0.2222222222222222, \"#7201a8\"], [0.3333333333333333, \"#9c179e\"], [0.4444444444444444, \"#bd3786\"], [0.5555555555555556, \"#d8576b\"], [0.6666666666666666, \"#ed7953\"], [0.7777777777777778, \"#fb9f3a\"], [0.8888888888888888, \"#fdca26\"], [1.0, \"#f0f921\"]], \"type\": \"surface\"}], \"table\": [{\"cells\": {\"fill\": {\"color\": \"#EBF0F8\"}, \"line\": {\"color\": \"white\"}}, \"header\": {\"fill\": {\"color\": \"#C8D4E3\"}, \"line\": {\"color\": \"white\"}}, \"type\": \"table\"}]}, \"layout\": {\"annotationdefaults\": {\"arrowcolor\": \"#2a3f5f\", \"arrowhead\": 0, \"arrowwidth\": 1}, \"coloraxis\": {\"colorbar\": {\"outlinewidth\": 0, \"ticks\": \"\"}}, \"colorscale\": {\"diverging\": [[0, \"#8e0152\"], [0.1, \"#c51b7d\"], [0.2, \"#de77ae\"], [0.3, \"#f1b6da\"], [0.4, \"#fde0ef\"], [0.5, \"#f7f7f7\"], [0.6, \"#e6f5d0\"], [0.7, \"#b8e186\"], [0.8, \"#7fbc41\"], [0.9, \"#4d9221\"], [1, \"#276419\"]], \"sequential\": [[0.0, \"#0d0887\"], [0.1111111111111111, \"#46039f\"], [0.2222222222222222, \"#7201a8\"], [0.3333333333333333, \"#9c179e\"], [0.4444444444444444, \"#bd3786\"], [0.5555555555555556, \"#d8576b\"], [0.6666666666666666, \"#ed7953\"], [0.7777777777777778, \"#fb9f3a\"], [0.8888888888888888, \"#fdca26\"], [1.0, \"#f0f921\"]], \"sequentialminus\": [[0.0, \"#0d0887\"], [0.1111111111111111, \"#46039f\"], [0.2222222222222222, \"#7201a8\"], [0.3333333333333333, \"#9c179e\"], [0.4444444444444444, \"#bd3786\"], [0.5555555555555556, \"#d8576b\"], [0.6666666666666666, \"#ed7953\"], [0.7777777777777778, \"#fb9f3a\"], [0.8888888888888888, \"#fdca26\"], [1.0, \"#f0f921\"]]}, \"colorway\": [\"#636efa\", \"#EF553B\", \"#00cc96\", \"#ab63fa\", \"#FFA15A\", \"#19d3f3\", \"#FF6692\", \"#B6E880\", \"#FF97FF\", \"#FECB52\"], \"font\": {\"color\": \"#2a3f5f\"}, \"geo\": {\"bgcolor\": \"white\", \"lakecolor\": \"white\", \"landcolor\": \"#E5ECF6\", \"showlakes\": true, \"showland\": true, \"subunitcolor\": \"white\"}, \"hoverlabel\": {\"align\": \"left\"}, \"hovermode\": \"closest\", \"mapbox\": {\"style\": \"light\"}, \"paper_bgcolor\": \"white\", \"plot_bgcolor\": \"#E5ECF6\", \"polar\": {\"angularaxis\": {\"gridcolor\": \"white\", \"linecolor\": \"white\", \"ticks\": \"\"}, \"bgcolor\": \"#E5ECF6\", \"radialaxis\": {\"gridcolor\": \"white\", \"linecolor\": \"white\", \"ticks\": \"\"}}, \"scene\": {\"xaxis\": {\"backgroundcolor\": \"#E5ECF6\", \"gridcolor\": \"white\", \"gridwidth\": 2, \"linecolor\": \"white\", \"showbackground\": true, \"ticks\": \"\", \"zerolinecolor\": \"white\"}, \"yaxis\": {\"backgroundcolor\": \"#E5ECF6\", \"gridcolor\": \"white\", \"gridwidth\": 2, \"linecolor\": \"white\", \"showbackground\": true, \"ticks\": \"\", \"zerolinecolor\": \"white\"}, \"zaxis\": {\"backgroundcolor\": \"#E5ECF6\", \"gridcolor\": \"white\", \"gridwidth\": 2, \"linecolor\": \"white\", \"showbackground\": true, \"ticks\": \"\", \"zerolinecolor\": \"white\"}}, \"shapedefaults\": {\"line\": {\"color\": \"#2a3f5f\"}}, \"ternary\": {\"aaxis\": {\"gridcolor\": \"white\", \"linecolor\": \"white\", \"ticks\": \"\"}, \"baxis\": {\"gridcolor\": \"white\", \"linecolor\": \"white\", \"ticks\": \"\"}, \"bgcolor\": \"#E5ECF6\", \"caxis\": {\"gridcolor\": \"white\", \"linecolor\": \"white\", \"ticks\": \"\"}}, \"title\": {\"x\": 0.05}, \"xaxis\": {\"automargin\": true, \"gridcolor\": \"white\", \"linecolor\": \"white\", \"ticks\": \"\", \"title\": {\"standoff\": 15}, \"zerolinecolor\": \"white\", \"zerolinewidth\": 2}, \"yaxis\": {\"automargin\": true, \"gridcolor\": \"white\", \"linecolor\": \"white\", \"ticks\": \"\", \"title\": {\"standoff\": 15}, \"zerolinecolor\": \"white\", \"zerolinewidth\": 2}}}},                        {\"responsive\": true}                    ).then(function(){\n",
       "                            \n",
       "var gd = document.getElementById('f4d98fa9-3f80-4119-8f0b-32f09e45d7ce');\n",
       "var x = new MutationObserver(function (mutations, observer) {{\n",
       "        var display = window.getComputedStyle(gd).display;\n",
       "        if (!display || display === 'none') {{\n",
       "            console.log([gd, 'removed!']);\n",
       "            Plotly.purge(gd);\n",
       "            observer.disconnect();\n",
       "        }}\n",
       "}});\n",
       "\n",
       "// Listen for the removal of the full notebook cells\n",
       "var notebookContainer = gd.closest('#notebook-container');\n",
       "if (notebookContainer) {{\n",
       "    x.observe(notebookContainer, {childList: true});\n",
       "}}\n",
       "\n",
       "// Listen for the clearing of the current output cell\n",
       "var outputEl = gd.closest('.output');\n",
       "if (outputEl) {{\n",
       "    x.observe(outputEl, {childList: true});\n",
       "}}\n",
       "\n",
       "                        })                };                });            </script>        </div>"
      ]
     },
     "metadata": {},
     "output_type": "display_data"
    }
   ],
   "source": [
    "fig = px.choropleth(result,geojson=geojson,color='Т',\n",
    "                    featureidkey=\"properties.NAME\",\n",
    "                    projection=\"mercator\",locations=\"city\"\n",
    "                   )\n",
    "fig.update_geos(fitbounds=\"geojson\", visible=False)\n",
    "fig.show()"
   ]
  },
  {
   "cell_type": "code",
   "execution_count": null,
   "metadata": {},
   "outputs": [],
   "source": []
  }
 ],
 "metadata": {
  "kernelspec": {
   "display_name": "Python 3",
   "language": "python",
   "name": "python3"
  },
  "language_info": {
   "codemirror_mode": {
    "name": "ipython",
    "version": 3
   },
   "file_extension": ".py",
   "mimetype": "text/x-python",
   "name": "python",
   "nbconvert_exporter": "python",
   "pygments_lexer": "ipython3",
   "version": "3.9.0"
  }
 },
 "nbformat": 4,
 "nbformat_minor": 4
}
